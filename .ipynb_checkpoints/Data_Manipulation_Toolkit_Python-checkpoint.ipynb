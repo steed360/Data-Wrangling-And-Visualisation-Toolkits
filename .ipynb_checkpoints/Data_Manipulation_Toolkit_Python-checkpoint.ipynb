{
 "cells": [
  {
   "cell_type": "markdown",
   "metadata": {},
   "source": [
    "## PANDAS DATA MANIPULATION QUICK RECIPES\n",
    "John Steedman, 27/09/2022"
   ]
  },
  {
   "cell_type": "markdown",
   "metadata": {},
   "source": [
    "## Contents  <a class=\"anchor\" id=\"Home\"></a>\n",
    "\n",
    "\n",
    "#### Get Data\n",
    "* [Start Here](#SS1)\n",
    "\n",
    "\n",
    "#### Simple Operations\n",
    "\n",
    "* [Number of rows in the dataset](#A1)\n",
    "* [First 100 Rows](#A2)\n",
    "* [Set Data Types](#A3)\n",
    "* [Create Date from String](#A4)\n",
    "* [Get Unique Values (one column)](#A5)\n",
    "* [Get Unique Values (multiple columns)](#A6)\n",
    "* [Add a new column](#A7)\n",
    "\n",
    "#### Selecting, Filtering and Updating\n",
    "\n",
    "* [Filter rows based on one or more conditions (one condition)](#B1)\n",
    "* [Filter rows based on one or more conditions (multiple conditions)](#B2)\n",
    "* [Filter rows negating conditions](#B3)\n",
    "* [Filter rows specifying one condition or the other](#B4)\n",
    "* [Updating based on a selection](#B5)\n",
    "* [Reorder Columns](#B7)\n",
    "* [Delete Columns](#B8)\n",
    "* [Rename Columns](#B9)\n",
    "* [Filter based on String ( wildcard )](#B10)\n",
    "\n",
    "\n",
    "#### Sorting\n",
    "\n",
    "* [Sorting based on one column](#C1)\n",
    "* [Sorting based on multiple columns](#C2)\n",
    "\n",
    "\n",
    "#### Aggregate/Summarise\n",
    "\n",
    "* [Aggregate over one or more  columns using a variety of functions (sum,mean etc)](#D1)\n",
    "* [Quick counts across multiple combinations - simpler version of above but very useful (table in R)](#D2)\n",
    "* [Find all distinct values across a range of columns (make a dimension table)](#D3)\n",
    "* [Sum over case statements returning 0 or 1](#D4)\n",
    "* [Contingency Table](#D5)\n",
    "\n",
    "\n",
    "#### Derived Columns ( Categorization)\n",
    "\n",
    "* [Case Statement](#E1)\n",
    "* [Nested Case Statement](#E2)\n",
    "* [Band numeric values to categories](#E3)\n",
    "* [TODO Group up infrequent or low impact \"Other\" Values](#E4)\n",
    "\n",
    "\n",
    "\n",
    "#### Derived Columns 2 (Window Functions)\n",
    "\n",
    "* [Count Within Group](#F1)\n",
    "\n",
    "\n",
    "#### Derived Columns 3 (Dates)\n",
    "\n",
    "* [Obtain First Occurrence of Date Within Group](#G1)\n",
    "* [Days till Event](#G2)\n",
    "* [Date add](#G3)\n",
    "* [Extract Year/Month from Date](#G4)\n",
    "\n",
    "\n",
    "####  Derived Columns 4 (More Windows and Functions)\n",
    "\n",
    "* [Add a partition based ranking, e.g. sales rank within a category](#H1)\n",
    "* [Add a partition based ranking, e.g. sales rank within two category columns](#H2)\n",
    "* [Bring down values from a previous row, e.g. the previous transaction date within accountID group](#H3)\n",
    "* [Update a value based on a function that takes in two existing columns](#H4)\n",
    "* [Add two column values together](#H5)\n",
    "* [Update a slice of values based on an index sl](#H6)\n",
    "\n",
    "####  Derived Columns 5 (String Functions)\n",
    "\n",
    "* [Split strings](#I1)\n",
    "* [Extract a substring](#I2)\n",
    "* [Trim a String](#I3)\n",
    "\n",
    "#### Reshaping Data\n",
    "\n",
    "* [Pivot](#J1)\n",
    "* [Unpivot](#J2)\n",
    "* [Pivoting 2+ columns values](#J3)\n",
    "\n",
    "#### Linking Two Data Tables\n",
    "\n",
    "* [Left Join ](#K1)\n",
    "* [Union](#K2)\n",
    "\n",
    "#### Data Cleaning - Null and Blank Values\n",
    "Nulls are ignored in pandas even in counting rows.\n",
    "\n",
    "* [Identify and Replace Nulls](#L1)\n",
    "* [Identify and Replace Blank Strings](#L2)\n",
    "* [TODO: Remove White Space Invisible Characters](#L2)\n",
    "\n",
    "#### Data Cleaning - Duplicate Values\n",
    "\n",
    "* [Flag duplicates across a set of columns](#M1)\n",
    "* [Drop duplicates across a set of columns](#M2)\n",
    "\n",
    "#### Data Profiling - \n",
    "\n",
    "* [TODO: Summary statistics for a numerical value](#O1)\n",
    "* [TODO: Counts for a categorical Value](#O2)\n",
    "\n",
    "#### Other/Various\n",
    "\n",
    "* [TODO: Historic snapshots from transactions](#O1)\n",
    "* [TODO: Iterate through data frame](#O2)\n",
    "* [TODO: TopN across groups](#O2)\n",
    "\n"
   ]
  },
  {
   "cell_type": "markdown",
   "metadata": {},
   "source": [
    "## Obtain Sample Dataset <a class=\"anchor\" id=\"SS1\"></a>"
   ]
  },
  {
   "cell_type": "code",
   "execution_count": 3,
   "metadata": {},
   "outputs": [],
   "source": [
    "import numpy as np\n",
    "import pandas as pd\n",
    "import requests\n",
    "\n",
    "#https://github.com/microsoft/DataStoriesSamples/tree/master/samples/FraudDetectionOnADL\n",
    "data_url = \"https://raw.githubusercontent.com/microsoft/DataStoriesSamples/master/samples/FraudDetectionOnADL/Data/transactions.csv\"\n",
    "df = pd.read_csv ( data_url )\n"
   ]
  },
  {
   "cell_type": "code",
   "execution_count": 4,
   "metadata": {},
   "outputs": [],
   "source": [
    "cols = [  'accountID'             , 'transactionID'\n",
    "        , 'transactionAmountUSD'  ,'transactionCurrencyCode' \n",
    "        , 'localHour'             , 'transactionScenario' \n",
    "        , 'transactionType'       , 'transactionIPaddress' \n",
    "        , 'ipState'               , 'ipPostalCode' \n",
    "        , 'ipCountry'             , 'isProxyIP' \n",
    "        , 'browserLanguage'       , 'paymentInstrumentType' \n",
    "        , 'cardType' \n",
    "        , 'paymentBillingPostalCode' \n",
    "        , 'paymentBillingState' \n",
    "        , 'paymentBillingCountryCode' \n",
    "        , 'shippingPostalCode' \n",
    "        , 'shippingState' \n",
    "        ,  'shippingCountry' \n",
    "        , 'cvvVerifyResult' \n",
    "        , 'digitalItemCount'\n",
    "        , 'physicalItemCount'\n",
    "        , 'transactionDateTime' ]"
   ]
  },
  {
   "cell_type": "code",
   "execution_count": 5,
   "metadata": {},
   "outputs": [],
   "source": [
    "df.columns = cols"
   ]
  },
  {
   "cell_type": "code",
   "execution_count": 6,
   "metadata": {},
   "outputs": [
    {
     "data": {
      "text/plain": [
       "(20000, 25)"
      ]
     },
     "execution_count": 6,
     "metadata": {},
     "output_type": "execute_result"
    }
   ],
   "source": [
    "# This is a 1/2 milllion rows so just filter to the first 20,000 while practicing\n",
    "# (later ignore this step to check processing speed)\n",
    "df = df.iloc [ 0:20000,  ]\n",
    "df.shape"
   ]
  },
  {
   "cell_type": "markdown",
   "metadata": {},
   "source": [
    "[Back to contents](#Home)"
   ]
  },
  {
   "cell_type": "markdown",
   "metadata": {},
   "source": [
    "### Simple Operations"
   ]
  },
  {
   "cell_type": "markdown",
   "metadata": {},
   "source": [
    "#### Number of Rows in Dataset  <a class=\"anchor\" id=\"A1\"></a>"
   ]
  },
  {
   "cell_type": "code",
   "execution_count": 7,
   "metadata": {},
   "outputs": [
    {
     "data": {
      "text/plain": [
       "20000"
      ]
     },
     "execution_count": 7,
     "metadata": {},
     "output_type": "execute_result"
    }
   ],
   "source": [
    "len(df.index)\n",
    "# Or the following\n",
    "df.shape[0]\n",
    "# This below will ignore NA in it's counting so use with care.\n",
    "df[df.columns[0]].count()"
   ]
  },
  {
   "cell_type": "markdown",
   "metadata": {},
   "source": [
    "[Back to contents](#Home)"
   ]
  },
  {
   "cell_type": "markdown",
   "metadata": {},
   "source": [
    "#### First 100 Rows<a class=\"anchor\" id=\"A2\"></a>"
   ]
  },
  {
   "cell_type": "code",
   "execution_count": 8,
   "metadata": {},
   "outputs": [
    {
     "data": {
      "text/plain": [
       "(100, 25)"
      ]
     },
     "execution_count": 8,
     "metadata": {},
     "output_type": "execute_result"
    }
   ],
   "source": [
    "df_res = df.iloc [0:100,]\n",
    "df_res.shape"
   ]
  },
  {
   "cell_type": "markdown",
   "metadata": {},
   "source": [
    "[Back to contents](#Home)"
   ]
  },
  {
   "cell_type": "markdown",
   "metadata": {},
   "source": [
    "#### Set data types <a class=\"anchor\" id=\"A3\"></a>"
   ]
  },
  {
   "cell_type": "code",
   "execution_count": 9,
   "metadata": {},
   "outputs": [
    {
     "data": {
      "text/plain": [
       "string[python]"
      ]
     },
     "execution_count": 9,
     "metadata": {},
     "output_type": "execute_result"
    }
   ],
   "source": [
    "df.transactionCurrencyCode = df.transactionCurrencyCode.astype ('string')\n",
    "df.paymentBillingCountryCode = df.paymentBillingCountryCode.astype ('string')\n",
    "df.transactionCurrencyCode.dtype"
   ]
  },
  {
   "cell_type": "markdown",
   "metadata": {},
   "source": [
    "[Back to contents](#Home)"
   ]
  },
  {
   "cell_type": "markdown",
   "metadata": {},
   "source": [
    "#### Create date from String <a class=\"anchor\" id=\"A4\"></a>"
   ]
  },
  {
   "cell_type": "code",
   "execution_count": 10,
   "metadata": {},
   "outputs": [],
   "source": [
    "#https://docs.python.org/3/library/datetime.html#strftime-and-strptime-behavior\n",
    "df['transactionDateTime_str'] = df['transactionDateTime'].astype ('string')\n",
    "\n",
    "# 5/16/2007 11:37\n",
    "# Split the date time into just the date part\n",
    "\n",
    "df['transactionDate_str'] = df['transactionDateTime_str'].str.split (expand=True).loc [ : , 0 ]\n",
    "df ['transactionDate']    = pd.to_datetime(df['transactionDate_str'] , format='%m/%d/%Y', errors='coerce' ) \n"
   ]
  },
  {
   "cell_type": "markdown",
   "metadata": {},
   "source": [
    "[Back to contents](#Home)"
   ]
  },
  {
   "cell_type": "markdown",
   "metadata": {},
   "source": [
    "#### Get Unique Values (One Column) <a class=\"anchor\" id=\"A5\"></a>"
   ]
  },
  {
   "cell_type": "code",
   "execution_count": 11,
   "metadata": {},
   "outputs": [
    {
     "data": {
      "text/plain": [
       "<StringArray>\n",
       "['USD', 'BRL', 'AUD', 'EUR', 'SEK', 'DKK', 'SGD', 'GBP', 'NOK', 'MXN']\n",
       "Length: 10, dtype: string"
      ]
     },
     "execution_count": 11,
     "metadata": {},
     "output_type": "execute_result"
    }
   ],
   "source": [
    "df.transactionCurrencyCode.unique()  [0: 9+1]"
   ]
  },
  {
   "cell_type": "code",
   "execution_count": 12,
   "metadata": {},
   "outputs": [
    {
     "data": {
      "text/plain": [
       "USD    13850\n",
       "EUR     1548\n",
       "GBP     1146\n",
       "CAD      925\n",
       "AUD      572\n",
       "BRL      266\n",
       "JPY      177\n",
       "NOK      172\n",
       "SEK      158\n",
       "DKK      152\n",
       "Name: transactionCurrencyCode, dtype: Int64"
      ]
     },
     "execution_count": 12,
     "metadata": {},
     "output_type": "execute_result"
    }
   ],
   "source": [
    "# Or why not count hem \n",
    "df.transactionCurrencyCode.value_counts () [0:9+1]"
   ]
  },
  {
   "cell_type": "markdown",
   "metadata": {},
   "source": [
    "[Back to contents](#Home)"
   ]
  },
  {
   "cell_type": "markdown",
   "metadata": {},
   "source": [
    "#### Get Unique Values (Multiple Columns) <a class=\"anchor\" id=\"A6\"></a>"
   ]
  },
  {
   "cell_type": "code",
   "execution_count": 13,
   "metadata": {},
   "outputs": [
    {
     "data": {
      "text/html": [
       "<div>\n",
       "<style scoped>\n",
       "    .dataframe tbody tr th:only-of-type {\n",
       "        vertical-align: middle;\n",
       "    }\n",
       "\n",
       "    .dataframe tbody tr th {\n",
       "        vertical-align: top;\n",
       "    }\n",
       "\n",
       "    .dataframe thead th {\n",
       "        text-align: right;\n",
       "    }\n",
       "</style>\n",
       "<table border=\"1\" class=\"dataframe\">\n",
       "  <thead>\n",
       "    <tr style=\"text-align: right;\">\n",
       "      <th></th>\n",
       "      <th>transactionCurrencyCode</th>\n",
       "      <th>paymentBillingCountryCode</th>\n",
       "    </tr>\n",
       "  </thead>\n",
       "  <tbody>\n",
       "    <tr>\n",
       "      <th>660</th>\n",
       "      <td>KES</td>\n",
       "      <td>US</td>\n",
       "    </tr>\n",
       "    <tr>\n",
       "      <th>661</th>\n",
       "      <td>MYR</td>\n",
       "      <td>GB</td>\n",
       "    </tr>\n",
       "    <tr>\n",
       "      <th>662</th>\n",
       "      <td>CZK</td>\n",
       "      <td>CH</td>\n",
       "    </tr>\n",
       "  </tbody>\n",
       "</table>\n",
       "</div>"
      ],
      "text/plain": [
       "    transactionCurrencyCode paymentBillingCountryCode\n",
       "660                     KES                        US\n",
       "661                     MYR                        GB\n",
       "662                     CZK                        CH"
      ]
     },
     "execution_count": 13,
     "metadata": {},
     "output_type": "execute_result"
    }
   ],
   "source": [
    "req_cols = ['transactionCurrencyCode', 'paymentBillingCountryCode' ]\n",
    "df_sel = df [req_cols]\n",
    "#df_sel.drop_duplicates().head()\n",
    "# or with a new index\n",
    "df_sel.drop_duplicates().reset_index(drop=True).tail(3) # 662 rows"
   ]
  },
  {
   "cell_type": "markdown",
   "metadata": {},
   "source": [
    "[Back to contents](#Home)"
   ]
  },
  {
   "cell_type": "markdown",
   "metadata": {},
   "source": [
    "#### Add a new column <a class=\"anchor\" id=\"A7\"></a>"
   ]
  },
  {
   "cell_type": "code",
   "execution_count": 890,
   "metadata": {},
   "outputs": [],
   "source": [
    "df['BILLED_IN_US'] = 'No'"
   ]
  },
  {
   "cell_type": "markdown",
   "metadata": {},
   "source": [
    "[Back to contents](#Home)"
   ]
  },
  {
   "cell_type": "markdown",
   "metadata": {},
   "source": [
    "# Selection, Filtering and Updating"
   ]
  },
  {
   "cell_type": "markdown",
   "metadata": {},
   "source": [
    "#### Filter rows based on one or more conditions (one condition)<a class=\"anchor\" id=\"B1\"></a>"
   ]
  },
  {
   "cell_type": "code",
   "execution_count": 891,
   "metadata": {},
   "outputs": [
    {
     "data": {
      "text/plain": [
       "'US'"
      ]
     },
     "execution_count": 891,
     "metadata": {},
     "output_type": "execute_result"
    }
   ],
   "source": [
    "# Method 1 : boolean indexing, note that numpy will throw an error is there are nas\n",
    "df_res = df [ df['paymentBillingCountryCode'].fillna('') == 'US' ]\n",
    "df_res.paymentBillingCountryCode.unique() [0]"
   ]
  },
  {
   "cell_type": "code",
   "execution_count": 892,
   "metadata": {},
   "outputs": [],
   "source": [
    "# Method 2: \n",
    "# Is there a better way?"
   ]
  },
  {
   "cell_type": "markdown",
   "metadata": {},
   "source": [
    "[Back to contents](#Home)"
   ]
  },
  {
   "cell_type": "markdown",
   "metadata": {},
   "source": [
    "#### Filter rows based on one or more conditions (multiple conditions)<a class=\"anchor\" id=\"B2\"></a>"
   ]
  },
  {
   "cell_type": "code",
   "execution_count": 893,
   "metadata": {},
   "outputs": [
    {
     "data": {
      "text/plain": [
       "transactionCurrencyCode    175\n",
       "paymentBillingState        175\n",
       "dtype: int64"
      ]
     },
     "execution_count": 893,
     "metadata": {},
     "output_type": "execute_result"
    }
   ],
   "source": [
    "# Method: booleanIndexindexing, note the brackets\n",
    "boolIndex = ( df['transactionCurrencyCode'].fillna('') == 'USD' ) & \\\n",
    "            ( df['paymentBillingState'].fillna('') == 'AZ'  )\n",
    "\n",
    "# or, whichi is probably better:\n",
    "boolIndex = \\\n",
    "np.logical_and ( df['transactionCurrencyCode'].fillna('') == 'USD' , \\\n",
    "                 df['paymentBillingState'].fillna('') == 'AZ' )\n",
    "\n",
    "df_res = df [ boolIndex ]\n",
    "df_res [['transactionCurrencyCode', 'paymentBillingState']].reset_index(drop=True).drop_duplicates()\n",
    "df_res [['transactionCurrencyCode', 'paymentBillingState']].count()"
   ]
  },
  {
   "cell_type": "markdown",
   "metadata": {},
   "source": [
    "[Back to contents](#Home)"
   ]
  },
  {
   "cell_type": "markdown",
   "metadata": {},
   "source": [
    "####  Filter rows negating conditions<a class=\"anchor\" id=\"B3\"></a>"
   ]
  },
  {
   "cell_type": "code",
   "execution_count": 894,
   "metadata": {},
   "outputs": [
    {
     "data": {
      "text/plain": [
       "transactionCurrencyCode    20000\n",
       "paymentBillingState        14289\n",
       "dtype: int64"
      ]
     },
     "execution_count": 894,
     "metadata": {},
     "output_type": "execute_result"
    }
   ],
   "source": [
    "boolIndex = ~(( df['transactionCurrencyCode'].fillna('') == 'USD' ) & \\\n",
    "              ( df['paymentBillingState'].fillna('') == 'AZ'  ))\n",
    "\n",
    "df_res = df [ boolIndex ]\n",
    "df_res [['transactionCurrencyCode', 'paymentBillingState']].count() + 175"
   ]
  },
  {
   "cell_type": "markdown",
   "metadata": {},
   "source": [
    "[Back to contents](#Home)"
   ]
  },
  {
   "cell_type": "markdown",
   "metadata": {},
   "source": [
    "####  Filter rows specifying one condition or the other<a class=\"anchor\" id=\"B4\"></a>"
   ]
  },
  {
   "cell_type": "code",
   "execution_count": 895,
   "metadata": {},
   "outputs": [
    {
     "data": {
      "text/plain": [
       "transactionCurrencyCode    13922\n",
       "paymentBillingState         9947\n",
       "dtype: int64"
      ]
     },
     "execution_count": 895,
     "metadata": {},
     "output_type": "execute_result"
    }
   ],
   "source": [
    "boolIndex = (  df['transactionCurrencyCode'].fillna('') == 'USD' ) | \\\n",
    "            ( df['paymentBillingState'].fillna('') == 'AZ'  )\n",
    "\n",
    "df_res = df [ boolIndex ]\n",
    "df_res [['transactionCurrencyCode', 'paymentBillingState']].count() "
   ]
  },
  {
   "cell_type": "markdown",
   "metadata": {},
   "source": [
    "[Back to contents](#Home)"
   ]
  },
  {
   "cell_type": "markdown",
   "metadata": {},
   "source": [
    "#### Updating based on a selection<a class=\"anchor\" id=\"B5\"></a>"
   ]
  },
  {
   "cell_type": "code",
   "execution_count": 896,
   "metadata": {},
   "outputs": [
    {
     "data": {
      "text/plain": [
       "GB    1307\n",
       "CA     888\n",
       "AU     681\n",
       "DE     488\n",
       "Name: paymentBillingCountryCode, dtype: Int64"
      ]
     },
     "execution_count": 896,
     "metadata": {},
     "output_type": "execute_result"
    }
   ],
   "source": [
    "boolIndex = (  df['paymentBillingCountryCode'].fillna('') == 'US' )\n",
    "df.loc [   boolIndex  ,'BILLED_IN_US'  ] = 'Yes'\n",
    "df [~boolIndex] ['paymentBillingCountryCode'].value_counts() [0: 5-1]"
   ]
  },
  {
   "cell_type": "markdown",
   "metadata": {},
   "source": [
    "[Back to contents](#Home)"
   ]
  },
  {
   "cell_type": "markdown",
   "metadata": {},
   "source": [
    "#### Select a set of columns<a class=\"anchor\" id=\"B6\"></a>"
   ]
  },
  {
   "cell_type": "code",
   "execution_count": 55,
   "metadata": {},
   "outputs": [
    {
     "data": {
      "text/html": [
       "<div>\n",
       "<style scoped>\n",
       "    .dataframe tbody tr th:only-of-type {\n",
       "        vertical-align: middle;\n",
       "    }\n",
       "\n",
       "    .dataframe tbody tr th {\n",
       "        vertical-align: top;\n",
       "    }\n",
       "\n",
       "    .dataframe thead th {\n",
       "        text-align: right;\n",
       "    }\n",
       "</style>\n",
       "<table border=\"1\" class=\"dataframe\">\n",
       "  <thead>\n",
       "    <tr style=\"text-align: right;\">\n",
       "      <th></th>\n",
       "      <th>paymentBillingCountryCode</th>\n",
       "      <th>transactionCurrencyCode</th>\n",
       "    </tr>\n",
       "  </thead>\n",
       "  <tbody>\n",
       "    <tr>\n",
       "      <th>0</th>\n",
       "      <td>GB</td>\n",
       "      <td>USD</td>\n",
       "    </tr>\n",
       "    <tr>\n",
       "      <th>1</th>\n",
       "      <td>US</td>\n",
       "      <td>USD</td>\n",
       "    </tr>\n",
       "  </tbody>\n",
       "</table>\n",
       "</div>"
      ],
      "text/plain": [
       "  paymentBillingCountryCode transactionCurrencyCode\n",
       "0                        GB                     USD\n",
       "1                        US                     USD"
      ]
     },
     "execution_count": 55,
     "metadata": {},
     "output_type": "execute_result"
    }
   ],
   "source": [
    "req_cols = [ 'paymentBillingCountryCode', 'transactionCurrencyCode' ]\n",
    "df [req_cols].head(2)"
   ]
  },
  {
   "cell_type": "markdown",
   "metadata": {},
   "source": [
    "[Back to contents](#Home)"
   ]
  },
  {
   "cell_type": "markdown",
   "metadata": {},
   "source": [
    "#### Reorder Columns  - as above.<a class=\"anchor\" id=\"B7\"></a>"
   ]
  },
  {
   "cell_type": "markdown",
   "metadata": {},
   "source": [
    "#### Delete column(s)<a class=\"anchor\" id=\"B8\"></a>"
   ]
  },
  {
   "cell_type": "code",
   "execution_count": 36,
   "metadata": {},
   "outputs": [
    {
     "data": {
      "text/plain": [
       "False"
      ]
     },
     "execution_count": 36,
     "metadata": {},
     "output_type": "execute_result"
    }
   ],
   "source": [
    "df_temp = df[0:10]\n",
    "# note the need for axis = 1 (argh)\n",
    "'accountID' in df_temp.drop ([  'accountID', 'transactionCurrencyCode'] , axis=1).columns"
   ]
  },
  {
   "cell_type": "markdown",
   "metadata": {},
   "source": [
    "[Back to contents](#Home)"
   ]
  },
  {
   "cell_type": "markdown",
   "metadata": {},
   "source": [
    "#### Rename Columns <a class=\"anchor\" id=\"B9\"></a>"
   ]
  },
  {
   "cell_type": "code",
   "execution_count": 899,
   "metadata": {},
   "outputs": [
    {
     "data": {
      "text/plain": [
       "Index(['account_id', 'transaction_eye_d', 'transactionAmountUSD',\n",
       "       'transactionCurrencyCode', 'localHour', 'transactionScenario',\n",
       "       'transactionType', 'transactionIPaddress', 'ipState', 'ipPostalCode',\n",
       "       'ipCountry', 'isProxyIP', 'browserLanguage', 'paymentInstrumentType',\n",
       "       'cardType', 'paymentBillingPostalCode', 'paymentBillingState',\n",
       "       'paymentBillingCountryCode', 'shippingPostalCode', 'shippingState',\n",
       "       'shippingCountry', 'cvvVerifyResult', 'digitalItemCount',\n",
       "       'physicalItemCount', 'transactionDateTime', 'transactionDateTime_str',\n",
       "       'transactionDate_str', 'transactionDate', 'BILLED_IN_US'],\n",
       "      dtype='object')"
      ]
     },
     "execution_count": 899,
     "metadata": {},
     "output_type": "execute_result"
    }
   ],
   "source": [
    "df_temp = df[0:10]\n",
    "df_temp.rename(columns={  'accountID': 'account_id'  \n",
    "                        , 'transactionID': 'transaction_eye_d' }) \\\n",
    "              .columns"
   ]
  },
  {
   "cell_type": "markdown",
   "metadata": {},
   "source": [
    "[Back to contents](#Home)"
   ]
  },
  {
   "cell_type": "markdown",
   "metadata": {},
   "source": [
    "#### Filter based on String ( wildcard )<a class=\"anchor\" id=\"B10\"></a>"
   ]
  },
  {
   "cell_type": "code",
   "execution_count": 900,
   "metadata": {},
   "outputs": [
    {
     "data": {
      "text/plain": [
       "26     south carolina\n",
       "38    new south wales\n",
       "47       south dakota\n",
       "54    new south wales\n",
       "55    new south wales\n",
       "Name: ipState, dtype: object"
      ]
     },
     "execution_count": 900,
     "metadata": {},
     "output_type": "execute_result"
    }
   ],
   "source": [
    "# page 212 of \n",
    "df [  df.ipState.fillna('').str.contains ('south') ] ['ipState'] [0:4+1]"
   ]
  },
  {
   "cell_type": "markdown",
   "metadata": {},
   "source": [
    "[Back to contents](#Home)"
   ]
  },
  {
   "cell_type": "markdown",
   "metadata": {},
   "source": [
    "## Ordering"
   ]
  },
  {
   "cell_type": "markdown",
   "metadata": {},
   "source": [
    "[Back to contents](#Home)"
   ]
  },
  {
   "cell_type": "markdown",
   "metadata": {},
   "source": [
    "#### Ordering based on one column<a class=\"anchor\" id=\"C1\"></a>"
   ]
  },
  {
   "cell_type": "code",
   "execution_count": 901,
   "metadata": {},
   "outputs": [
    {
     "data": {
      "text/plain": [
       "7604       zurich\n",
       "9282       zurich\n",
       "1245       zurich\n",
       "18089      zurich\n",
       "3256       zurich\n",
       "           ...   \n",
       "13342    a coruna\n",
       "1666          NaN\n",
       "3338          NaN\n",
       "5413          NaN\n",
       "10823         NaN\n",
       "Name: ipState, Length: 20000, dtype: object"
      ]
     },
     "execution_count": 901,
     "metadata": {},
     "output_type": "execute_result"
    }
   ],
   "source": [
    "df_res = df.sort_values ( ['ipState'] , ascending = False ) \n",
    "df_res['ipState'] "
   ]
  },
  {
   "cell_type": "markdown",
   "metadata": {},
   "source": [
    "[Back to contents](#Home)"
   ]
  },
  {
   "cell_type": "markdown",
   "metadata": {},
   "source": [
    "#### Ordering based on multiple columns<a class=\"anchor\" id=\"C2\"></a>"
   ]
  },
  {
   "cell_type": "code",
   "execution_count": 902,
   "metadata": {},
   "outputs": [
    {
     "data": {
      "text/html": [
       "<div>\n",
       "<style scoped>\n",
       "    .dataframe tbody tr th:only-of-type {\n",
       "        vertical-align: middle;\n",
       "    }\n",
       "\n",
       "    .dataframe tbody tr th {\n",
       "        vertical-align: top;\n",
       "    }\n",
       "\n",
       "    .dataframe thead th {\n",
       "        text-align: right;\n",
       "    }\n",
       "</style>\n",
       "<table border=\"1\" class=\"dataframe\">\n",
       "  <thead>\n",
       "    <tr style=\"text-align: right;\">\n",
       "      <th></th>\n",
       "      <th>ipState</th>\n",
       "      <th>accountID</th>\n",
       "    </tr>\n",
       "  </thead>\n",
       "  <tbody>\n",
       "    <tr>\n",
       "      <th>0</th>\n",
       "      <td>zurich</td>\n",
       "      <td>A5018736024291620</td>\n",
       "    </tr>\n",
       "    <tr>\n",
       "      <th>1</th>\n",
       "      <td>zurich</td>\n",
       "      <td>A8217517060477503</td>\n",
       "    </tr>\n",
       "    <tr>\n",
       "      <th>2</th>\n",
       "      <td>zurich</td>\n",
       "      <td>C2318401957742700</td>\n",
       "    </tr>\n",
       "    <tr>\n",
       "      <th>3</th>\n",
       "      <td>zurich</td>\n",
       "      <td>D8184933477543700</td>\n",
       "    </tr>\n",
       "    <tr>\n",
       "      <th>4</th>\n",
       "      <td>zurich</td>\n",
       "      <td>I5824243965868831</td>\n",
       "    </tr>\n",
       "  </tbody>\n",
       "</table>\n",
       "</div>"
      ],
      "text/plain": [
       "  ipState          accountID\n",
       "0  zurich  A5018736024291620\n",
       "1  zurich  A8217517060477503\n",
       "2  zurich  C2318401957742700\n",
       "3  zurich  D8184933477543700\n",
       "4  zurich  I5824243965868831"
      ]
     },
     "execution_count": 902,
     "metadata": {},
     "output_type": "execute_result"
    }
   ],
   "source": [
    "df_res = df.sort_values (  ['ipState', 'accountID' ], ascending=[False, True])\n",
    "\n",
    "df_res [ [ 'ipState', 'accountID'  ]].reset_index(drop=True) [0:9+1].head(5) "
   ]
  },
  {
   "cell_type": "markdown",
   "metadata": {},
   "source": [
    "[Back to contents](#Home)"
   ]
  },
  {
   "cell_type": "markdown",
   "metadata": {},
   "source": [
    "# Aggregate / Summarise"
   ]
  },
  {
   "cell_type": "markdown",
   "metadata": {},
   "source": [
    ".Aggregate over one or more  columns using a variety of functions (sum,mean etc)\n",
    ".Quick counts across multiple combinations - simpler version of above but very useful (table in R)\n",
    ".Find all distinct values across a range of columns (make a dimension table)\n"
   ]
  },
  {
   "cell_type": "markdown",
   "metadata": {},
   "source": [
    "#### Aggregate over one or more  columns using a variety of functions (sum,mean etc)<a class=\"anchor\" id=\"D1\"></a>"
   ]
  },
  {
   "cell_type": "code",
   "execution_count": 1001,
   "metadata": {},
   "outputs": [
    {
     "data": {
      "text/html": [
       "<div>\n",
       "<style scoped>\n",
       "    .dataframe tbody tr th:only-of-type {\n",
       "        vertical-align: middle;\n",
       "    }\n",
       "\n",
       "    .dataframe tbody tr th {\n",
       "        vertical-align: top;\n",
       "    }\n",
       "\n",
       "    .dataframe thead th {\n",
       "        text-align: right;\n",
       "    }\n",
       "</style>\n",
       "<table border=\"1\" class=\"dataframe\">\n",
       "  <thead>\n",
       "    <tr style=\"text-align: right;\">\n",
       "      <th></th>\n",
       "      <th>transactionAmountUSD_sum</th>\n",
       "    </tr>\n",
       "    <tr>\n",
       "      <th>ipCountry</th>\n",
       "      <th></th>\n",
       "    </tr>\n",
       "  </thead>\n",
       "  <tbody>\n",
       "    <tr>\n",
       "      <th>us</th>\n",
       "      <td>12988907.20</td>\n",
       "    </tr>\n",
       "    <tr>\n",
       "      <th>gb</th>\n",
       "      <td>1197224.58</td>\n",
       "    </tr>\n",
       "    <tr>\n",
       "      <th>ca</th>\n",
       "      <td>858710.14</td>\n",
       "    </tr>\n",
       "  </tbody>\n",
       "</table>\n",
       "</div>"
      ],
      "text/plain": [
       "           transactionAmountUSD_sum\n",
       "ipCountry                          \n",
       "us                      12988907.20\n",
       "gb                       1197224.58\n",
       "ca                        858710.14"
      ]
     },
     "execution_count": 1001,
     "metadata": {},
     "output_type": "execute_result"
    }
   ],
   "source": [
    "#https://stackoverflow.com/questions/12589481/multiple-aggregations-of-the-same-column-using-pandas-groupby-agg\n",
    "dfRes = df.groupby('ipCountry').agg(\n",
    "      transactionAmountUSD_sum=('transactionAmountUSD', 'sum')\n",
    "    , transactionAmountUSD_count=('transactionAmountUSD', 'count') ) \\\n",
    "    .sort_values('transactionAmountUSD_sum', ascending= [False] )\n",
    "\n",
    "dfRes[['transactionAmountUSD_sum']] [0: 2+1 ]\n"
   ]
  },
  {
   "cell_type": "markdown",
   "metadata": {},
   "source": [
    "[Back to contents](#Home)"
   ]
  },
  {
   "cell_type": "markdown",
   "metadata": {},
   "source": [
    "#### Quick counts across multiple combinations - simpler version of above but very useful (table in R)<a class=\"anchor\" id=\"D2\"></a>"
   ]
  },
  {
   "cell_type": "code",
   "execution_count": 904,
   "metadata": {},
   "outputs": [
    {
     "data": {
      "text/html": [
       "<div>\n",
       "<style scoped>\n",
       "    .dataframe tbody tr th:only-of-type {\n",
       "        vertical-align: middle;\n",
       "    }\n",
       "\n",
       "    .dataframe tbody tr th {\n",
       "        vertical-align: top;\n",
       "    }\n",
       "\n",
       "    .dataframe thead th {\n",
       "        text-align: right;\n",
       "    }\n",
       "</style>\n",
       "<table border=\"1\" class=\"dataframe\">\n",
       "  <thead>\n",
       "    <tr style=\"text-align: right;\">\n",
       "      <th></th>\n",
       "      <th>accountID</th>\n",
       "      <th>transactionAmountUSD</th>\n",
       "    </tr>\n",
       "    <tr>\n",
       "      <th>ipCountry</th>\n",
       "      <th></th>\n",
       "      <th></th>\n",
       "    </tr>\n",
       "  </thead>\n",
       "  <tbody>\n",
       "    <tr>\n",
       "      <th>ad</th>\n",
       "      <td>1</td>\n",
       "      <td>1</td>\n",
       "    </tr>\n",
       "    <tr>\n",
       "      <th>ae</th>\n",
       "      <td>21</td>\n",
       "      <td>21</td>\n",
       "    </tr>\n",
       "    <tr>\n",
       "      <th>af</th>\n",
       "      <td>12</td>\n",
       "      <td>12</td>\n",
       "    </tr>\n",
       "    <tr>\n",
       "      <th>al</th>\n",
       "      <td>1</td>\n",
       "      <td>1</td>\n",
       "    </tr>\n",
       "  </tbody>\n",
       "</table>\n",
       "</div>"
      ],
      "text/plain": [
       "           accountID  transactionAmountUSD\n",
       "ipCountry                                 \n",
       "ad                 1                     1\n",
       "ae                21                    21\n",
       "af                12                    12\n",
       "al                 1                     1"
      ]
     },
     "execution_count": 904,
     "metadata": {},
     "output_type": "execute_result"
    }
   ],
   "source": [
    "df.groupby ('ipCountry')[['accountID', 'transactionAmountUSD']].count ()[0:3+1]\n",
    "# This is still a bit slower than table() in R"
   ]
  },
  {
   "cell_type": "markdown",
   "metadata": {},
   "source": [
    "[Back to contents](#Home)"
   ]
  },
  {
   "cell_type": "markdown",
   "metadata": {},
   "source": [
    "#### Find all distinct values across a range of columns (make a dimension table)<a class=\"anchor\" id=\"D3\"></a>"
   ]
  },
  {
   "cell_type": "code",
   "execution_count": 905,
   "metadata": {},
   "outputs": [
    {
     "data": {
      "text/html": [
       "<div>\n",
       "<style scoped>\n",
       "    .dataframe tbody tr th:only-of-type {\n",
       "        vertical-align: middle;\n",
       "    }\n",
       "\n",
       "    .dataframe tbody tr th {\n",
       "        vertical-align: top;\n",
       "    }\n",
       "\n",
       "    .dataframe thead th {\n",
       "        text-align: right;\n",
       "    }\n",
       "</style>\n",
       "<table border=\"1\" class=\"dataframe\">\n",
       "  <thead>\n",
       "    <tr style=\"text-align: right;\">\n",
       "      <th></th>\n",
       "      <th>shippingCountry</th>\n",
       "      <th>transactionCurrencyCode</th>\n",
       "      <th>ipState</th>\n",
       "    </tr>\n",
       "  </thead>\n",
       "  <tbody>\n",
       "    <tr>\n",
       "      <th>2964</th>\n",
       "      <td>GB</td>\n",
       "      <td>MYR</td>\n",
       "      <td>bristol</td>\n",
       "    </tr>\n",
       "    <tr>\n",
       "      <th>2965</th>\n",
       "      <td>CZ</td>\n",
       "      <td>USD</td>\n",
       "      <td>british columbia</td>\n",
       "    </tr>\n",
       "    <tr>\n",
       "      <th>2966</th>\n",
       "      <td>JP</td>\n",
       "      <td>USD</td>\n",
       "      <td>niigata</td>\n",
       "    </tr>\n",
       "    <tr>\n",
       "      <th>2967</th>\n",
       "      <td>FR</td>\n",
       "      <td>GBP</td>\n",
       "      <td>herault</td>\n",
       "    </tr>\n",
       "    <tr>\n",
       "      <th>2968</th>\n",
       "      <td>CH</td>\n",
       "      <td>CZK</td>\n",
       "      <td>zuerich</td>\n",
       "    </tr>\n",
       "    <tr>\n",
       "      <th>2969</th>\n",
       "      <td>NaN</td>\n",
       "      <td>USD</td>\n",
       "      <td>guayas</td>\n",
       "    </tr>\n",
       "  </tbody>\n",
       "</table>\n",
       "</div>"
      ],
      "text/plain": [
       "     shippingCountry transactionCurrencyCode           ipState\n",
       "2964              GB                     MYR           bristol\n",
       "2965              CZ                     USD  british columbia\n",
       "2966              JP                     USD           niigata\n",
       "2967              FR                     GBP           herault\n",
       "2968              CH                     CZK           zuerich\n",
       "2969             NaN                     USD            guayas"
      ]
     },
     "execution_count": 905,
     "metadata": {},
     "output_type": "execute_result"
    }
   ],
   "source": [
    "# This was done above but repeating\n",
    "df[ ['shippingCountry', 'transactionCurrencyCode', 'ipState'] ].drop_duplicates().reset_index(drop=True).tail(6) # 662 rows"
   ]
  },
  {
   "cell_type": "markdown",
   "metadata": {},
   "source": [
    "[Back to contents](#Home)"
   ]
  },
  {
   "cell_type": "markdown",
   "metadata": {},
   "source": [
    "#### Sum over case statements returning 0 or 1<a class=\"anchor\" id=\"D4\"></a>\n",
    "This is a way in SQL build up lots of summary columns of the type: number_of_x, number_of_y\n",
    "<br> This seems quite long-winded\n"
   ]
  },
  {
   "cell_type": "code",
   "execution_count": 906,
   "metadata": {},
   "outputs": [
    {
     "data": {
      "text/html": [
       "<div>\n",
       "<style scoped>\n",
       "    .dataframe tbody tr th:only-of-type {\n",
       "        vertical-align: middle;\n",
       "    }\n",
       "\n",
       "    .dataframe tbody tr th {\n",
       "        vertical-align: top;\n",
       "    }\n",
       "\n",
       "    .dataframe thead th {\n",
       "        text-align: right;\n",
       "    }\n",
       "</style>\n",
       "<table border=\"1\" class=\"dataframe\">\n",
       "  <thead>\n",
       "    <tr style=\"text-align: right;\">\n",
       "      <th></th>\n",
       "      <th>num_in_office_hrs</th>\n",
       "      <th>num_with_VISA_AMEX</th>\n",
       "      <th>total</th>\n",
       "    </tr>\n",
       "    <tr>\n",
       "      <th>shippingCountry</th>\n",
       "      <th></th>\n",
       "      <th></th>\n",
       "      <th></th>\n",
       "    </tr>\n",
       "  </thead>\n",
       "  <tbody>\n",
       "    <tr>\n",
       "      <th>AD</th>\n",
       "      <td>1</td>\n",
       "      <td>1</td>\n",
       "      <td>2</td>\n",
       "    </tr>\n",
       "    <tr>\n",
       "      <th>AE</th>\n",
       "      <td>7</td>\n",
       "      <td>7</td>\n",
       "      <td>13</td>\n",
       "    </tr>\n",
       "    <tr>\n",
       "      <th>AF</th>\n",
       "      <td>1</td>\n",
       "      <td>3</td>\n",
       "      <td>3</td>\n",
       "    </tr>\n",
       "    <tr>\n",
       "      <th>AL</th>\n",
       "      <td>0</td>\n",
       "      <td>1</td>\n",
       "      <td>2</td>\n",
       "    </tr>\n",
       "    <tr>\n",
       "      <th>AN</th>\n",
       "      <td>1</td>\n",
       "      <td>1</td>\n",
       "      <td>1</td>\n",
       "    </tr>\n",
       "  </tbody>\n",
       "</table>\n",
       "</div>"
      ],
      "text/plain": [
       "                 num_in_office_hrs  num_with_VISA_AMEX  total\n",
       "shippingCountry                                              \n",
       "AD                               1                   1      2\n",
       "AE                               7                   7     13\n",
       "AF                               1                   3      3\n",
       "AL                               0                   1      2\n",
       "AN                               1                   1      1"
      ]
     },
     "execution_count": 906,
     "metadata": {},
     "output_type": "execute_result"
    }
   ],
   "source": [
    "# check for nulls as ever\n",
    "#df['localHour'].isna().value_counts()\n",
    "#df['cardType'].isna().value_counts() # has some nulls\n",
    "\n",
    "# Probably has to be done with temporary columns\n",
    "df['cond_office_hours'] = np.where ( np.logical_and (df.localHour <= 17, df.localHour >=8 ) , 1,0  )\n",
    "df['payment_VISA_AMEX'] = np.where ( df.cardType.isin ( ['VISA', 'AMEX'] ), 1,0)\n",
    "\n",
    "\n",
    "df.groupby ('shippingCountry' ).agg (\n",
    "     num_in_office_hrs=('cond_office_hours', 'sum' )\n",
    "    ,num_with_VISA_AMEX =('payment_VISA_AMEX' ,'sum')\n",
    "    ,total =('accountID' ,'count')\n",
    ").head()\n",
    "\n",
    "#Then it's necessary to drop the temp columns..."
   ]
  },
  {
   "cell_type": "markdown",
   "metadata": {},
   "source": [
    "[Back to contents](#Home)"
   ]
  },
  {
   "cell_type": "markdown",
   "metadata": {},
   "source": [
    "#### Contingency Table<a class=\"anchor\" id=\"D5\"></a>"
   ]
  },
  {
   "cell_type": "markdown",
   "metadata": {},
   "source": [
    "[See Pivot Table](#J1)"
   ]
  },
  {
   "cell_type": "markdown",
   "metadata": {},
   "source": [
    "[Back to contents](#Home)"
   ]
  },
  {
   "cell_type": "markdown",
   "metadata": {},
   "source": [
    "# Derive Columns 1 (categorization)"
   ]
  },
  {
   "cell_type": "markdown",
   "metadata": {},
   "source": [
    ".Categorization : Case statement.\n",
    ".Categorization : Nested Case Statement (?)\n",
    ".Categorization : band numeric values to categories"
   ]
  },
  {
   "cell_type": "markdown",
   "metadata": {},
   "source": [
    "#### \"Case Statement\"<a class=\"anchor\" id=\"E1\"></a>"
   ]
  },
  {
   "cell_type": "code",
   "execution_count": 907,
   "metadata": {},
   "outputs": [
    {
     "data": {
      "text/plain": [
       "Other             19504\n",
       "Southern State      488\n",
       "Bris                  8\n",
       "Name: derived_col1, dtype: int64"
      ]
     },
     "execution_count": 907,
     "metadata": {},
     "output_type": "execute_result"
    }
   ],
   "source": [
    "#https://stackoverflow.com/questions/49228596/pandas-case-when-default-in-pandas\n",
    "\n",
    "df['derived_col1']=   np.where ( df ['ipState']=='bristol' , 'Bris' , \n",
    "                       np.where ( df ['ipState'].str.contains ('south'),\n",
    "                         #Else         \n",
    "                         'Southern State','Other'))\n",
    "                             \n",
    "df['derived_col1'].value_counts()"
   ]
  },
  {
   "cell_type": "code",
   "execution_count": 908,
   "metadata": {},
   "outputs": [
    {
     "data": {
      "text/plain": [
       "Other      19977\n",
       "$1-2          13\n",
       "Bris           8\n",
       "Niigata        2\n",
       "Name: derived_col1_b, dtype: int64"
      ]
     },
     "execution_count": 908,
     "metadata": {},
     "output_type": "execute_result"
    }
   ],
   "source": [
    "# Another Way. \n",
    "\n",
    "df['derived_col1_b'] = np.select ( \n",
    "    [\n",
    "     df ['ipState']=='bristol' \n",
    "    ,df ['ipState']=='niigata'\n",
    "    ,df ['transactionAmountUSD'].between (0,1)\n",
    "    ]\n",
    "    ,\n",
    "    [\n",
    "      'Bris'   \n",
    "     ,'Niigata'   \n",
    "     ,'$1-2 '\n",
    "\n",
    "    ]\n",
    "    ,  default=  'Other'\n",
    "        \n",
    ")\n",
    "\n",
    "df['derived_col1_b'].value_counts()"
   ]
  },
  {
   "cell_type": "markdown",
   "metadata": {},
   "source": [
    "[Back to contents](#Home)"
   ]
  },
  {
   "cell_type": "markdown",
   "metadata": {},
   "source": [
    "#### Nested Case Statement<a class=\"anchor\" id=\"E2\"></a>"
   ]
  },
  {
   "cell_type": "code",
   "execution_count": 162,
   "metadata": {},
   "outputs": [],
   "source": [
    "# Don't think this is directly possible"
   ]
  },
  {
   "cell_type": "markdown",
   "metadata": {},
   "source": [
    "#### Band numeric values to categories<a class=\"anchor\" id=\"E3\"></a>"
   ]
  },
  {
   "cell_type": "code",
   "execution_count": 909,
   "metadata": {},
   "outputs": [
    {
     "data": {
      "text/html": [
       "<div>\n",
       "<style scoped>\n",
       "    .dataframe tbody tr th:only-of-type {\n",
       "        vertical-align: middle;\n",
       "    }\n",
       "\n",
       "    .dataframe tbody tr th {\n",
       "        vertical-align: top;\n",
       "    }\n",
       "\n",
       "    .dataframe thead th {\n",
       "        text-align: right;\n",
       "    }\n",
       "</style>\n",
       "<table border=\"1\" class=\"dataframe\">\n",
       "  <thead>\n",
       "    <tr style=\"text-align: right;\">\n",
       "      <th></th>\n",
       "      <th>min_Val</th>\n",
       "      <th>max_Val</th>\n",
       "      <th>num_rows</th>\n",
       "    </tr>\n",
       "    <tr>\n",
       "      <th>Amount_Banded</th>\n",
       "      <th></th>\n",
       "      <th></th>\n",
       "      <th></th>\n",
       "    </tr>\n",
       "  </thead>\n",
       "  <tbody>\n",
       "    <tr>\n",
       "      <th>0-100</th>\n",
       "      <td>0.05</td>\n",
       "      <td>99.93</td>\n",
       "      <td>971</td>\n",
       "    </tr>\n",
       "    <tr>\n",
       "      <th>100.01-500</th>\n",
       "      <td>100.09</td>\n",
       "      <td>500.00</td>\n",
       "      <td>4098</td>\n",
       "    </tr>\n",
       "    <tr>\n",
       "      <th>500.01-800</th>\n",
       "      <td>500.04</td>\n",
       "      <td>799.94</td>\n",
       "      <td>3031</td>\n",
       "    </tr>\n",
       "    <tr>\n",
       "      <th>800.01-1000</th>\n",
       "      <td>800.06</td>\n",
       "      <td>999.77</td>\n",
       "      <td>1946</td>\n",
       "    </tr>\n",
       "    <tr>\n",
       "      <th>1000.01-2000</th>\n",
       "      <td>1000.05</td>\n",
       "      <td>1999.98</td>\n",
       "      <td>9954</td>\n",
       "    </tr>\n",
       "  </tbody>\n",
       "</table>\n",
       "</div>"
      ],
      "text/plain": [
       "               min_Val  max_Val  num_rows\n",
       "Amount_Banded                            \n",
       "0-100             0.05    99.93       971\n",
       "100.01-500      100.09   500.00      4098\n",
       "500.01-800      500.04   799.94      3031\n",
       "800.01-1000     800.06   999.77      1946\n",
       "1000.01-2000   1000.05  1999.98      9954"
      ]
     },
     "execution_count": 909,
     "metadata": {},
     "output_type": "execute_result"
    }
   ],
   "source": [
    "# with pd.cut the bins boundaries are inclusive on the low side.\n",
    "# bin [0,5,7] will assign:\n",
    "# 0-5 => (0,5) first bin range\n",
    "# 6-7 => (5,7) second bin range\n",
    "\n",
    "bins     = [ 0, 100, 500, 800, 1000,2000 ]\n",
    "labels   =  ['0-100', '100.01-500', '500.01-800', '800.01-1000', '1000.01-2000']\n",
    "\n",
    "df['Amount_Banded']  =   pd.cut ( df.transactionAmountUSD, bins=bins, labels = labels)\n",
    "\n",
    "df.groupby('Amount_Banded').agg(\n",
    "      min_Val=('transactionAmountUSD', 'min')\n",
    "    , max_Val=('transactionAmountUSD', 'max')  \n",
    "    , num_rows= ( 'transactionAmountUSD', 'count')\n",
    ") \\\n",
    ".sort_values('Amount_Banded' )#, ascending= [False] )\n",
    "\n"
   ]
  },
  {
   "cell_type": "code",
   "execution_count": 718,
   "metadata": {},
   "outputs": [
    {
     "data": {
      "text/plain": [
       "False    20000\n",
       "Name: Amount_Banded, dtype: int64"
      ]
     },
     "execution_count": 718,
     "metadata": {},
     "output_type": "execute_result"
    }
   ],
   "source": [
    "# Check for blanks\n",
    "df['Amount_Banded'].isna().value_counts()"
   ]
  },
  {
   "cell_type": "markdown",
   "metadata": {},
   "source": [
    "[Back to contents](#Home)"
   ]
  },
  {
   "cell_type": "markdown",
   "metadata": {},
   "source": [
    "# Derive Columns 2 (Window Functions)"
   ]
  },
  {
   "cell_type": "markdown",
   "metadata": {},
   "source": [
    "#### Count Within Group<a class=\"anchor\" id=\"F1\"></a>\n",
    "<br>\n",
    "E.g. if a customer has transactions, we'd like to know how many transactions there are overall\n"
   ]
  },
  {
   "cell_type": "code",
   "execution_count": 910,
   "metadata": {},
   "outputs": [
    {
     "data": {
      "text/html": [
       "<div>\n",
       "<style scoped>\n",
       "    .dataframe tbody tr th:only-of-type {\n",
       "        vertical-align: middle;\n",
       "    }\n",
       "\n",
       "    .dataframe tbody tr th {\n",
       "        vertical-align: top;\n",
       "    }\n",
       "\n",
       "    .dataframe thead th {\n",
       "        text-align: right;\n",
       "    }\n",
       "</style>\n",
       "<table border=\"1\" class=\"dataframe\">\n",
       "  <thead>\n",
       "    <tr style=\"text-align: right;\">\n",
       "      <th></th>\n",
       "      <th>accountID</th>\n",
       "      <th>num_transactions</th>\n",
       "      <th>transactionAmountUSD</th>\n",
       "    </tr>\n",
       "  </thead>\n",
       "  <tbody>\n",
       "    <tr>\n",
       "      <th>1041</th>\n",
       "      <td>X2821285840602153</td>\n",
       "      <td>4</td>\n",
       "      <td>450.36</td>\n",
       "    </tr>\n",
       "    <tr>\n",
       "      <th>3953</th>\n",
       "      <td>X2821285840602153</td>\n",
       "      <td>4</td>\n",
       "      <td>1153.82</td>\n",
       "    </tr>\n",
       "    <tr>\n",
       "      <th>6891</th>\n",
       "      <td>X2821285840602153</td>\n",
       "      <td>4</td>\n",
       "      <td>1522.96</td>\n",
       "    </tr>\n",
       "    <tr>\n",
       "      <th>8323</th>\n",
       "      <td>X2821285840602153</td>\n",
       "      <td>4</td>\n",
       "      <td>1910.21</td>\n",
       "    </tr>\n",
       "    <tr>\n",
       "      <th>9063</th>\n",
       "      <td>W5713589171547099</td>\n",
       "      <td>4</td>\n",
       "      <td>453.37</td>\n",
       "    </tr>\n",
       "    <tr>\n",
       "      <th>11016</th>\n",
       "      <td>W5713589171547099</td>\n",
       "      <td>4</td>\n",
       "      <td>763.89</td>\n",
       "    </tr>\n",
       "    <tr>\n",
       "      <th>13330</th>\n",
       "      <td>W5713589171547099</td>\n",
       "      <td>4</td>\n",
       "      <td>860.92</td>\n",
       "    </tr>\n",
       "  </tbody>\n",
       "</table>\n",
       "</div>"
      ],
      "text/plain": [
       "               accountID  num_transactions  transactionAmountUSD\n",
       "1041   X2821285840602153                 4                450.36\n",
       "3953   X2821285840602153                 4               1153.82\n",
       "6891   X2821285840602153                 4               1522.96\n",
       "8323   X2821285840602153                 4               1910.21\n",
       "9063   W5713589171547099                 4                453.37\n",
       "11016  W5713589171547099                 4                763.89\n",
       "13330  W5713589171547099                 4                860.92"
      ]
     },
     "execution_count": 910,
     "metadata": {},
     "output_type": "execute_result"
    }
   ],
   "source": [
    "# First ensure that there are no nulls: this is important!\n",
    "#df.accountID.isna().value_counts()\n",
    "\n",
    "# Number of unique accountID values: 18154\n",
    "#df.accountID.value_counts().reset_index ()['index'].nunique()\n",
    "\n",
    "df['ones'] = 1\n",
    "df.accountID = df.accountID.astype('string')\n",
    "\n",
    "# get a 18154 row tables of first transactoin dates dates\n",
    "df_agg = df.groupby('accountID')['ones'].count().reset_index().rename ( columns={'ones':'num_transactions'} )\n",
    "\n",
    "if not 'num_transactions' in df.columns:\n",
    "    df = df.merge (df_agg, how=\"left\", on =[\"accountID\"] )\n",
    "\n",
    "df[['accountID', 'num_transactions', 'transactionAmountUSD']]\\\n",
    ".sort_values (['num_transactions', 'accountID'], ascending = [False,False]).head(7)\n"
   ]
  },
  {
   "cell_type": "markdown",
   "metadata": {},
   "source": [
    "[Back to contents](#Home)"
   ]
  },
  {
   "cell_type": "markdown",
   "metadata": {},
   "source": [
    "# Derive Columns 3 (Dates) "
   ]
  },
  {
   "cell_type": "markdown",
   "metadata": {},
   "source": [
    "#### Obtain First Occurrence of Date Within Group<a class=\"anchor\" id=\"G1\"></a>\n",
    "<br>\n",
    "This is more easily done with Window Functions in SQL\n",
    "<br>\n",
    "Note that you must sort the data frame first.\n",
    "<br>\n",
    "This can be used to get the second occurrence etc as well"
   ]
  },
  {
   "cell_type": "code",
   "execution_count": 911,
   "metadata": {},
   "outputs": [
    {
     "data": {
      "text/html": [
       "<div>\n",
       "<style scoped>\n",
       "    .dataframe tbody tr th:only-of-type {\n",
       "        vertical-align: middle;\n",
       "    }\n",
       "\n",
       "    .dataframe tbody tr th {\n",
       "        vertical-align: top;\n",
       "    }\n",
       "\n",
       "    .dataframe thead th {\n",
       "        text-align: right;\n",
       "    }\n",
       "</style>\n",
       "<table border=\"1\" class=\"dataframe\">\n",
       "  <thead>\n",
       "    <tr style=\"text-align: right;\">\n",
       "      <th></th>\n",
       "      <th>accountID</th>\n",
       "      <th>transactionDate_first</th>\n",
       "      <th>transactionDate</th>\n",
       "      <th>num_transactions</th>\n",
       "    </tr>\n",
       "  </thead>\n",
       "  <tbody>\n",
       "    <tr>\n",
       "      <th>1041</th>\n",
       "      <td>X2821285840602153</td>\n",
       "      <td>2007-02-11</td>\n",
       "      <td>2007-04-26</td>\n",
       "      <td>4</td>\n",
       "    </tr>\n",
       "    <tr>\n",
       "      <th>3953</th>\n",
       "      <td>X2821285840602153</td>\n",
       "      <td>2007-02-11</td>\n",
       "      <td>2007-06-24</td>\n",
       "      <td>4</td>\n",
       "    </tr>\n",
       "    <tr>\n",
       "      <th>6891</th>\n",
       "      <td>X2821285840602153</td>\n",
       "      <td>2007-02-11</td>\n",
       "      <td>2007-02-11</td>\n",
       "      <td>4</td>\n",
       "    </tr>\n",
       "    <tr>\n",
       "      <th>8323</th>\n",
       "      <td>X2821285840602153</td>\n",
       "      <td>2007-02-11</td>\n",
       "      <td>2007-11-01</td>\n",
       "      <td>4</td>\n",
       "    </tr>\n",
       "    <tr>\n",
       "      <th>9063</th>\n",
       "      <td>W5713589171547099</td>\n",
       "      <td>2007-02-10</td>\n",
       "      <td>2007-02-22</td>\n",
       "      <td>4</td>\n",
       "    </tr>\n",
       "  </tbody>\n",
       "</table>\n",
       "</div>"
      ],
      "text/plain": [
       "              accountID transactionDate_first transactionDate  \\\n",
       "1041  X2821285840602153            2007-02-11      2007-04-26   \n",
       "3953  X2821285840602153            2007-02-11      2007-06-24   \n",
       "6891  X2821285840602153            2007-02-11      2007-02-11   \n",
       "8323  X2821285840602153            2007-02-11      2007-11-01   \n",
       "9063  W5713589171547099            2007-02-10      2007-02-22   \n",
       "\n",
       "      num_transactions  \n",
       "1041                 4  \n",
       "3953                 4  \n",
       "6891                 4  \n",
       "8323                 4  \n",
       "9063                 4  "
      ]
     },
     "execution_count": 911,
     "metadata": {},
     "output_type": "execute_result"
    }
   ],
   "source": [
    "# First ensure that there are no nulls: this is important!\n",
    "#df.accountID.isna().value_counts()\n",
    "#df.transactionDate.isna().value_counts()\n",
    "\n",
    "# Number of unique accountID values: 18154\n",
    "#df.accountID.value_counts().reset_index ()['index'].nunique()\n",
    "\n",
    "# get a 18154 row tables of first transaction dates dates\n",
    "df_agg = df.sort_values('transactionDate', ascending=True).\\\n",
    "                       groupby('accountID').\\\n",
    "                       nth(0)['transactionDate'].\\\n",
    "                       reset_index ().\\\n",
    "                       rename ( columns={'transactionDate': 'transactionDate_first'})\n",
    "\n",
    "if  'transactionDate_first' in df.columns:\n",
    "    df.drop (columns = ['transactionDate_first'])\n",
    "    \n",
    "df = df.merge (df_agg, how=\"left\", on =\"accountID\" )\n",
    "\n",
    "cols =     ['accountID', 'transactionDate_first','transactionDate','num_transactions']\n",
    "\n",
    "df[cols] \\\n",
    ".sort_values (['num_transactions', 'accountID'], ascending = [False,False])\\\n",
    ".head(5)\n"
   ]
  },
  {
   "cell_type": "markdown",
   "metadata": {},
   "source": [
    "[Back to contents](#Home)"
   ]
  },
  {
   "cell_type": "markdown",
   "metadata": {},
   "source": [
    "#### Days till Event<a class=\"anchor\" id=\"G2\"></a>"
   ]
  },
  {
   "cell_type": "code",
   "execution_count": 913,
   "metadata": {},
   "outputs": [
    {
     "data": {
      "text/html": [
       "<div>\n",
       "<style scoped>\n",
       "    .dataframe tbody tr th:only-of-type {\n",
       "        vertical-align: middle;\n",
       "    }\n",
       "\n",
       "    .dataframe tbody tr th {\n",
       "        vertical-align: top;\n",
       "    }\n",
       "\n",
       "    .dataframe thead th {\n",
       "        text-align: right;\n",
       "    }\n",
       "</style>\n",
       "<table border=\"1\" class=\"dataframe\">\n",
       "  <thead>\n",
       "    <tr style=\"text-align: right;\">\n",
       "      <th></th>\n",
       "      <th>accountID</th>\n",
       "      <th>transactionDate_first</th>\n",
       "      <th>transactionDate</th>\n",
       "      <th>days_since_first_trans</th>\n",
       "    </tr>\n",
       "  </thead>\n",
       "  <tbody>\n",
       "    <tr>\n",
       "      <th>14948</th>\n",
       "      <td>Y8216400785437216</td>\n",
       "      <td>2007-02-10</td>\n",
       "      <td>2007-02-11</td>\n",
       "      <td>1.0</td>\n",
       "    </tr>\n",
       "    <tr>\n",
       "      <th>726</th>\n",
       "      <td>L4721393138775624</td>\n",
       "      <td>2007-02-14</td>\n",
       "      <td>2007-02-15</td>\n",
       "      <td>1.0</td>\n",
       "    </tr>\n",
       "    <tr>\n",
       "      <th>17590</th>\n",
       "      <td>L4721393138775624</td>\n",
       "      <td>2007-02-14</td>\n",
       "      <td>2007-02-15</td>\n",
       "      <td>1.0</td>\n",
       "    </tr>\n",
       "    <tr>\n",
       "      <th>12787</th>\n",
       "      <td>R9629221560269986</td>\n",
       "      <td>2007-02-19</td>\n",
       "      <td>2007-02-21</td>\n",
       "      <td>2.0</td>\n",
       "    </tr>\n",
       "    <tr>\n",
       "      <th>12704</th>\n",
       "      <td>J1903878531994708</td>\n",
       "      <td>2007-02-10</td>\n",
       "      <td>2007-02-13</td>\n",
       "      <td>3.0</td>\n",
       "    </tr>\n",
       "    <tr>\n",
       "      <th>...</th>\n",
       "      <td>...</td>\n",
       "      <td>...</td>\n",
       "      <td>...</td>\n",
       "      <td>...</td>\n",
       "    </tr>\n",
       "    <tr>\n",
       "      <th>8061</th>\n",
       "      <td>R9453270213536424</td>\n",
       "      <td>2007-03-13</td>\n",
       "      <td>2007-12-26</td>\n",
       "      <td>288.0</td>\n",
       "    </tr>\n",
       "    <tr>\n",
       "      <th>14610</th>\n",
       "      <td>J8124281182721525</td>\n",
       "      <td>2007-02-19</td>\n",
       "      <td>2007-12-07</td>\n",
       "      <td>291.0</td>\n",
       "    </tr>\n",
       "    <tr>\n",
       "      <th>19216</th>\n",
       "      <td>N5192231467742956</td>\n",
       "      <td>2007-04-17</td>\n",
       "      <td>2008-02-06</td>\n",
       "      <td>295.0</td>\n",
       "    </tr>\n",
       "    <tr>\n",
       "      <th>9276</th>\n",
       "      <td>E4892731116568663</td>\n",
       "      <td>2007-02-11</td>\n",
       "      <td>2007-12-20</td>\n",
       "      <td>312.0</td>\n",
       "    </tr>\n",
       "    <tr>\n",
       "      <th>15178</th>\n",
       "      <td>S1993221252519302</td>\n",
       "      <td>2007-02-10</td>\n",
       "      <td>2007-12-31</td>\n",
       "      <td>324.0</td>\n",
       "    </tr>\n",
       "  </tbody>\n",
       "</table>\n",
       "<p>223 rows × 4 columns</p>\n",
       "</div>"
      ],
      "text/plain": [
       "               accountID transactionDate_first transactionDate  \\\n",
       "14948  Y8216400785437216            2007-02-10      2007-02-11   \n",
       "726    L4721393138775624            2007-02-14      2007-02-15   \n",
       "17590  L4721393138775624            2007-02-14      2007-02-15   \n",
       "12787  R9629221560269986            2007-02-19      2007-02-21   \n",
       "12704  J1903878531994708            2007-02-10      2007-02-13   \n",
       "...                  ...                   ...             ...   \n",
       "8061   R9453270213536424            2007-03-13      2007-12-26   \n",
       "14610  J8124281182721525            2007-02-19      2007-12-07   \n",
       "19216  N5192231467742956            2007-04-17      2008-02-06   \n",
       "9276   E4892731116568663            2007-02-11      2007-12-20   \n",
       "15178  S1993221252519302            2007-02-10      2007-12-31   \n",
       "\n",
       "       days_since_first_trans  \n",
       "14948                     1.0  \n",
       "726                       1.0  \n",
       "17590                     1.0  \n",
       "12787                     2.0  \n",
       "12704                     3.0  \n",
       "...                       ...  \n",
       "8061                    288.0  \n",
       "14610                   291.0  \n",
       "19216                   295.0  \n",
       "9276                    312.0  \n",
       "15178                   324.0  \n",
       "\n",
       "[223 rows x 4 columns]"
      ]
     },
     "execution_count": 913,
     "metadata": {},
     "output_type": "execute_result"
    }
   ],
   "source": [
    "df['days_since_first_trans'] =   (df['transactionDate'] - df['transactionDate_first'])  / np.timedelta64 (1, 'D') \n",
    "\n",
    "#boolIndex = np.logical_and (df.num_transactions > 2 , df.days_since_first_trans > 0 )\n",
    "boolIndex =  (df.num_transactions > 2 ) & (df.days_since_first_trans > 0 )\n",
    "\n",
    "cols = ['accountID', 'transactionDate_first', 'transactionDate', 'days_since_first_trans']\n",
    "df[boolIndex][cols].sort_values ( 'days_since_first_trans' )\n"
   ]
  },
  {
   "cell_type": "markdown",
   "metadata": {},
   "source": [
    "[Back to contents](#Home)"
   ]
  },
  {
   "cell_type": "markdown",
   "metadata": {},
   "source": [
    "#### Date add<a class=\"anchor\" id=\"G3\"></a>"
   ]
  },
  {
   "cell_type": "code",
   "execution_count": 914,
   "metadata": {},
   "outputs": [
    {
     "data": {
      "text/html": [
       "<div>\n",
       "<style scoped>\n",
       "    .dataframe tbody tr th:only-of-type {\n",
       "        vertical-align: middle;\n",
       "    }\n",
       "\n",
       "    .dataframe tbody tr th {\n",
       "        vertical-align: top;\n",
       "    }\n",
       "\n",
       "    .dataframe thead th {\n",
       "        text-align: right;\n",
       "    }\n",
       "</style>\n",
       "<table border=\"1\" class=\"dataframe\">\n",
       "  <thead>\n",
       "    <tr style=\"text-align: right;\">\n",
       "      <th></th>\n",
       "      <th>accountID</th>\n",
       "      <th>transactionDate</th>\n",
       "      <th>transactionDate_first</th>\n",
       "      <th>days_since_first_trans</th>\n",
       "      <th>transactionDate_plus_10d</th>\n",
       "    </tr>\n",
       "  </thead>\n",
       "  <tbody>\n",
       "    <tr>\n",
       "      <th>9999</th>\n",
       "      <td>J7848752080701268</td>\n",
       "      <td>2007-05-31</td>\n",
       "      <td>2007-05-31</td>\n",
       "      <td>0.0</td>\n",
       "      <td>2007-06-10</td>\n",
       "    </tr>\n",
       "    <tr>\n",
       "      <th>13024</th>\n",
       "      <td>O5220992097989057</td>\n",
       "      <td>2007-09-18</td>\n",
       "      <td>2007-09-18</td>\n",
       "      <td>0.0</td>\n",
       "      <td>2007-09-28</td>\n",
       "    </tr>\n",
       "    <tr>\n",
       "      <th>13023</th>\n",
       "      <td>X7544532156724225</td>\n",
       "      <td>2007-07-10</td>\n",
       "      <td>2007-07-10</td>\n",
       "      <td>0.0</td>\n",
       "      <td>2007-07-20</td>\n",
       "    </tr>\n",
       "    <tr>\n",
       "      <th>13022</th>\n",
       "      <td>R5636403936032189</td>\n",
       "      <td>2007-05-01</td>\n",
       "      <td>2007-05-01</td>\n",
       "      <td>0.0</td>\n",
       "      <td>2007-05-11</td>\n",
       "    </tr>\n",
       "    <tr>\n",
       "      <th>13021</th>\n",
       "      <td>P4946688286855991</td>\n",
       "      <td>2007-03-08</td>\n",
       "      <td>2007-03-08</td>\n",
       "      <td>0.0</td>\n",
       "      <td>2007-03-18</td>\n",
       "    </tr>\n",
       "    <tr>\n",
       "      <th>...</th>\n",
       "      <td>...</td>\n",
       "      <td>...</td>\n",
       "      <td>...</td>\n",
       "      <td>...</td>\n",
       "      <td>...</td>\n",
       "    </tr>\n",
       "    <tr>\n",
       "      <th>19169</th>\n",
       "      <td>X6634962469904029</td>\n",
       "      <td>2008-02-06</td>\n",
       "      <td>2007-03-03</td>\n",
       "      <td>340.0</td>\n",
       "      <td>2008-02-16</td>\n",
       "    </tr>\n",
       "    <tr>\n",
       "      <th>5018</th>\n",
       "      <td>W8586167679002914</td>\n",
       "      <td>2008-01-25</td>\n",
       "      <td>2007-02-14</td>\n",
       "      <td>345.0</td>\n",
       "      <td>2008-02-04</td>\n",
       "    </tr>\n",
       "    <tr>\n",
       "      <th>10972</th>\n",
       "      <td>U2641852470896979</td>\n",
       "      <td>2008-02-05</td>\n",
       "      <td>2007-02-24</td>\n",
       "      <td>346.0</td>\n",
       "      <td>2008-02-15</td>\n",
       "    </tr>\n",
       "    <tr>\n",
       "      <th>91</th>\n",
       "      <td>C9414425912542449</td>\n",
       "      <td>2008-01-24</td>\n",
       "      <td>2007-02-10</td>\n",
       "      <td>348.0</td>\n",
       "      <td>2008-02-03</td>\n",
       "    </tr>\n",
       "    <tr>\n",
       "      <th>15464</th>\n",
       "      <td>B1482341098643539</td>\n",
       "      <td>2008-02-05</td>\n",
       "      <td>2007-02-22</td>\n",
       "      <td>348.0</td>\n",
       "      <td>2008-02-15</td>\n",
       "    </tr>\n",
       "  </tbody>\n",
       "</table>\n",
       "<p>20000 rows × 5 columns</p>\n",
       "</div>"
      ],
      "text/plain": [
       "               accountID transactionDate transactionDate_first  \\\n",
       "9999   J7848752080701268      2007-05-31            2007-05-31   \n",
       "13024  O5220992097989057      2007-09-18            2007-09-18   \n",
       "13023  X7544532156724225      2007-07-10            2007-07-10   \n",
       "13022  R5636403936032189      2007-05-01            2007-05-01   \n",
       "13021  P4946688286855991      2007-03-08            2007-03-08   \n",
       "...                  ...             ...                   ...   \n",
       "19169  X6634962469904029      2008-02-06            2007-03-03   \n",
       "5018   W8586167679002914      2008-01-25            2007-02-14   \n",
       "10972  U2641852470896979      2008-02-05            2007-02-24   \n",
       "91     C9414425912542449      2008-01-24            2007-02-10   \n",
       "15464  B1482341098643539      2008-02-05            2007-02-22   \n",
       "\n",
       "       days_since_first_trans transactionDate_plus_10d  \n",
       "9999                      0.0               2007-06-10  \n",
       "13024                     0.0               2007-09-28  \n",
       "13023                     0.0               2007-07-20  \n",
       "13022                     0.0               2007-05-11  \n",
       "13021                     0.0               2007-03-18  \n",
       "...                       ...                      ...  \n",
       "19169                   340.0               2008-02-16  \n",
       "5018                    345.0               2008-02-04  \n",
       "10972                   346.0               2008-02-15  \n",
       "91                      348.0               2008-02-03  \n",
       "15464                   348.0               2008-02-15  \n",
       "\n",
       "[20000 rows x 5 columns]"
      ]
     },
     "execution_count": 914,
     "metadata": {},
     "output_type": "execute_result"
    }
   ],
   "source": [
    "\n",
    "days_to_add = 10\n",
    "df['transactionDate_plus_10d'] =   df['transactionDate']  + pd.Timedelta(days=days_to_add)\n",
    "    \n",
    "cols = ['accountID', 'transactionDate', 'transactionDate_first', 'days_since_first_trans','transactionDate_plus_10d']\n",
    "df[cols].sort_values ( 'days_since_first_trans' ) \n"
   ]
  },
  {
   "cell_type": "markdown",
   "metadata": {},
   "source": [
    "[Back to contents](#Home)"
   ]
  },
  {
   "cell_type": "markdown",
   "metadata": {},
   "source": [
    "#### Extract Year and Month from Date<a class=\"anchor\" id=\"G4\"></a>"
   ]
  },
  {
   "cell_type": "markdown",
   "metadata": {},
   "source": [
    "[Dependency](#A4)"
   ]
  },
  {
   "cell_type": "code",
   "execution_count": 16,
   "metadata": {},
   "outputs": [
    {
     "data": {
      "text/plain": [
       "Feb    4609\n",
       "Mar    3879\n",
       "Apr    2614\n",
       "May    2179\n",
       "Jun    1661\n",
       "Name: trans_month, dtype: int64"
      ]
     },
     "execution_count": 16,
     "metadata": {},
     "output_type": "execute_result"
    }
   ],
   "source": [
    "df['trans_year'] = df.transactionDate.dt.year\n",
    "df['trans_year'].value_counts()\n",
    "\n",
    "# There are lots of functions to use\n",
    "df['trans_month'] = df.transactionDate.dt.month\n",
    "df['trans_month'] = df.transactionDate.dt.strftime(\"%b\")\n",
    "\n",
    "df['trans_month'].value_counts() [0:5]"
   ]
  },
  {
   "cell_type": "markdown",
   "metadata": {},
   "source": [
    "[Back to contents](#Home)"
   ]
  },
  {
   "cell_type": "markdown",
   "metadata": {},
   "source": [
    "## Derived Columns 4 (\"Window Functions\" type manipulation )"
   ]
  },
  {
   "cell_type": "markdown",
   "metadata": {},
   "source": [
    "Derive columns 2\n",
    "\n",
    ".Add a partition based ranking, e.g. sales rank within a category\n",
    ".Bring down values from a previous row, e.g. the previous transaction date\n",
    ".Creating a new column by running a function over one or more existing columns.\n",
    ".Write a value to a column within a certain selection\n"
   ]
  },
  {
   "cell_type": "markdown",
   "metadata": {},
   "source": [
    "#### Add a partition based ranking, e.g. sales rank within a category<a class=\"anchor\" id=\"H1\"></a>\n",
    "<br>\n",
    "method 1 : use groupby"
   ]
  },
  {
   "cell_type": "code",
   "execution_count": 915,
   "metadata": {},
   "outputs": [
    {
     "data": {
      "text/html": [
       "<div>\n",
       "<style scoped>\n",
       "    .dataframe tbody tr th:only-of-type {\n",
       "        vertical-align: middle;\n",
       "    }\n",
       "\n",
       "    .dataframe tbody tr th {\n",
       "        vertical-align: top;\n",
       "    }\n",
       "\n",
       "    .dataframe thead th {\n",
       "        text-align: right;\n",
       "    }\n",
       "</style>\n",
       "<table border=\"1\" class=\"dataframe\">\n",
       "  <thead>\n",
       "    <tr style=\"text-align: right;\">\n",
       "      <th></th>\n",
       "      <th>browserLanguage</th>\n",
       "      <th>transactionAmountUSD</th>\n",
       "      <th>rank_sales_by_browser</th>\n",
       "    </tr>\n",
       "  </thead>\n",
       "  <tbody>\n",
       "    <tr>\n",
       "      <th>13997</th>\n",
       "      <td>ar-AE</td>\n",
       "      <td>1926.21</td>\n",
       "      <td>1.0</td>\n",
       "    </tr>\n",
       "    <tr>\n",
       "      <th>1079</th>\n",
       "      <td>ar-AE</td>\n",
       "      <td>1905.55</td>\n",
       "      <td>2.0</td>\n",
       "    </tr>\n",
       "    <tr>\n",
       "      <th>12206</th>\n",
       "      <td>ar-AE</td>\n",
       "      <td>1811.98</td>\n",
       "      <td>3.0</td>\n",
       "    </tr>\n",
       "    <tr>\n",
       "      <th>10487</th>\n",
       "      <td>ar-AE</td>\n",
       "      <td>1777.42</td>\n",
       "      <td>4.0</td>\n",
       "    </tr>\n",
       "    <tr>\n",
       "      <th>3738</th>\n",
       "      <td>ar-AE</td>\n",
       "      <td>1665.30</td>\n",
       "      <td>5.0</td>\n",
       "    </tr>\n",
       "    <tr>\n",
       "      <th>16574</th>\n",
       "      <td>ar-AE</td>\n",
       "      <td>1286.02</td>\n",
       "      <td>6.0</td>\n",
       "    </tr>\n",
       "  </tbody>\n",
       "</table>\n",
       "</div>"
      ],
      "text/plain": [
       "      browserLanguage  transactionAmountUSD  rank_sales_by_browser\n",
       "13997           ar-AE               1926.21                    1.0\n",
       "1079            ar-AE               1905.55                    2.0\n",
       "12206           ar-AE               1811.98                    3.0\n",
       "10487           ar-AE               1777.42                    4.0\n",
       "3738            ar-AE               1665.30                    5.0\n",
       "16574           ar-AE               1286.02                    6.0"
      ]
     },
     "execution_count": 915,
     "metadata": {},
     "output_type": "execute_result"
    }
   ],
   "source": [
    "# Create a ranking column\n",
    "# Change method to 'dense as required'\n",
    "df['rank_sales_by_browser']  = df.groupby('browserLanguage')['transactionAmountUSD']\\\n",
    "                                  .rank(method='dense', ascending=False)\n",
    "\n",
    "# Show the \n",
    "df.sort_values ( ['browserLanguage', 'transactionAmountUSD'], ascending = [True, False]) \\\n",
    "            .loc [ :, ['browserLanguage', 'transactionAmountUSD',  'rank_sales_by_browser'] ] \\\n",
    "            .head(6)\n"
   ]
  },
  {
   "cell_type": "code",
   "execution_count": 916,
   "metadata": {},
   "outputs": [
    {
     "data": {
      "text/html": [
       "<div>\n",
       "<style scoped>\n",
       "    .dataframe tbody tr th:only-of-type {\n",
       "        vertical-align: middle;\n",
       "    }\n",
       "\n",
       "    .dataframe tbody tr th {\n",
       "        vertical-align: top;\n",
       "    }\n",
       "\n",
       "    .dataframe thead th {\n",
       "        text-align: right;\n",
       "    }\n",
       "</style>\n",
       "<table border=\"1\" class=\"dataframe\">\n",
       "  <thead>\n",
       "    <tr style=\"text-align: right;\">\n",
       "      <th></th>\n",
       "      <th>browserLanguage</th>\n",
       "      <th>transactionAmountUSD</th>\n",
       "      <th>rank_sales_by_browser</th>\n",
       "    </tr>\n",
       "  </thead>\n",
       "  <tbody>\n",
       "    <tr>\n",
       "      <th>0</th>\n",
       "      <td>ar-AE</td>\n",
       "      <td>1926.21</td>\n",
       "      <td>1.0</td>\n",
       "    </tr>\n",
       "    <tr>\n",
       "      <th>1</th>\n",
       "      <td>ar-AE</td>\n",
       "      <td>1905.55</td>\n",
       "      <td>2.0</td>\n",
       "    </tr>\n",
       "    <tr>\n",
       "      <th>2</th>\n",
       "      <td>ar-DZ</td>\n",
       "      <td>1080.10</td>\n",
       "      <td>1.0</td>\n",
       "    </tr>\n",
       "    <tr>\n",
       "      <th>3</th>\n",
       "      <td>ar-EG</td>\n",
       "      <td>1623.67</td>\n",
       "      <td>1.0</td>\n",
       "    </tr>\n",
       "    <tr>\n",
       "      <th>4</th>\n",
       "      <td>ar-KW</td>\n",
       "      <td>1868.20</td>\n",
       "      <td>1.0</td>\n",
       "    </tr>\n",
       "    <tr>\n",
       "      <th>5</th>\n",
       "      <td>ar-KW</td>\n",
       "      <td>1333.82</td>\n",
       "      <td>2.0</td>\n",
       "    </tr>\n",
       "    <tr>\n",
       "      <th>6</th>\n",
       "      <td>ar-LB</td>\n",
       "      <td>1112.57</td>\n",
       "      <td>1.0</td>\n",
       "    </tr>\n",
       "    <tr>\n",
       "      <th>7</th>\n",
       "      <td>ar-OM</td>\n",
       "      <td>1784.93</td>\n",
       "      <td>1.0</td>\n",
       "    </tr>\n",
       "    <tr>\n",
       "      <th>8</th>\n",
       "      <td>ar-OM</td>\n",
       "      <td>1553.49</td>\n",
       "      <td>2.0</td>\n",
       "    </tr>\n",
       "  </tbody>\n",
       "</table>\n",
       "</div>"
      ],
      "text/plain": [
       "  browserLanguage  transactionAmountUSD  rank_sales_by_browser\n",
       "0           ar-AE               1926.21                    1.0\n",
       "1           ar-AE               1905.55                    2.0\n",
       "2           ar-DZ               1080.10                    1.0\n",
       "3           ar-EG               1623.67                    1.0\n",
       "4           ar-KW               1868.20                    1.0\n",
       "5           ar-KW               1333.82                    2.0\n",
       "6           ar-LB               1112.57                    1.0\n",
       "7           ar-OM               1784.93                    1.0\n",
       "8           ar-OM               1553.49                    2.0"
      ]
     },
     "execution_count": 916,
     "metadata": {},
     "output_type": "execute_result"
    }
   ],
   "source": [
    "# Check the results within groups, this is a bit slow\n",
    "# TODO: find a better way to do this\n",
    "\n",
    "df.sort_values (['browserLanguage','rank_sales_by_browser']).groupby('browserLanguage') \\\n",
    ".head(2).reset_index(drop=True) \\\n",
    ".loc[:,  ['browserLanguage','transactionAmountUSD','rank_sales_by_browser']  ] \\\n",
    ".head(9)\n"
   ]
  },
  {
   "cell_type": "markdown",
   "metadata": {},
   "source": [
    "[Back to contents](#Home)"
   ]
  },
  {
   "cell_type": "markdown",
   "metadata": {},
   "source": [
    "Method 2: By resetting the index, not sure if this is quicker."
   ]
  },
  {
   "cell_type": "code",
   "execution_count": 917,
   "metadata": {},
   "outputs": [
    {
     "data": {
      "text/html": [
       "<div>\n",
       "<style scoped>\n",
       "    .dataframe tbody tr th:only-of-type {\n",
       "        vertical-align: middle;\n",
       "    }\n",
       "\n",
       "    .dataframe tbody tr th {\n",
       "        vertical-align: top;\n",
       "    }\n",
       "\n",
       "    .dataframe thead th {\n",
       "        text-align: right;\n",
       "    }\n",
       "</style>\n",
       "<table border=\"1\" class=\"dataframe\">\n",
       "  <thead>\n",
       "    <tr style=\"text-align: right;\">\n",
       "      <th></th>\n",
       "      <th>browserLanguage</th>\n",
       "      <th>transactionAmountUSD</th>\n",
       "      <th>rank_sales_by_browser</th>\n",
       "      <th>rank_sales_by_browser2</th>\n",
       "    </tr>\n",
       "  </thead>\n",
       "  <tbody>\n",
       "    <tr>\n",
       "      <th>13997</th>\n",
       "      <td>ar-AE</td>\n",
       "      <td>1926.21</td>\n",
       "      <td>1.0</td>\n",
       "      <td>1.0</td>\n",
       "    </tr>\n",
       "    <tr>\n",
       "      <th>1079</th>\n",
       "      <td>ar-AE</td>\n",
       "      <td>1905.55</td>\n",
       "      <td>2.0</td>\n",
       "      <td>2.0</td>\n",
       "    </tr>\n",
       "    <tr>\n",
       "      <th>12206</th>\n",
       "      <td>ar-AE</td>\n",
       "      <td>1811.98</td>\n",
       "      <td>3.0</td>\n",
       "      <td>3.0</td>\n",
       "    </tr>\n",
       "    <tr>\n",
       "      <th>10487</th>\n",
       "      <td>ar-AE</td>\n",
       "      <td>1777.42</td>\n",
       "      <td>4.0</td>\n",
       "      <td>4.0</td>\n",
       "    </tr>\n",
       "    <tr>\n",
       "      <th>3738</th>\n",
       "      <td>ar-AE</td>\n",
       "      <td>1665.30</td>\n",
       "      <td>5.0</td>\n",
       "      <td>5.0</td>\n",
       "    </tr>\n",
       "    <tr>\n",
       "      <th>16574</th>\n",
       "      <td>ar-AE</td>\n",
       "      <td>1286.02</td>\n",
       "      <td>6.0</td>\n",
       "      <td>6.0</td>\n",
       "    </tr>\n",
       "  </tbody>\n",
       "</table>\n",
       "</div>"
      ],
      "text/plain": [
       "      browserLanguage  transactionAmountUSD  rank_sales_by_browser  \\\n",
       "13997           ar-AE               1926.21                    1.0   \n",
       "1079            ar-AE               1905.55                    2.0   \n",
       "12206           ar-AE               1811.98                    3.0   \n",
       "10487           ar-AE               1777.42                    4.0   \n",
       "3738            ar-AE               1665.30                    5.0   \n",
       "16574           ar-AE               1286.02                    6.0   \n",
       "\n",
       "       rank_sales_by_browser2  \n",
       "13997                     1.0  \n",
       "1079                      2.0  \n",
       "12206                     3.0  \n",
       "10487                     4.0  \n",
       "3738                      5.0  \n",
       "16574                     6.0  "
      ]
     },
     "execution_count": 917,
     "metadata": {},
     "output_type": "execute_result"
    }
   ],
   "source": [
    "df_temp = df.set_index ( 'browserLanguage')\n",
    "df_temp['rank_sales_by_browser2']  = df_temp['transactionAmountUSD'].groupby(level=0).rank(  method='dense', ascending=False)\n",
    "\n",
    "df_temp = df_temp.reset_index ()\n",
    "\n",
    "# Compare the results with the previous method in above cells.\n",
    "\n",
    "df_temp.sort_values ( ['browserLanguage', 'transactionAmountUSD'], ascending = [True, False]) \\\n",
    "            .loc [ :, ['browserLanguage', 'transactionAmountUSD',  'rank_sales_by_browser', 'rank_sales_by_browser2'] ] \\\n",
    "            .head(6)\n"
   ]
  },
  {
   "cell_type": "markdown",
   "metadata": {},
   "source": [
    "[Back to contents](#Home)"
   ]
  },
  {
   "cell_type": "markdown",
   "metadata": {},
   "source": [
    "#### Add a partition based ranking, e.g. sales rank within two category columns<a class=\"anchor\" id=\"H2\"></a>"
   ]
  },
  {
   "cell_type": "code",
   "execution_count": 918,
   "metadata": {},
   "outputs": [
    {
     "data": {
      "text/html": [
       "<div>\n",
       "<style scoped>\n",
       "    .dataframe tbody tr th:only-of-type {\n",
       "        vertical-align: middle;\n",
       "    }\n",
       "\n",
       "    .dataframe tbody tr th {\n",
       "        vertical-align: top;\n",
       "    }\n",
       "\n",
       "    .dataframe thead th {\n",
       "        text-align: right;\n",
       "    }\n",
       "</style>\n",
       "<table border=\"1\" class=\"dataframe\">\n",
       "  <thead>\n",
       "    <tr style=\"text-align: right;\">\n",
       "      <th></th>\n",
       "      <th>isProxyIP</th>\n",
       "      <th>ipCountry</th>\n",
       "      <th>transactionAmountUSD</th>\n",
       "      <th>rank_sales_by_ip_country</th>\n",
       "    </tr>\n",
       "  </thead>\n",
       "  <tbody>\n",
       "    <tr>\n",
       "      <th>12337</th>\n",
       "      <td>True</td>\n",
       "      <td>zm</td>\n",
       "      <td>1451.16</td>\n",
       "      <td>1.0</td>\n",
       "    </tr>\n",
       "    <tr>\n",
       "      <th>19747</th>\n",
       "      <td>True</td>\n",
       "      <td>za</td>\n",
       "      <td>1751.23</td>\n",
       "      <td>2.0</td>\n",
       "    </tr>\n",
       "    <tr>\n",
       "      <th>19046</th>\n",
       "      <td>True</td>\n",
       "      <td>za</td>\n",
       "      <td>530.49</td>\n",
       "      <td>23.0</td>\n",
       "    </tr>\n",
       "    <tr>\n",
       "      <th>12802</th>\n",
       "      <td>True</td>\n",
       "      <td>za</td>\n",
       "      <td>347.61</td>\n",
       "      <td>26.0</td>\n",
       "    </tr>\n",
       "    <tr>\n",
       "      <th>2879</th>\n",
       "      <td>True</td>\n",
       "      <td>uy</td>\n",
       "      <td>307.39</td>\n",
       "      <td>2.0</td>\n",
       "    </tr>\n",
       "  </tbody>\n",
       "</table>\n",
       "</div>"
      ],
      "text/plain": [
       "      isProxyIP ipCountry  transactionAmountUSD  rank_sales_by_ip_country\n",
       "12337      True        zm               1451.16                       1.0\n",
       "19747      True        za               1751.23                       2.0\n",
       "19046      True        za                530.49                      23.0\n",
       "12802      True        za                347.61                      26.0\n",
       "2879       True        uy                307.39                       2.0"
      ]
     },
     "execution_count": 918,
     "metadata": {},
     "output_type": "execute_result"
    }
   ],
   "source": [
    "# Create a ranking column\n",
    "# Change method to 'dense as required'\n",
    "\n",
    "df['rank_sales_by_ip_country']  = df.groupby(['shippingCountry', 'ipCountry'])['transactionAmountUSD'] \\\n",
    ".rank(method='dense', ascending=False)\n",
    "\n",
    "df.sort_values ( ['isProxyIP', 'ipCountry' ,'transactionAmountUSD'], ascending = [False, False, False]) \\\n",
    "    .loc [ :,  ['isProxyIP', 'ipCountry', 'transactionAmountUSD', 'rank_sales_by_ip_country' ] ] \\\n",
    "    .head(5)\n"
   ]
  },
  {
   "cell_type": "markdown",
   "metadata": {},
   "source": [
    "[Back to contents](#Home)"
   ]
  },
  {
   "cell_type": "markdown",
   "metadata": {},
   "source": [
    "#### Bring down values from a previous row, e.g. the previous transaction date within accountID group<a class=\"anchor\" id=\"H3\"></a>\n"
   ]
  },
  {
   "cell_type": "code",
   "execution_count": 919,
   "metadata": {},
   "outputs": [
    {
     "data": {
      "text/html": [
       "<div>\n",
       "<style scoped>\n",
       "    .dataframe tbody tr th:only-of-type {\n",
       "        vertical-align: middle;\n",
       "    }\n",
       "\n",
       "    .dataframe tbody tr th {\n",
       "        vertical-align: top;\n",
       "    }\n",
       "\n",
       "    .dataframe thead th {\n",
       "        text-align: right;\n",
       "    }\n",
       "</style>\n",
       "<table border=\"1\" class=\"dataframe\">\n",
       "  <thead>\n",
       "    <tr style=\"text-align: right;\">\n",
       "      <th></th>\n",
       "      <th>accountID</th>\n",
       "      <th>num_transactions</th>\n",
       "      <th>transactionDate_prev</th>\n",
       "      <th>transactionDate</th>\n",
       "    </tr>\n",
       "  </thead>\n",
       "  <tbody>\n",
       "    <tr>\n",
       "      <th>19909</th>\n",
       "      <td>A1566132399521989</td>\n",
       "      <td>3</td>\n",
       "      <td>NaT</td>\n",
       "      <td>2007-03-02</td>\n",
       "    </tr>\n",
       "    <tr>\n",
       "      <th>11121</th>\n",
       "      <td>A1566132399521989</td>\n",
       "      <td>3</td>\n",
       "      <td>2007-03-02</td>\n",
       "      <td>2007-03-08</td>\n",
       "    </tr>\n",
       "    <tr>\n",
       "      <th>8903</th>\n",
       "      <td>A1566132399521989</td>\n",
       "      <td>3</td>\n",
       "      <td>2007-03-08</td>\n",
       "      <td>2007-03-09</td>\n",
       "    </tr>\n",
       "    <tr>\n",
       "      <th>4675</th>\n",
       "      <td>A2760793813048785</td>\n",
       "      <td>3</td>\n",
       "      <td>2007-04-22</td>\n",
       "      <td>2007-04-22</td>\n",
       "    </tr>\n",
       "    <tr>\n",
       "      <th>13359</th>\n",
       "      <td>A2760793813048785</td>\n",
       "      <td>3</td>\n",
       "      <td>NaT</td>\n",
       "      <td>2007-04-22</td>\n",
       "    </tr>\n",
       "    <tr>\n",
       "      <th>...</th>\n",
       "      <td>...</td>\n",
       "      <td>...</td>\n",
       "      <td>...</td>\n",
       "      <td>...</td>\n",
       "    </tr>\n",
       "    <tr>\n",
       "      <th>8038</th>\n",
       "      <td>Z6708428249935724</td>\n",
       "      <td>3</td>\n",
       "      <td>2007-02-10</td>\n",
       "      <td>2007-04-11</td>\n",
       "    </tr>\n",
       "    <tr>\n",
       "      <th>7031</th>\n",
       "      <td>Z6708428249935724</td>\n",
       "      <td>3</td>\n",
       "      <td>2007-04-11</td>\n",
       "      <td>2007-06-01</td>\n",
       "    </tr>\n",
       "    <tr>\n",
       "      <th>16707</th>\n",
       "      <td>Z9959815974415865</td>\n",
       "      <td>3</td>\n",
       "      <td>NaT</td>\n",
       "      <td>2007-02-11</td>\n",
       "    </tr>\n",
       "    <tr>\n",
       "      <th>9140</th>\n",
       "      <td>Z9959815974415865</td>\n",
       "      <td>3</td>\n",
       "      <td>2007-02-11</td>\n",
       "      <td>2007-06-06</td>\n",
       "    </tr>\n",
       "    <tr>\n",
       "      <th>8224</th>\n",
       "      <td>Z9959815974415865</td>\n",
       "      <td>3</td>\n",
       "      <td>2007-06-06</td>\n",
       "      <td>2007-07-06</td>\n",
       "    </tr>\n",
       "  </tbody>\n",
       "</table>\n",
       "<p>309 rows × 4 columns</p>\n",
       "</div>"
      ],
      "text/plain": [
       "               accountID  num_transactions transactionDate_prev  \\\n",
       "19909  A1566132399521989                 3                  NaT   \n",
       "11121  A1566132399521989                 3           2007-03-02   \n",
       "8903   A1566132399521989                 3           2007-03-08   \n",
       "4675   A2760793813048785                 3           2007-04-22   \n",
       "13359  A2760793813048785                 3                  NaT   \n",
       "...                  ...               ...                  ...   \n",
       "8038   Z6708428249935724                 3           2007-02-10   \n",
       "7031   Z6708428249935724                 3           2007-04-11   \n",
       "16707  Z9959815974415865                 3                  NaT   \n",
       "9140   Z9959815974415865                 3           2007-02-11   \n",
       "8224   Z9959815974415865                 3           2007-06-06   \n",
       "\n",
       "      transactionDate  \n",
       "19909      2007-03-02  \n",
       "11121      2007-03-08  \n",
       "8903       2007-03-09  \n",
       "4675       2007-04-22  \n",
       "13359      2007-04-22  \n",
       "...               ...  \n",
       "8038       2007-04-11  \n",
       "7031       2007-06-01  \n",
       "16707      2007-02-11  \n",
       "9140       2007-06-06  \n",
       "8224       2007-07-06  \n",
       "\n",
       "[309 rows x 4 columns]"
      ]
     },
     "execution_count": 919,
     "metadata": {},
     "output_type": "execute_result"
    }
   ],
   "source": [
    "df ['transactionDate_prev']  = df.sort_values('transactionDate').groupby('accountID')['transactionDate'].shift (1)\n",
    "#df.groupby('accountID')['transactionDate'].shift ()\n",
    "\n",
    "boolIndex = df.num_transactions == 3 \n",
    "df.sort_values ( ['accountID', 'transactionDate'])\\\n",
    "     .loc [boolIndex, [ 'accountID', 'num_transactions' , 'transactionDate_prev','transactionDate' ]]\n"
   ]
  },
  {
   "cell_type": "code",
   "execution_count": 920,
   "metadata": {},
   "outputs": [
    {
     "data": {
      "text/html": [
       "<div>\n",
       "<style scoped>\n",
       "    .dataframe tbody tr th:only-of-type {\n",
       "        vertical-align: middle;\n",
       "    }\n",
       "\n",
       "    .dataframe tbody tr th {\n",
       "        vertical-align: top;\n",
       "    }\n",
       "\n",
       "    .dataframe thead th {\n",
       "        text-align: right;\n",
       "    }\n",
       "</style>\n",
       "<table border=\"1\" class=\"dataframe\">\n",
       "  <thead>\n",
       "    <tr style=\"text-align: right;\">\n",
       "      <th></th>\n",
       "      <th>accountID</th>\n",
       "      <th>num_transactions</th>\n",
       "      <th>transactionDate</th>\n",
       "      <th>transactionDate_prev</th>\n",
       "      <th>days_since_prev_trans</th>\n",
       "    </tr>\n",
       "  </thead>\n",
       "  <tbody>\n",
       "    <tr>\n",
       "      <th>19909</th>\n",
       "      <td>A1566132399521989</td>\n",
       "      <td>3</td>\n",
       "      <td>2007-03-02</td>\n",
       "      <td>NaT</td>\n",
       "      <td>0.0</td>\n",
       "    </tr>\n",
       "    <tr>\n",
       "      <th>11121</th>\n",
       "      <td>A1566132399521989</td>\n",
       "      <td>3</td>\n",
       "      <td>2007-03-08</td>\n",
       "      <td>2007-03-02</td>\n",
       "      <td>-6.0</td>\n",
       "    </tr>\n",
       "    <tr>\n",
       "      <th>8903</th>\n",
       "      <td>A1566132399521989</td>\n",
       "      <td>3</td>\n",
       "      <td>2007-03-09</td>\n",
       "      <td>2007-03-08</td>\n",
       "      <td>-1.0</td>\n",
       "    </tr>\n",
       "    <tr>\n",
       "      <th>4675</th>\n",
       "      <td>A2760793813048785</td>\n",
       "      <td>3</td>\n",
       "      <td>2007-04-22</td>\n",
       "      <td>2007-04-22</td>\n",
       "      <td>0.0</td>\n",
       "    </tr>\n",
       "    <tr>\n",
       "      <th>13359</th>\n",
       "      <td>A2760793813048785</td>\n",
       "      <td>3</td>\n",
       "      <td>2007-04-22</td>\n",
       "      <td>NaT</td>\n",
       "      <td>0.0</td>\n",
       "    </tr>\n",
       "    <tr>\n",
       "      <th>...</th>\n",
       "      <td>...</td>\n",
       "      <td>...</td>\n",
       "      <td>...</td>\n",
       "      <td>...</td>\n",
       "      <td>...</td>\n",
       "    </tr>\n",
       "    <tr>\n",
       "      <th>8038</th>\n",
       "      <td>Z6708428249935724</td>\n",
       "      <td>3</td>\n",
       "      <td>2007-04-11</td>\n",
       "      <td>2007-02-10</td>\n",
       "      <td>-60.0</td>\n",
       "    </tr>\n",
       "    <tr>\n",
       "      <th>7031</th>\n",
       "      <td>Z6708428249935724</td>\n",
       "      <td>3</td>\n",
       "      <td>2007-06-01</td>\n",
       "      <td>2007-04-11</td>\n",
       "      <td>-51.0</td>\n",
       "    </tr>\n",
       "    <tr>\n",
       "      <th>16707</th>\n",
       "      <td>Z9959815974415865</td>\n",
       "      <td>3</td>\n",
       "      <td>2007-02-11</td>\n",
       "      <td>NaT</td>\n",
       "      <td>0.0</td>\n",
       "    </tr>\n",
       "    <tr>\n",
       "      <th>9140</th>\n",
       "      <td>Z9959815974415865</td>\n",
       "      <td>3</td>\n",
       "      <td>2007-06-06</td>\n",
       "      <td>2007-02-11</td>\n",
       "      <td>-115.0</td>\n",
       "    </tr>\n",
       "    <tr>\n",
       "      <th>8224</th>\n",
       "      <td>Z9959815974415865</td>\n",
       "      <td>3</td>\n",
       "      <td>2007-07-06</td>\n",
       "      <td>2007-06-06</td>\n",
       "      <td>-30.0</td>\n",
       "    </tr>\n",
       "  </tbody>\n",
       "</table>\n",
       "<p>309 rows × 5 columns</p>\n",
       "</div>"
      ],
      "text/plain": [
       "               accountID  num_transactions transactionDate  \\\n",
       "19909  A1566132399521989                 3      2007-03-02   \n",
       "11121  A1566132399521989                 3      2007-03-08   \n",
       "8903   A1566132399521989                 3      2007-03-09   \n",
       "4675   A2760793813048785                 3      2007-04-22   \n",
       "13359  A2760793813048785                 3      2007-04-22   \n",
       "...                  ...               ...             ...   \n",
       "8038   Z6708428249935724                 3      2007-04-11   \n",
       "7031   Z6708428249935724                 3      2007-06-01   \n",
       "16707  Z9959815974415865                 3      2007-02-11   \n",
       "9140   Z9959815974415865                 3      2007-06-06   \n",
       "8224   Z9959815974415865                 3      2007-07-06   \n",
       "\n",
       "      transactionDate_prev  days_since_prev_trans  \n",
       "19909                  NaT                    0.0  \n",
       "11121           2007-03-02                   -6.0  \n",
       "8903            2007-03-08                   -1.0  \n",
       "4675            2007-04-22                    0.0  \n",
       "13359                  NaT                    0.0  \n",
       "...                    ...                    ...  \n",
       "8038            2007-02-10                  -60.0  \n",
       "7031            2007-04-11                  -51.0  \n",
       "16707                  NaT                    0.0  \n",
       "9140            2007-02-11                 -115.0  \n",
       "8224            2007-06-06                  -30.0  \n",
       "\n",
       "[309 rows x 5 columns]"
      ]
     },
     "execution_count": 920,
     "metadata": {},
     "output_type": "execute_result"
    }
   ],
   "source": [
    "df['days_since_prev_trans'] = -1 * (df ['transactionDate'] - df ['transactionDate_prev'] ) /  np.timedelta64 (1, 'D') \n",
    "df.loc [ df['days_since_prev_trans'].isna(), 'days_since_prev_trans'] = 0 \n",
    "\n",
    "df.sort_values ( ['accountID', 'transactionDate'])\\\n",
    "     .loc [boolIndex, [ 'accountID', 'num_transactions' , 'transactionDate', \n",
    "                       'transactionDate_prev', 'days_since_prev_trans']]\n"
   ]
  },
  {
   "cell_type": "markdown",
   "metadata": {},
   "source": [
    "[Back to contents](#Home)"
   ]
  },
  {
   "cell_type": "markdown",
   "metadata": {},
   "source": [
    "#### Update a value based on a function that takes in two existing columns<a class=\"anchor\" id=\"H4\"></a>\n",
    "<br>\n",
    "This is not vectorized and is very slow."
   ]
  },
  {
   "cell_type": "code",
   "execution_count": 921,
   "metadata": {},
   "outputs": [
    {
     "data": {
      "text/html": [
       "<div>\n",
       "<style scoped>\n",
       "    .dataframe tbody tr th:only-of-type {\n",
       "        vertical-align: middle;\n",
       "    }\n",
       "\n",
       "    .dataframe tbody tr th {\n",
       "        vertical-align: top;\n",
       "    }\n",
       "\n",
       "    .dataframe thead th {\n",
       "        text-align: right;\n",
       "    }\n",
       "</style>\n",
       "<table border=\"1\" class=\"dataframe\">\n",
       "  <thead>\n",
       "    <tr style=\"text-align: right;\">\n",
       "      <th></th>\n",
       "      <th>accountID</th>\n",
       "      <th>num_transactions</th>\n",
       "      <th>transactionDate</th>\n",
       "      <th>transactionDate_prev</th>\n",
       "      <th>days_since_prev_trans</th>\n",
       "      <th>days_since_prev_trans2</th>\n",
       "    </tr>\n",
       "  </thead>\n",
       "  <tbody>\n",
       "    <tr>\n",
       "      <th>18167</th>\n",
       "      <td>A1032246091865881</td>\n",
       "      <td>2</td>\n",
       "      <td>2007-05-14</td>\n",
       "      <td>NaT</td>\n",
       "      <td>0.0</td>\n",
       "      <td>-0.0</td>\n",
       "    </tr>\n",
       "    <tr>\n",
       "      <th>8962</th>\n",
       "      <td>A1032246091865881</td>\n",
       "      <td>2</td>\n",
       "      <td>2007-06-18</td>\n",
       "      <td>2007-05-14</td>\n",
       "      <td>-35.0</td>\n",
       "      <td>-35.0</td>\n",
       "    </tr>\n",
       "    <tr>\n",
       "      <th>1857</th>\n",
       "      <td>A1049243531493622</td>\n",
       "      <td>2</td>\n",
       "      <td>2007-05-02</td>\n",
       "      <td>NaT</td>\n",
       "      <td>0.0</td>\n",
       "      <td>-0.0</td>\n",
       "    </tr>\n",
       "    <tr>\n",
       "      <th>8247</th>\n",
       "      <td>A1049243531493622</td>\n",
       "      <td>2</td>\n",
       "      <td>2007-06-23</td>\n",
       "      <td>2007-05-02</td>\n",
       "      <td>-52.0</td>\n",
       "      <td>-52.0</td>\n",
       "    </tr>\n",
       "    <tr>\n",
       "      <th>8366</th>\n",
       "      <td>A1431743378107759</td>\n",
       "      <td>2</td>\n",
       "      <td>2007-02-21</td>\n",
       "      <td>NaT</td>\n",
       "      <td>0.0</td>\n",
       "      <td>-0.0</td>\n",
       "    </tr>\n",
       "    <tr>\n",
       "      <th>3388</th>\n",
       "      <td>A1431743378107759</td>\n",
       "      <td>2</td>\n",
       "      <td>2007-03-09</td>\n",
       "      <td>2007-02-21</td>\n",
       "      <td>-16.0</td>\n",
       "      <td>-16.0</td>\n",
       "    </tr>\n",
       "    <tr>\n",
       "      <th>3918</th>\n",
       "      <td>A1462374232505055</td>\n",
       "      <td>2</td>\n",
       "      <td>2007-07-31</td>\n",
       "      <td>NaT</td>\n",
       "      <td>0.0</td>\n",
       "      <td>-0.0</td>\n",
       "    </tr>\n",
       "  </tbody>\n",
       "</table>\n",
       "</div>"
      ],
      "text/plain": [
       "               accountID  num_transactions transactionDate  \\\n",
       "18167  A1032246091865881                 2      2007-05-14   \n",
       "8962   A1032246091865881                 2      2007-06-18   \n",
       "1857   A1049243531493622                 2      2007-05-02   \n",
       "8247   A1049243531493622                 2      2007-06-23   \n",
       "8366   A1431743378107759                 2      2007-02-21   \n",
       "3388   A1431743378107759                 2      2007-03-09   \n",
       "3918   A1462374232505055                 2      2007-07-31   \n",
       "\n",
       "      transactionDate_prev  days_since_prev_trans  days_since_prev_trans2  \n",
       "18167                  NaT                    0.0                    -0.0  \n",
       "8962            2007-05-14                  -35.0                   -35.0  \n",
       "1857                   NaT                    0.0                    -0.0  \n",
       "8247            2007-05-02                  -52.0                   -52.0  \n",
       "8366                   NaT                    0.0                    -0.0  \n",
       "3388            2007-02-21                  -16.0                   -16.0  \n",
       "3918                   NaT                    0.0                    -0.0  "
      ]
     },
     "execution_count": 921,
     "metadata": {},
     "output_type": "execute_result"
    }
   ],
   "source": [
    "def calculate_days_between(currDate,prevDate):\n",
    "    if pd.isnull (prevDate) :\n",
    "        prevDate= currDate\n",
    "    return  -1 * ( (currDate- prevDate)  /  np.timedelta64 (1, 'D') )\n",
    "\n",
    "df['days_since_prev_trans2'] = df.apply(lambda x: calculate_days_between(x.transactionDate, x.transactionDate_prev), axis=1)\n",
    "\n",
    "df[df.num_transactions >= 2].sort_values ( ['accountID', 'transactionDate'])\\\n",
    "     .loc [:, [ 'accountID', 'num_transactions' , 'transactionDate', 'transactionDate_prev'\n",
    "               , 'days_since_prev_trans', 'days_since_prev_trans2']].head(7)\n"
   ]
  },
  {
   "cell_type": "markdown",
   "metadata": {},
   "source": [
    "[Back to contents](#Home)"
   ]
  },
  {
   "cell_type": "markdown",
   "metadata": {},
   "source": [
    "#### Add two column values together<a class=\"anchor\" id=\"H5\"></a>\n",
    "<br>\n"
   ]
  },
  {
   "cell_type": "code",
   "execution_count": 922,
   "metadata": {},
   "outputs": [
    {
     "data": {
      "text/html": [
       "<div>\n",
       "<style scoped>\n",
       "    .dataframe tbody tr th:only-of-type {\n",
       "        vertical-align: middle;\n",
       "    }\n",
       "\n",
       "    .dataframe tbody tr th {\n",
       "        vertical-align: top;\n",
       "    }\n",
       "\n",
       "    .dataframe thead th {\n",
       "        text-align: right;\n",
       "    }\n",
       "</style>\n",
       "<table border=\"1\" class=\"dataframe\">\n",
       "  <thead>\n",
       "    <tr style=\"text-align: right;\">\n",
       "      <th></th>\n",
       "      <th>ones</th>\n",
       "      <th>twos</th>\n",
       "      <th>result</th>\n",
       "    </tr>\n",
       "  </thead>\n",
       "  <tbody>\n",
       "    <tr>\n",
       "      <th>0</th>\n",
       "      <td>1</td>\n",
       "      <td>2</td>\n",
       "      <td>3</td>\n",
       "    </tr>\n",
       "    <tr>\n",
       "      <th>1</th>\n",
       "      <td>1</td>\n",
       "      <td>2</td>\n",
       "      <td>3</td>\n",
       "    </tr>\n",
       "    <tr>\n",
       "      <th>2</th>\n",
       "      <td>1</td>\n",
       "      <td>2</td>\n",
       "      <td>3</td>\n",
       "    </tr>\n",
       "    <tr>\n",
       "      <th>3</th>\n",
       "      <td>1</td>\n",
       "      <td>2</td>\n",
       "      <td>3</td>\n",
       "    </tr>\n",
       "    <tr>\n",
       "      <th>4</th>\n",
       "      <td>1</td>\n",
       "      <td>2</td>\n",
       "      <td>3</td>\n",
       "    </tr>\n",
       "  </tbody>\n",
       "</table>\n",
       "</div>"
      ],
      "text/plain": [
       "   ones  twos  result\n",
       "0     1     2       3\n",
       "1     1     2       3\n",
       "2     1     2       3\n",
       "3     1     2       3\n",
       "4     1     2       3"
      ]
     },
     "execution_count": 922,
     "metadata": {},
     "output_type": "execute_result"
    }
   ],
   "source": [
    "df['ones'] = 1\n",
    "df['twos'] = 2\n",
    "\n",
    "df['result'] = df['ones'] + df['twos']\n",
    "cols = ['ones', 'twos', 'result']\n",
    "df[cols].head()"
   ]
  },
  {
   "cell_type": "markdown",
   "metadata": {},
   "source": [
    "[Back to contents](#Home)"
   ]
  },
  {
   "cell_type": "markdown",
   "metadata": {},
   "source": [
    "#### Update a slice of values based on an index slice<a class=\"anchor\" id=\"H6\"></a>\n",
    "<br>\n",
    "This is just a matter of logic, nothing new here.  Create a boolean slicer and then just do an update within that index slice."
   ]
  },
  {
   "cell_type": "code",
   "execution_count": 923,
   "metadata": {},
   "outputs": [
    {
     "data": {
      "text/html": [
       "<div>\n",
       "<style scoped>\n",
       "    .dataframe tbody tr th:only-of-type {\n",
       "        vertical-align: middle;\n",
       "    }\n",
       "\n",
       "    .dataframe tbody tr th {\n",
       "        vertical-align: top;\n",
       "    }\n",
       "\n",
       "    .dataframe thead th {\n",
       "        text-align: right;\n",
       "    }\n",
       "</style>\n",
       "<table border=\"1\" class=\"dataframe\">\n",
       "  <thead>\n",
       "    <tr style=\"text-align: right;\">\n",
       "      <th></th>\n",
       "      <th>num_transactions</th>\n",
       "      <th>num_transactions_banded</th>\n",
       "    </tr>\n",
       "  </thead>\n",
       "  <tbody>\n",
       "    <tr>\n",
       "      <th>0</th>\n",
       "      <td>2</td>\n",
       "      <td>2</td>\n",
       "    </tr>\n",
       "    <tr>\n",
       "      <th>1</th>\n",
       "      <td>1</td>\n",
       "      <td>one</td>\n",
       "    </tr>\n",
       "    <tr>\n",
       "      <th>2</th>\n",
       "      <td>1</td>\n",
       "      <td>one</td>\n",
       "    </tr>\n",
       "    <tr>\n",
       "      <th>3</th>\n",
       "      <td>1</td>\n",
       "      <td>one</td>\n",
       "    </tr>\n",
       "    <tr>\n",
       "      <th>4</th>\n",
       "      <td>2</td>\n",
       "      <td>2</td>\n",
       "    </tr>\n",
       "  </tbody>\n",
       "</table>\n",
       "</div>"
      ],
      "text/plain": [
       "   num_transactions num_transactions_banded\n",
       "0                 2                       2\n",
       "1                 1                     one\n",
       "2                 1                     one\n",
       "3                 1                     one\n",
       "4                 2                       2"
      ]
     },
     "execution_count": 923,
     "metadata": {},
     "output_type": "execute_result"
    }
   ],
   "source": [
    "df['num_transactions_banded'] = 'one'\n",
    "booleanIndex = df.num_transactions > 1\n",
    "\n",
    "# This is a good feature of ordered indexing which holds it's order\n",
    "df.loc [ booleanIndex, 'num_transactions_banded' ] =  df.loc[booleanIndex, 'num_transactions'] \n",
    "\n",
    "cols = ['num_transactions','num_transactions_banded']\n",
    "df[cols].head()"
   ]
  },
  {
   "cell_type": "markdown",
   "metadata": {},
   "source": [
    "[Back to contents](#Home)"
   ]
  },
  {
   "cell_type": "markdown",
   "metadata": {},
   "source": [
    "## Derive Columns 5 String Manipulation\n",
    "String manipulations is quite simple"
   ]
  },
  {
   "cell_type": "markdown",
   "metadata": {},
   "source": [
    "#### Split String Columns<a class=\"anchor\" id=\"I1\"></a>"
   ]
  },
  {
   "cell_type": "markdown",
   "metadata": {},
   "source": [
    "[Dependency to Create Amount_Banded](#E3)"
   ]
  },
  {
   "cell_type": "code",
   "execution_count": 924,
   "metadata": {},
   "outputs": [
    {
     "data": {
      "text/html": [
       "<div>\n",
       "<style scoped>\n",
       "    .dataframe tbody tr th:only-of-type {\n",
       "        vertical-align: middle;\n",
       "    }\n",
       "\n",
       "    .dataframe tbody tr th {\n",
       "        vertical-align: top;\n",
       "    }\n",
       "\n",
       "    .dataframe thead th {\n",
       "        text-align: right;\n",
       "    }\n",
       "</style>\n",
       "<table border=\"1\" class=\"dataframe\">\n",
       "  <thead>\n",
       "    <tr style=\"text-align: right;\">\n",
       "      <th></th>\n",
       "      <th>Amount_Banded</th>\n",
       "      <th>split_left</th>\n",
       "      <th>split_right</th>\n",
       "    </tr>\n",
       "  </thead>\n",
       "  <tbody>\n",
       "    <tr>\n",
       "      <th>0</th>\n",
       "      <td>500.01-800</td>\n",
       "      <td>500.01</td>\n",
       "      <td>800</td>\n",
       "    </tr>\n",
       "    <tr>\n",
       "      <th>1</th>\n",
       "      <td>1000.01-2000</td>\n",
       "      <td>1000.01</td>\n",
       "      <td>2000</td>\n",
       "    </tr>\n",
       "    <tr>\n",
       "      <th>2</th>\n",
       "      <td>1000.01-2000</td>\n",
       "      <td>1000.01</td>\n",
       "      <td>2000</td>\n",
       "    </tr>\n",
       "    <tr>\n",
       "      <th>3</th>\n",
       "      <td>500.01-800</td>\n",
       "      <td>500.01</td>\n",
       "      <td>800</td>\n",
       "    </tr>\n",
       "    <tr>\n",
       "      <th>4</th>\n",
       "      <td>500.01-800</td>\n",
       "      <td>500.01</td>\n",
       "      <td>800</td>\n",
       "    </tr>\n",
       "    <tr>\n",
       "      <th>5</th>\n",
       "      <td>500.01-800</td>\n",
       "      <td>500.01</td>\n",
       "      <td>800</td>\n",
       "    </tr>\n",
       "    <tr>\n",
       "      <th>6</th>\n",
       "      <td>800.01-1000</td>\n",
       "      <td>800.01</td>\n",
       "      <td>1000</td>\n",
       "    </tr>\n",
       "  </tbody>\n",
       "</table>\n",
       "</div>"
      ],
      "text/plain": [
       "  Amount_Banded split_left split_right\n",
       "0    500.01-800     500.01         800\n",
       "1  1000.01-2000    1000.01        2000\n",
       "2  1000.01-2000    1000.01        2000\n",
       "3    500.01-800     500.01         800\n",
       "4    500.01-800     500.01         800\n",
       "5    500.01-800     500.01         800\n",
       "6   800.01-1000     800.01        1000"
      ]
     },
     "execution_count": 924,
     "metadata": {},
     "output_type": "execute_result"
    }
   ],
   "source": [
    "df['split_left'] = df['Amount_Banded'].str.split ( '-', expand=True).loc [ : , 0 ]\n",
    "df['split_right'] = df['Amount_Banded'].str.split ('-',expand=True).loc [ : , 1 ]\n",
    "\n",
    "cols = [ 'Amount_Banded', 'split_left', 'split_right']\n",
    "df[ cols ].head (7)"
   ]
  },
  {
   "cell_type": "markdown",
   "metadata": {},
   "source": [
    "[Back to contents](#Home)"
   ]
  },
  {
   "cell_type": "markdown",
   "metadata": {},
   "source": [
    "#### Extract a substring <a class=\"anchor\" id=\"I2\"></a>"
   ]
  },
  {
   "cell_type": "code",
   "execution_count": 945,
   "metadata": {},
   "outputs": [
    {
     "data": {
      "text/plain": [
       "0    500.0\n",
       "1    1000.\n",
       "2    1000.\n",
       "3    500.0\n",
       "4    500.0\n",
       "5    500.0\n",
       "Name: Amount_Banded, dtype: object"
      ]
     },
     "execution_count": 945,
     "metadata": {},
     "output_type": "execute_result"
    }
   ],
   "source": [
    "# This is a common operation but I cannot think of an example\n",
    "# Anywyay the \n",
    "df ['Amount_Banded'].str.slice ( 0,5 ) [0: 5+1]"
   ]
  },
  {
   "cell_type": "markdown",
   "metadata": {},
   "source": [
    "[Back to contents](#Home)"
   ]
  },
  {
   "cell_type": "markdown",
   "metadata": {},
   "source": [
    "#### Extract a substring (variable lengths<a class=\"anchor\" id=\"I2\"></a>"
   ]
  },
  {
   "cell_type": "code",
   "execution_count": 927,
   "metadata": {},
   "outputs": [
    {
     "data": {
      "text/html": [
       "<div>\n",
       "<style scoped>\n",
       "    .dataframe tbody tr th:only-of-type {\n",
       "        vertical-align: middle;\n",
       "    }\n",
       "\n",
       "    .dataframe tbody tr th {\n",
       "        vertical-align: top;\n",
       "    }\n",
       "\n",
       "    .dataframe thead th {\n",
       "        text-align: right;\n",
       "    }\n",
       "</style>\n",
       "<table border=\"1\" class=\"dataframe\">\n",
       "  <thead>\n",
       "    <tr style=\"text-align: right;\">\n",
       "      <th></th>\n",
       "      <th>Amount_Banded</th>\n",
       "      <th>tmp_dash_loc</th>\n",
       "      <th>split_string</th>\n",
       "    </tr>\n",
       "  </thead>\n",
       "  <tbody>\n",
       "    <tr>\n",
       "      <th>0</th>\n",
       "      <td>500.01-800</td>\n",
       "      <td>6</td>\n",
       "      <td>800</td>\n",
       "    </tr>\n",
       "    <tr>\n",
       "      <th>1</th>\n",
       "      <td>1000.01-2000</td>\n",
       "      <td>7</td>\n",
       "      <td>2000</td>\n",
       "    </tr>\n",
       "    <tr>\n",
       "      <th>2</th>\n",
       "      <td>1000.01-2000</td>\n",
       "      <td>7</td>\n",
       "      <td>2000</td>\n",
       "    </tr>\n",
       "    <tr>\n",
       "      <th>3</th>\n",
       "      <td>500.01-800</td>\n",
       "      <td>6</td>\n",
       "      <td>800</td>\n",
       "    </tr>\n",
       "    <tr>\n",
       "      <th>4</th>\n",
       "      <td>500.01-800</td>\n",
       "      <td>6</td>\n",
       "      <td>800</td>\n",
       "    </tr>\n",
       "  </tbody>\n",
       "</table>\n",
       "</div>"
      ],
      "text/plain": [
       "  Amount_Banded  tmp_dash_loc split_string\n",
       "0    500.01-800             6          800\n",
       "1  1000.01-2000             7         2000\n",
       "2  1000.01-2000             7         2000\n",
       "3    500.01-800             6          800\n",
       "4    500.01-800             6          800"
      ]
     },
     "execution_count": 927,
     "metadata": {},
     "output_type": "execute_result"
    }
   ],
   "source": [
    "# Would like to use Series.str.slice but cannot work out how to pass a dynamic parameter.\n",
    "# This is exceptionally SLOW!\n",
    "# Therefore, it is better to re-shape the problem to one that can be solved using str vectorized operations\n",
    "\n",
    "df['tmp_dash_loc']  = df['Amount_Banded'].str.find ('-')\n",
    "df ['split_string'] = df.apply (lambda x: x['Amount_Banded'] [ 1+ x['tmp_dash_loc']:], axis=1 )\n",
    "\n",
    "cols = ['Amount_Banded', 'tmp_dash_loc', 'split_string']\n",
    "df[cols].head()"
   ]
  },
  {
   "cell_type": "markdown",
   "metadata": {},
   "source": [
    "###### Quicker but more convoluted to use vectorized operations..."
   ]
  },
  {
   "cell_type": "code",
   "execution_count": 926,
   "metadata": {},
   "outputs": [
    {
     "data": {
      "text/plain": [
       "0     800\n",
       "1    2000\n",
       "2    2000\n",
       "3     800\n",
       "4     800\n",
       "5     800\n",
       "Name: split_string, dtype: object"
      ]
     },
     "execution_count": 926,
     "metadata": {},
     "output_type": "execute_result"
    }
   ],
   "source": [
    "# One strategy is to use vectorized operations\n",
    "# => \n",
    "df ['split_string'].str.slice ( 0,10 ) [0: 5+1]"
   ]
  },
  {
   "cell_type": "markdown",
   "metadata": {},
   "source": [
    "[Back to contents](#Home)"
   ]
  },
  {
   "cell_type": "markdown",
   "metadata": {},
   "source": [
    "#### Trim a String Column <a class=\"anchor\" id=\"I3\"></a>\n",
    "(remove blanks at either end)"
   ]
  },
  {
   "cell_type": "code",
   "execution_count": 956,
   "metadata": {},
   "outputs": [
    {
     "data": {
      "text/html": [
       "<div>\n",
       "<style scoped>\n",
       "    .dataframe tbody tr th:only-of-type {\n",
       "        vertical-align: middle;\n",
       "    }\n",
       "\n",
       "    .dataframe tbody tr th {\n",
       "        vertical-align: top;\n",
       "    }\n",
       "\n",
       "    .dataframe thead th {\n",
       "        text-align: right;\n",
       "    }\n",
       "</style>\n",
       "<table border=\"1\" class=\"dataframe\">\n",
       "  <thead>\n",
       "    <tr style=\"text-align: right;\">\n",
       "      <th></th>\n",
       "      <th>string with space</th>\n",
       "      <th>string wo space</th>\n",
       "      <th>res1</th>\n",
       "      <th>res2</th>\n",
       "    </tr>\n",
       "  </thead>\n",
       "  <tbody>\n",
       "    <tr>\n",
       "      <th>0</th>\n",
       "      <td>500.01-800</td>\n",
       "      <td>500.01-800</td>\n",
       "      <td>start 500.01-800 end</td>\n",
       "      <td>start500.01-800end</td>\n",
       "    </tr>\n",
       "    <tr>\n",
       "      <th>1</th>\n",
       "      <td>1000.01-2000</td>\n",
       "      <td>1000.01-2000</td>\n",
       "      <td>start 1000.01-2000 end</td>\n",
       "      <td>start1000.01-2000end</td>\n",
       "    </tr>\n",
       "    <tr>\n",
       "      <th>2</th>\n",
       "      <td>1000.01-2000</td>\n",
       "      <td>1000.01-2000</td>\n",
       "      <td>start 1000.01-2000 end</td>\n",
       "      <td>start1000.01-2000end</td>\n",
       "    </tr>\n",
       "    <tr>\n",
       "      <th>3</th>\n",
       "      <td>500.01-800</td>\n",
       "      <td>500.01-800</td>\n",
       "      <td>start 500.01-800 end</td>\n",
       "      <td>start500.01-800end</td>\n",
       "    </tr>\n",
       "  </tbody>\n",
       "</table>\n",
       "</div>"
      ],
      "text/plain": [
       "  string with space string wo space                    res1  \\\n",
       "0       500.01-800       500.01-800    start 500.01-800 end   \n",
       "1     1000.01-2000     1000.01-2000  start 1000.01-2000 end   \n",
       "2     1000.01-2000     1000.01-2000  start 1000.01-2000 end   \n",
       "3       500.01-800       500.01-800    start 500.01-800 end   \n",
       "\n",
       "                   res2  \n",
       "0    start500.01-800end  \n",
       "1  start1000.01-2000end  \n",
       "2  start1000.01-2000end  \n",
       "3    start500.01-800end  "
      ]
     },
     "execution_count": 956,
     "metadata": {},
     "output_type": "execute_result"
    }
   ],
   "source": [
    "df ['string with space'] =  ' ' + df['Amount_Banded'].astype('string') + ' '\n",
    "df ['res1'] = 'start' + df['string with space'].astype(str) + 'end'\n",
    "\n",
    "df ['string wo space']  = df ['string with space'].str.strip()\n",
    "df ['res2'] = 'start' +  df['string wo space'].astype(str) + 'end'\n",
    "\n",
    "cols = ['string with space', 'string wo space', 'res1', 'res2']\n",
    "df [cols].head(4)\n"
   ]
  },
  {
   "cell_type": "markdown",
   "metadata": {},
   "source": [
    "[Back to contents](#Home)"
   ]
  },
  {
   "cell_type": "markdown",
   "metadata": {},
   "source": [
    "# Reshaping Data "
   ]
  },
  {
   "cell_type": "markdown",
   "metadata": {},
   "source": [
    "#### Prepare tables to pivot"
   ]
  },
  {
   "cell_type": "markdown",
   "metadata": {},
   "source": [
    "[Dependency to Create Amount_Banded](#E3)"
   ]
  },
  {
   "cell_type": "code",
   "execution_count": 26,
   "metadata": {},
   "outputs": [
    {
     "data": {
      "text/html": [
       "<div>\n",
       "<style scoped>\n",
       "    .dataframe tbody tr th:only-of-type {\n",
       "        vertical-align: middle;\n",
       "    }\n",
       "\n",
       "    .dataframe tbody tr th {\n",
       "        vertical-align: top;\n",
       "    }\n",
       "\n",
       "    .dataframe thead th {\n",
       "        text-align: right;\n",
       "    }\n",
       "</style>\n",
       "<table border=\"1\" class=\"dataframe\">\n",
       "  <thead>\n",
       "    <tr style=\"text-align: right;\">\n",
       "      <th></th>\n",
       "      <th></th>\n",
       "      <th>num_trans</th>\n",
       "      <th>sum_trans</th>\n",
       "    </tr>\n",
       "    <tr>\n",
       "      <th>trans_month</th>\n",
       "      <th>cvvVerifyResult</th>\n",
       "      <th></th>\n",
       "      <th></th>\n",
       "    </tr>\n",
       "  </thead>\n",
       "  <tbody>\n",
       "    <tr>\n",
       "      <th rowspan=\"5\" valign=\"top\">Apr</th>\n",
       "      <th>M</th>\n",
       "      <td>2288</td>\n",
       "      <td>2322405.00</td>\n",
       "    </tr>\n",
       "    <tr>\n",
       "      <th>N</th>\n",
       "      <td>6</td>\n",
       "      <td>5799.04</td>\n",
       "    </tr>\n",
       "    <tr>\n",
       "      <th>P</th>\n",
       "      <td>5</td>\n",
       "      <td>5488.72</td>\n",
       "    </tr>\n",
       "    <tr>\n",
       "      <th>U</th>\n",
       "      <td>6</td>\n",
       "      <td>7357.90</td>\n",
       "    </tr>\n",
       "    <tr>\n",
       "      <th>X</th>\n",
       "      <td>14</td>\n",
       "      <td>13076.01</td>\n",
       "    </tr>\n",
       "  </tbody>\n",
       "</table>\n",
       "</div>"
      ],
      "text/plain": [
       "                             num_trans   sum_trans\n",
       "trans_month cvvVerifyResult                       \n",
       "Apr         M                     2288  2322405.00\n",
       "            N                        6     5799.04\n",
       "            P                        5     5488.72\n",
       "            U                        6     7357.90\n",
       "            X                       14    13076.01"
      ]
     },
     "execution_count": 26,
     "metadata": {},
     "output_type": "execute_result"
    }
   ],
   "source": [
    "df ['ones'] = 1\n",
    "df_agg = df.groupby ( ['trans_month', 'cvvVerifyResult']).agg ( \n",
    "      num_trans= ('ones', 'count') ,\n",
    "      sum_trans= ('transactionAmountUSD', sum)\n",
    ")\n",
    "df_agg.head(5)"
   ]
  },
  {
   "cell_type": "markdown",
   "metadata": {},
   "source": [
    "#### Pivot <a class=\"anchor\" id=\"J1\"></a>\n",
    "See cell above for creating df_agg"
   ]
  },
  {
   "cell_type": "code",
   "execution_count": 28,
   "metadata": {},
   "outputs": [
    {
     "data": {
      "text/html": [
       "<div>\n",
       "<style scoped>\n",
       "    .dataframe tbody tr th:only-of-type {\n",
       "        vertical-align: middle;\n",
       "    }\n",
       "\n",
       "    .dataframe tbody tr th {\n",
       "        vertical-align: top;\n",
       "    }\n",
       "\n",
       "    .dataframe thead th {\n",
       "        text-align: right;\n",
       "    }\n",
       "</style>\n",
       "<table border=\"1\" class=\"dataframe\">\n",
       "  <thead>\n",
       "    <tr style=\"text-align: right;\">\n",
       "      <th>cvvVerifyResult</th>\n",
       "      <th>M</th>\n",
       "      <th>N</th>\n",
       "      <th>P</th>\n",
       "      <th>U</th>\n",
       "      <th>X</th>\n",
       "      <th>Y</th>\n",
       "    </tr>\n",
       "    <tr>\n",
       "      <th>trans_month</th>\n",
       "      <th></th>\n",
       "      <th></th>\n",
       "      <th></th>\n",
       "      <th></th>\n",
       "      <th></th>\n",
       "      <th></th>\n",
       "    </tr>\n",
       "  </thead>\n",
       "  <tbody>\n",
       "    <tr>\n",
       "      <th>Apr</th>\n",
       "      <td>2288.0</td>\n",
       "      <td>6.0</td>\n",
       "      <td>5.0</td>\n",
       "      <td>6.0</td>\n",
       "      <td>14.0</td>\n",
       "      <td>0.0</td>\n",
       "    </tr>\n",
       "    <tr>\n",
       "      <th>Aug</th>\n",
       "      <td>961.0</td>\n",
       "      <td>2.0</td>\n",
       "      <td>2.0</td>\n",
       "      <td>0.0</td>\n",
       "      <td>10.0</td>\n",
       "      <td>0.0</td>\n",
       "    </tr>\n",
       "    <tr>\n",
       "      <th>Dec</th>\n",
       "      <td>278.0</td>\n",
       "      <td>1.0</td>\n",
       "      <td>2.0</td>\n",
       "      <td>2.0</td>\n",
       "      <td>2.0</td>\n",
       "      <td>0.0</td>\n",
       "    </tr>\n",
       "    <tr>\n",
       "      <th>Feb</th>\n",
       "      <td>4045.0</td>\n",
       "      <td>10.0</td>\n",
       "      <td>20.0</td>\n",
       "      <td>7.0</td>\n",
       "      <td>22.0</td>\n",
       "      <td>2.0</td>\n",
       "    </tr>\n",
       "    <tr>\n",
       "      <th>Jan</th>\n",
       "      <td>151.0</td>\n",
       "      <td>1.0</td>\n",
       "      <td>0.0</td>\n",
       "      <td>0.0</td>\n",
       "      <td>2.0</td>\n",
       "      <td>0.0</td>\n",
       "    </tr>\n",
       "  </tbody>\n",
       "</table>\n",
       "</div>"
      ],
      "text/plain": [
       "cvvVerifyResult       M     N     P    U     X    Y\n",
       "trans_month                                        \n",
       "Apr              2288.0   6.0   5.0  6.0  14.0  0.0\n",
       "Aug               961.0   2.0   2.0  0.0  10.0  0.0\n",
       "Dec               278.0   1.0   2.0  2.0   2.0  0.0\n",
       "Feb              4045.0  10.0  20.0  7.0  22.0  2.0\n",
       "Jan               151.0   1.0   0.0  0.0   2.0  0.0"
      ]
     },
     "execution_count": 28,
     "metadata": {},
     "output_type": "execute_result"
    }
   ],
   "source": [
    "df_piv = df_agg.reset_index().pivot( index='trans_month' , columns='cvvVerifyResult', values='num_trans' ).fillna(0)\n",
    "df_piv.head(5)"
   ]
  },
  {
   "cell_type": "markdown",
   "metadata": {},
   "source": [
    "[Back to contents](#Home)"
   ]
  },
  {
   "cell_type": "markdown",
   "metadata": {},
   "source": [
    "#### Unpivot <a class=\"anchor\" id=\"J2\"></a>"
   ]
  },
  {
   "cell_type": "code",
   "execution_count": null,
   "metadata": {},
   "outputs": [],
   "source": [
    "df_piv.unstack()"
   ]
  },
  {
   "cell_type": "code",
   "execution_count": null,
   "metadata": {},
   "outputs": [],
   "source": [
    "# An alternative, more flexible aproach but did not work\n",
    "#df_piv.melt(ignored_index = False )"
   ]
  },
  {
   "cell_type": "markdown",
   "metadata": {},
   "source": [
    "[Back to contents](#Home)"
   ]
  },
  {
   "cell_type": "markdown",
   "metadata": {},
   "source": [
    "#### Pivoting 2+ Column Values  <a class=\"anchor\" id=\"J3\"></a>"
   ]
  },
  {
   "cell_type": "code",
   "execution_count": 2,
   "metadata": {},
   "outputs": [],
   "source": [
    "# Useful function \n",
    "# https://stackoverflow.com/questions/14507794/how-to-flatten-a-hierarchical-index-in-columns\n",
    "\n",
    "def flattenHierarchicalCol(col,sep = '_'):\n",
    "    if not type(col) is tuple:\n",
    "        return col\n",
    "    else:\n",
    "        new_col = ''\n",
    "        for leveli,level in enumerate(col):\n",
    "            if not level == '':\n",
    "                if not leveli == 0:\n",
    "                    new_col += sep\n",
    "                new_col += level\n",
    "        return new_col"
   ]
  },
  {
   "cell_type": "code",
   "execution_count": 30,
   "metadata": {},
   "outputs": [
    {
     "data": {
      "text/html": [
       "<div>\n",
       "<style scoped>\n",
       "    .dataframe tbody tr th:only-of-type {\n",
       "        vertical-align: middle;\n",
       "    }\n",
       "\n",
       "    .dataframe tbody tr th {\n",
       "        vertical-align: top;\n",
       "    }\n",
       "\n",
       "    .dataframe thead tr th {\n",
       "        text-align: left;\n",
       "    }\n",
       "\n",
       "    .dataframe thead tr:last-of-type th {\n",
       "        text-align: right;\n",
       "    }\n",
       "</style>\n",
       "<table border=\"1\" class=\"dataframe\">\n",
       "  <thead>\n",
       "    <tr>\n",
       "      <th></th>\n",
       "      <th colspan=\"6\" halign=\"left\">num_trans</th>\n",
       "      <th colspan=\"6\" halign=\"left\">sum_trans</th>\n",
       "    </tr>\n",
       "    <tr>\n",
       "      <th>cvvVerifyResult</th>\n",
       "      <th>M</th>\n",
       "      <th>N</th>\n",
       "      <th>P</th>\n",
       "      <th>U</th>\n",
       "      <th>X</th>\n",
       "      <th>Y</th>\n",
       "      <th>M</th>\n",
       "      <th>N</th>\n",
       "      <th>P</th>\n",
       "      <th>U</th>\n",
       "      <th>X</th>\n",
       "      <th>Y</th>\n",
       "    </tr>\n",
       "    <tr>\n",
       "      <th>trans_month</th>\n",
       "      <th></th>\n",
       "      <th></th>\n",
       "      <th></th>\n",
       "      <th></th>\n",
       "      <th></th>\n",
       "      <th></th>\n",
       "      <th></th>\n",
       "      <th></th>\n",
       "      <th></th>\n",
       "      <th></th>\n",
       "      <th></th>\n",
       "      <th></th>\n",
       "    </tr>\n",
       "  </thead>\n",
       "  <tbody>\n",
       "    <tr>\n",
       "      <th>Apr</th>\n",
       "      <td>2288.0</td>\n",
       "      <td>6.0</td>\n",
       "      <td>5.0</td>\n",
       "      <td>6.0</td>\n",
       "      <td>14.0</td>\n",
       "      <td>0.0</td>\n",
       "      <td>2322405.00</td>\n",
       "      <td>5799.04</td>\n",
       "      <td>5488.72</td>\n",
       "      <td>7357.90</td>\n",
       "      <td>13076.01</td>\n",
       "      <td>0.0</td>\n",
       "    </tr>\n",
       "    <tr>\n",
       "      <th>Aug</th>\n",
       "      <td>961.0</td>\n",
       "      <td>2.0</td>\n",
       "      <td>2.0</td>\n",
       "      <td>0.0</td>\n",
       "      <td>10.0</td>\n",
       "      <td>0.0</td>\n",
       "      <td>940532.30</td>\n",
       "      <td>3263.73</td>\n",
       "      <td>2041.43</td>\n",
       "      <td>0.00</td>\n",
       "      <td>8634.02</td>\n",
       "      <td>0.0</td>\n",
       "    </tr>\n",
       "    <tr>\n",
       "      <th>Dec</th>\n",
       "      <td>278.0</td>\n",
       "      <td>1.0</td>\n",
       "      <td>2.0</td>\n",
       "      <td>2.0</td>\n",
       "      <td>2.0</td>\n",
       "      <td>0.0</td>\n",
       "      <td>282836.18</td>\n",
       "      <td>1616.17</td>\n",
       "      <td>3225.68</td>\n",
       "      <td>1014.57</td>\n",
       "      <td>1362.07</td>\n",
       "      <td>0.0</td>\n",
       "    </tr>\n",
       "    <tr>\n",
       "      <th>Feb</th>\n",
       "      <td>4045.0</td>\n",
       "      <td>10.0</td>\n",
       "      <td>20.0</td>\n",
       "      <td>7.0</td>\n",
       "      <td>22.0</td>\n",
       "      <td>2.0</td>\n",
       "      <td>4018406.33</td>\n",
       "      <td>9920.82</td>\n",
       "      <td>11053.72</td>\n",
       "      <td>6050.92</td>\n",
       "      <td>15746.11</td>\n",
       "      <td>1484.6</td>\n",
       "    </tr>\n",
       "    <tr>\n",
       "      <th>Jan</th>\n",
       "      <td>151.0</td>\n",
       "      <td>1.0</td>\n",
       "      <td>0.0</td>\n",
       "      <td>0.0</td>\n",
       "      <td>2.0</td>\n",
       "      <td>0.0</td>\n",
       "      <td>144589.31</td>\n",
       "      <td>574.34</td>\n",
       "      <td>0.00</td>\n",
       "      <td>0.00</td>\n",
       "      <td>2144.74</td>\n",
       "      <td>0.0</td>\n",
       "    </tr>\n",
       "  </tbody>\n",
       "</table>\n",
       "</div>"
      ],
      "text/plain": [
       "                num_trans                               sum_trans           \\\n",
       "cvvVerifyResult         M     N     P    U     X    Y           M        N   \n",
       "trans_month                                                                  \n",
       "Apr                2288.0   6.0   5.0  6.0  14.0  0.0  2322405.00  5799.04   \n",
       "Aug                 961.0   2.0   2.0  0.0  10.0  0.0   940532.30  3263.73   \n",
       "Dec                 278.0   1.0   2.0  2.0   2.0  0.0   282836.18  1616.17   \n",
       "Feb                4045.0  10.0  20.0  7.0  22.0  2.0  4018406.33  9920.82   \n",
       "Jan                 151.0   1.0   0.0  0.0   2.0  0.0   144589.31   574.34   \n",
       "\n",
       "                                                      \n",
       "cvvVerifyResult         P        U         X       Y  \n",
       "trans_month                                           \n",
       "Apr               5488.72  7357.90  13076.01     0.0  \n",
       "Aug               2041.43     0.00   8634.02     0.0  \n",
       "Dec               3225.68  1014.57   1362.07     0.0  \n",
       "Feb              11053.72  6050.92  15746.11  1484.6  \n",
       "Jan                  0.00     0.00   2144.74     0.0  "
      ]
     },
     "execution_count": 30,
     "metadata": {},
     "output_type": "execute_result"
    }
   ],
   "source": [
    "df_piv = df_agg.reset_index().pivot( index='trans_month' , columns='cvvVerifyResult', \n",
    "            values= ['num_trans', 'sum_trans']    ).fillna(0)\n",
    "df_piv.head(5)"
   ]
  },
  {
   "cell_type": "code",
   "execution_count": 36,
   "metadata": {},
   "outputs": [
    {
     "data": {
      "text/html": [
       "<div>\n",
       "<style scoped>\n",
       "    .dataframe tbody tr th:only-of-type {\n",
       "        vertical-align: middle;\n",
       "    }\n",
       "\n",
       "    .dataframe tbody tr th {\n",
       "        vertical-align: top;\n",
       "    }\n",
       "\n",
       "    .dataframe thead th {\n",
       "        text-align: right;\n",
       "    }\n",
       "</style>\n",
       "<table border=\"1\" class=\"dataframe\">\n",
       "  <thead>\n",
       "    <tr style=\"text-align: right;\">\n",
       "      <th></th>\n",
       "      <th>num_trans_M</th>\n",
       "      <th>num_trans_N</th>\n",
       "      <th>num_trans_P</th>\n",
       "      <th>num_trans_U</th>\n",
       "      <th>num_trans_X</th>\n",
       "      <th>num_trans_Y</th>\n",
       "      <th>sum_trans_M</th>\n",
       "      <th>sum_trans_N</th>\n",
       "      <th>sum_trans_P</th>\n",
       "      <th>sum_trans_U</th>\n",
       "      <th>sum_trans_X</th>\n",
       "      <th>sum_trans_Y</th>\n",
       "    </tr>\n",
       "    <tr>\n",
       "      <th>trans_month</th>\n",
       "      <th></th>\n",
       "      <th></th>\n",
       "      <th></th>\n",
       "      <th></th>\n",
       "      <th></th>\n",
       "      <th></th>\n",
       "      <th></th>\n",
       "      <th></th>\n",
       "      <th></th>\n",
       "      <th></th>\n",
       "      <th></th>\n",
       "      <th></th>\n",
       "    </tr>\n",
       "  </thead>\n",
       "  <tbody>\n",
       "    <tr>\n",
       "      <th>Apr</th>\n",
       "      <td>2288.0</td>\n",
       "      <td>6.0</td>\n",
       "      <td>5.0</td>\n",
       "      <td>6.0</td>\n",
       "      <td>14.0</td>\n",
       "      <td>0.0</td>\n",
       "      <td>2322405.00</td>\n",
       "      <td>5799.04</td>\n",
       "      <td>5488.72</td>\n",
       "      <td>7357.90</td>\n",
       "      <td>13076.01</td>\n",
       "      <td>0.0</td>\n",
       "    </tr>\n",
       "    <tr>\n",
       "      <th>Aug</th>\n",
       "      <td>961.0</td>\n",
       "      <td>2.0</td>\n",
       "      <td>2.0</td>\n",
       "      <td>0.0</td>\n",
       "      <td>10.0</td>\n",
       "      <td>0.0</td>\n",
       "      <td>940532.30</td>\n",
       "      <td>3263.73</td>\n",
       "      <td>2041.43</td>\n",
       "      <td>0.00</td>\n",
       "      <td>8634.02</td>\n",
       "      <td>0.0</td>\n",
       "    </tr>\n",
       "    <tr>\n",
       "      <th>Dec</th>\n",
       "      <td>278.0</td>\n",
       "      <td>1.0</td>\n",
       "      <td>2.0</td>\n",
       "      <td>2.0</td>\n",
       "      <td>2.0</td>\n",
       "      <td>0.0</td>\n",
       "      <td>282836.18</td>\n",
       "      <td>1616.17</td>\n",
       "      <td>3225.68</td>\n",
       "      <td>1014.57</td>\n",
       "      <td>1362.07</td>\n",
       "      <td>0.0</td>\n",
       "    </tr>\n",
       "    <tr>\n",
       "      <th>Feb</th>\n",
       "      <td>4045.0</td>\n",
       "      <td>10.0</td>\n",
       "      <td>20.0</td>\n",
       "      <td>7.0</td>\n",
       "      <td>22.0</td>\n",
       "      <td>2.0</td>\n",
       "      <td>4018406.33</td>\n",
       "      <td>9920.82</td>\n",
       "      <td>11053.72</td>\n",
       "      <td>6050.92</td>\n",
       "      <td>15746.11</td>\n",
       "      <td>1484.6</td>\n",
       "    </tr>\n",
       "    <tr>\n",
       "      <th>Jan</th>\n",
       "      <td>151.0</td>\n",
       "      <td>1.0</td>\n",
       "      <td>0.0</td>\n",
       "      <td>0.0</td>\n",
       "      <td>2.0</td>\n",
       "      <td>0.0</td>\n",
       "      <td>144589.31</td>\n",
       "      <td>574.34</td>\n",
       "      <td>0.00</td>\n",
       "      <td>0.00</td>\n",
       "      <td>2144.74</td>\n",
       "      <td>0.0</td>\n",
       "    </tr>\n",
       "  </tbody>\n",
       "</table>\n",
       "</div>"
      ],
      "text/plain": [
       "             num_trans_M  num_trans_N  num_trans_P  num_trans_U  num_trans_X  \\\n",
       "trans_month                                                                    \n",
       "Apr               2288.0          6.0          5.0          6.0         14.0   \n",
       "Aug                961.0          2.0          2.0          0.0         10.0   \n",
       "Dec                278.0          1.0          2.0          2.0          2.0   \n",
       "Feb               4045.0         10.0         20.0          7.0         22.0   \n",
       "Jan                151.0          1.0          0.0          0.0          2.0   \n",
       "\n",
       "             num_trans_Y  sum_trans_M  sum_trans_N  sum_trans_P  sum_trans_U  \\\n",
       "trans_month                                                                    \n",
       "Apr                  0.0   2322405.00      5799.04      5488.72      7357.90   \n",
       "Aug                  0.0    940532.30      3263.73      2041.43         0.00   \n",
       "Dec                  0.0    282836.18      1616.17      3225.68      1014.57   \n",
       "Feb                  2.0   4018406.33      9920.82     11053.72      6050.92   \n",
       "Jan                  0.0    144589.31       574.34         0.00         0.00   \n",
       "\n",
       "             sum_trans_X  sum_trans_Y  \n",
       "trans_month                            \n",
       "Apr             13076.01          0.0  \n",
       "Aug              8634.02          0.0  \n",
       "Dec              1362.07          0.0  \n",
       "Feb             15746.11       1484.6  \n",
       "Jan              2144.74          0.0  "
      ]
     },
     "execution_count": 36,
     "metadata": {},
     "output_type": "execute_result"
    }
   ],
   "source": [
    "df_piv.columns = df_piv.columns.map (flattenHierarchicalCol  )\n",
    "df_piv.head(5)\n"
   ]
  },
  {
   "cell_type": "markdown",
   "metadata": {},
   "source": [
    "[Back to contents](#Home)"
   ]
  },
  {
   "cell_type": "markdown",
   "metadata": {},
   "source": [
    "# Linking Two Data Tables"
   ]
  },
  {
   "cell_type": "markdown",
   "metadata": {},
   "source": [
    "#### Left Join <a class=\"anchor\" id=\"K1\"></a>\n",
    "We might want to find the % of each transaction within it's country for a given year."
   ]
  },
  {
   "cell_type": "markdown",
   "metadata": {},
   "source": [
    "[Dependency](#G4)"
   ]
  },
  {
   "cell_type": "code",
   "execution_count": 73,
   "metadata": {},
   "outputs": [
    {
     "data": {
      "text/html": [
       "<div>\n",
       "<style scoped>\n",
       "    .dataframe tbody tr th:only-of-type {\n",
       "        vertical-align: middle;\n",
       "    }\n",
       "\n",
       "    .dataframe tbody tr th {\n",
       "        vertical-align: top;\n",
       "    }\n",
       "\n",
       "    .dataframe thead th {\n",
       "        text-align: right;\n",
       "    }\n",
       "</style>\n",
       "<table border=\"1\" class=\"dataframe\">\n",
       "  <thead>\n",
       "    <tr style=\"text-align: right;\">\n",
       "      <th></th>\n",
       "      <th>ipCountry</th>\n",
       "      <th>trans_yr</th>\n",
       "      <th>annual_country_trans_amt</th>\n",
       "    </tr>\n",
       "  </thead>\n",
       "  <tbody>\n",
       "    <tr>\n",
       "      <th>0</th>\n",
       "      <td>ad</td>\n",
       "      <td>2007</td>\n",
       "      <td>1.07</td>\n",
       "    </tr>\n",
       "    <tr>\n",
       "      <th>1</th>\n",
       "      <td>ae</td>\n",
       "      <td>2007</td>\n",
       "      <td>23965.23</td>\n",
       "    </tr>\n",
       "    <tr>\n",
       "      <th>2</th>\n",
       "      <td>af</td>\n",
       "      <td>2007</td>\n",
       "      <td>12651.91</td>\n",
       "    </tr>\n",
       "    <tr>\n",
       "      <th>3</th>\n",
       "      <td>al</td>\n",
       "      <td>2007</td>\n",
       "      <td>1595.75</td>\n",
       "    </tr>\n",
       "    <tr>\n",
       "      <th>4</th>\n",
       "      <td>ar</td>\n",
       "      <td>2007</td>\n",
       "      <td>41664.91</td>\n",
       "    </tr>\n",
       "  </tbody>\n",
       "</table>\n",
       "</div>"
      ],
      "text/plain": [
       "  ipCountry  trans_yr  annual_country_trans_amt\n",
       "0        ad      2007                      1.07\n",
       "1        ae      2007                  23965.23\n",
       "2        af      2007                  12651.91\n",
       "3        al      2007                   1595.75\n",
       "4        ar      2007                  41664.91"
      ]
     },
     "execution_count": 73,
     "metadata": {},
     "output_type": "execute_result"
    }
   ],
   "source": [
    "# Create a summary table to join to\n",
    "\n",
    "df_country_annual_trans_count = df.groupby ( ['ipCountry', 'trans_year'] ).agg ( annual_country_trans_amt = ('transactionAmountUSD','sum')  ).reset_index()\n",
    "\n",
    "# Rename oe of the columns to make it harder.\n",
    "df_country_annual_trans_count = df_country_annual_trans_count.rename (columns  =  {'trans_year': 'trans_yr'} )\n",
    "df_country_annual_trans_count.head(5)\n",
    "\n",
    "# Note that pandas will add trans_yr to the data frame which seems silly.\n"
   ]
  },
  {
   "cell_type": "code",
   "execution_count": 82,
   "metadata": {},
   "outputs": [
    {
     "data": {
      "text/html": [
       "<div>\n",
       "<style scoped>\n",
       "    .dataframe tbody tr th:only-of-type {\n",
       "        vertical-align: middle;\n",
       "    }\n",
       "\n",
       "    .dataframe tbody tr th {\n",
       "        vertical-align: top;\n",
       "    }\n",
       "\n",
       "    .dataframe thead th {\n",
       "        text-align: right;\n",
       "    }\n",
       "</style>\n",
       "<table border=\"1\" class=\"dataframe\">\n",
       "  <thead>\n",
       "    <tr style=\"text-align: right;\">\n",
       "      <th></th>\n",
       "      <th>ipCountry</th>\n",
       "      <th>trans_year</th>\n",
       "      <th>transactionAmountUSD</th>\n",
       "      <th>annual_country_trans_amt</th>\n",
       "      <th>an_country_amt_perc</th>\n",
       "    </tr>\n",
       "  </thead>\n",
       "  <tbody>\n",
       "    <tr>\n",
       "      <th>0</th>\n",
       "      <td>ad</td>\n",
       "      <td>2007</td>\n",
       "      <td>1.07</td>\n",
       "      <td>1.07</td>\n",
       "      <td>1.000000</td>\n",
       "    </tr>\n",
       "    <tr>\n",
       "      <th>1</th>\n",
       "      <td>ae</td>\n",
       "      <td>2007</td>\n",
       "      <td>1926.21</td>\n",
       "      <td>23965.23</td>\n",
       "      <td>0.080375</td>\n",
       "    </tr>\n",
       "    <tr>\n",
       "      <th>2</th>\n",
       "      <td>ae</td>\n",
       "      <td>2007</td>\n",
       "      <td>1905.55</td>\n",
       "      <td>23965.23</td>\n",
       "      <td>0.079513</td>\n",
       "    </tr>\n",
       "    <tr>\n",
       "      <th>3</th>\n",
       "      <td>af</td>\n",
       "      <td>2007</td>\n",
       "      <td>1699.26</td>\n",
       "      <td>12651.91</td>\n",
       "      <td>0.134309</td>\n",
       "    </tr>\n",
       "    <tr>\n",
       "      <th>4</th>\n",
       "      <td>af</td>\n",
       "      <td>2007</td>\n",
       "      <td>1683.62</td>\n",
       "      <td>12651.91</td>\n",
       "      <td>0.133072</td>\n",
       "    </tr>\n",
       "    <tr>\n",
       "      <th>5</th>\n",
       "      <td>al</td>\n",
       "      <td>2007</td>\n",
       "      <td>1595.75</td>\n",
       "      <td>1595.75</td>\n",
       "      <td>1.000000</td>\n",
       "    </tr>\n",
       "    <tr>\n",
       "      <th>6</th>\n",
       "      <td>ar</td>\n",
       "      <td>2007</td>\n",
       "      <td>1897.68</td>\n",
       "      <td>41664.91</td>\n",
       "      <td>0.045546</td>\n",
       "    </tr>\n",
       "    <tr>\n",
       "      <th>7</th>\n",
       "      <td>ar</td>\n",
       "      <td>2007</td>\n",
       "      <td>1877.39</td>\n",
       "      <td>41664.91</td>\n",
       "      <td>0.045059</td>\n",
       "    </tr>\n",
       "  </tbody>\n",
       "</table>\n",
       "</div>"
      ],
      "text/plain": [
       "  ipCountry  trans_year  transactionAmountUSD  annual_country_trans_amt  \\\n",
       "0        ad        2007                  1.07                      1.07   \n",
       "1        ae        2007               1926.21                  23965.23   \n",
       "2        ae        2007               1905.55                  23965.23   \n",
       "3        af        2007               1699.26                  12651.91   \n",
       "4        af        2007               1683.62                  12651.91   \n",
       "5        al        2007               1595.75                   1595.75   \n",
       "6        ar        2007               1897.68                  41664.91   \n",
       "7        ar        2007               1877.39                  41664.91   \n",
       "\n",
       "   an_country_amt_perc  \n",
       "0             1.000000  \n",
       "1             0.080375  \n",
       "2             0.079513  \n",
       "3             0.134309  \n",
       "4             0.133072  \n",
       "5             1.000000  \n",
       "6             0.045546  \n",
       "7             0.045059  "
      ]
     },
     "execution_count": 82,
     "metadata": {},
     "output_type": "execute_result"
    }
   ],
   "source": [
    "#annual_country_trans_amt\n",
    "if  'annual_country_trans_amt' in df.columns:\n",
    "    df = df.drop ( ['annual_country_trans_amt'] , axis=1)\n",
    "\n",
    "# Do the left join\n",
    "df = df.merge ( df_country_annual_trans_count, how='left', \\\n",
    "       left_on=['ipCountry', 'trans_year'], \\\n",
    "       right_on=['ipCountry', 'trans_yr'] ) \n",
    "\n",
    "# Calculate a value based on the information now added to the table\n",
    "df['an_country_amt_perc'] = df.transactionAmountUSD / df.annual_country_trans_amt\n",
    "\n",
    "\n",
    "# View the results \n",
    "cols = ['ipCountry', 'trans_year' , 'transactionAmountUSD', 'annual_country_trans_amt','an_country_amt_perc' ]\n",
    "\n",
    "# Show the top 2 values (percentages decending) for each country/year group\n",
    "df.sort_values ( ['ipCountry', 'trans_year', 'an_country_amt_perc'], ascending = [True,True,False] ).\\\n",
    "                    groupby(['ipCountry', 'trans_year']).\\\n",
    "                    head(2).\\\n",
    "                    reset_index(drop=True)\\\n",
    "                    .loc[:,cols].head (8)"
   ]
  },
  {
   "cell_type": "markdown",
   "metadata": {},
   "source": [
    "[Back to contents](#Home)"
   ]
  },
  {
   "cell_type": "markdown",
   "metadata": {},
   "source": [
    "#### Union<a class=\"anchor\" id=\"K2\"></a>"
   ]
  },
  {
   "cell_type": "code",
   "execution_count": 96,
   "metadata": {},
   "outputs": [
    {
     "data": {
      "text/plain": [
       "us    13046\n",
       "gb     1247\n",
       "Name: ipCountry, dtype: int64"
      ]
     },
     "execution_count": 96,
     "metadata": {},
     "output_type": "execute_result"
    }
   ],
   "source": [
    "cols = ['ipCountry','transactionType', 'transactionCurrencyCode', 'paymentBillingState', 'accountID']\n",
    "\n",
    "df1 =  df [df['ipCountry']=='gb'][cols] \n",
    "df2 =  df [df['ipCountry']=='us'][cols]             \n",
    "\n",
    "# Do the union\n",
    "df_res = pd.concat ([df1,df2])\n",
    "df_res.ipCountry.value_counts()"
   ]
  },
  {
   "cell_type": "markdown",
   "metadata": {},
   "source": [
    "[Back to contents](#Home)"
   ]
  },
  {
   "cell_type": "markdown",
   "metadata": {},
   "source": [
    "# Data Cleaning : Null and Blank Values"
   ]
  },
  {
   "cell_type": "markdown",
   "metadata": {},
   "source": [
    "#### Identify and Replace Nulls <a class=\"anchor\" id=\"L1\"></a>"
   ]
  },
  {
   "cell_type": "code",
   "execution_count": 121,
   "metadata": {},
   "outputs": [
    {
     "data": {
      "text/html": [
       "<div>\n",
       "<style scoped>\n",
       "    .dataframe tbody tr th:only-of-type {\n",
       "        vertical-align: middle;\n",
       "    }\n",
       "\n",
       "    .dataframe tbody tr th {\n",
       "        vertical-align: top;\n",
       "    }\n",
       "\n",
       "    .dataframe thead th {\n",
       "        text-align: right;\n",
       "    }\n",
       "</style>\n",
       "<table border=\"1\" class=\"dataframe\">\n",
       "  <thead>\n",
       "    <tr style=\"text-align: right;\">\n",
       "      <th></th>\n",
       "      <th>col</th>\n",
       "      <th>count</th>\n",
       "    </tr>\n",
       "  </thead>\n",
       "  <tbody>\n",
       "    <tr>\n",
       "      <th>0</th>\n",
       "      <td>ipState</td>\n",
       "      <td>19996</td>\n",
       "    </tr>\n",
       "    <tr>\n",
       "      <th>1</th>\n",
       "      <td>ipPostalCode</td>\n",
       "      <td>19996</td>\n",
       "    </tr>\n",
       "    <tr>\n",
       "      <th>2</th>\n",
       "      <td>ipCountry</td>\n",
       "      <td>19996</td>\n",
       "    </tr>\n",
       "    <tr>\n",
       "      <th>3</th>\n",
       "      <td>isProxyIP</td>\n",
       "      <td>19772</td>\n",
       "    </tr>\n",
       "    <tr>\n",
       "      <th>4</th>\n",
       "      <td>cardType</td>\n",
       "      <td>18178</td>\n",
       "    </tr>\n",
       "    <tr>\n",
       "      <th>5</th>\n",
       "      <td>paymentBillingPostalCode</td>\n",
       "      <td>17640</td>\n",
       "    </tr>\n",
       "  </tbody>\n",
       "</table>\n",
       "</div>"
      ],
      "text/plain": [
       "                        col  count\n",
       "0                   ipState  19996\n",
       "1              ipPostalCode  19996\n",
       "2                 ipCountry  19996\n",
       "3                 isProxyIP  19772\n",
       "4                  cardType  18178\n",
       "5  paymentBillingPostalCode  17640"
      ]
     },
     "execution_count": 121,
     "metadata": {},
     "output_type": "execute_result"
    }
   ],
   "source": [
    "# Find true number of values (2000)\n",
    "num_rows = df.shape[0]\n",
    "\n",
    "# Identify columns with some nulls in them\n",
    "df_cols_with_nulls = df.count() [df.count() != num_rows].reset_index(drop=False)\n",
    "df_cols_with_nulls.columns = ['col', 'count']\n",
    "df_cols_with_nulls.head(6)"
   ]
  },
  {
   "cell_type": "code",
   "execution_count": 142,
   "metadata": {},
   "outputs": [
    {
     "data": {
      "text/html": [
       "<div>\n",
       "<style scoped>\n",
       "    .dataframe tbody tr th:only-of-type {\n",
       "        vertical-align: middle;\n",
       "    }\n",
       "\n",
       "    .dataframe tbody tr th {\n",
       "        vertical-align: top;\n",
       "    }\n",
       "\n",
       "    .dataframe thead th {\n",
       "        text-align: right;\n",
       "    }\n",
       "</style>\n",
       "<table border=\"1\" class=\"dataframe\">\n",
       "  <thead>\n",
       "    <tr style=\"text-align: right;\">\n",
       "      <th></th>\n",
       "      <th>ipState</th>\n",
       "      <th>ipPostalCode</th>\n",
       "      <th>ipCountry</th>\n",
       "    </tr>\n",
       "  </thead>\n",
       "  <tbody>\n",
       "    <tr>\n",
       "      <th>1666</th>\n",
       "      <td>Not Given</td>\n",
       "      <td>Not Given</td>\n",
       "      <td>Not Given</td>\n",
       "    </tr>\n",
       "    <tr>\n",
       "      <th>3338</th>\n",
       "      <td>Not Given</td>\n",
       "      <td>Not Given</td>\n",
       "      <td>Not Given</td>\n",
       "    </tr>\n",
       "    <tr>\n",
       "      <th>5413</th>\n",
       "      <td>Not Given</td>\n",
       "      <td>Not Given</td>\n",
       "      <td>Not Given</td>\n",
       "    </tr>\n",
       "    <tr>\n",
       "      <th>10823</th>\n",
       "      <td>Not Given</td>\n",
       "      <td>Not Given</td>\n",
       "      <td>Not Given</td>\n",
       "    </tr>\n",
       "  </tbody>\n",
       "</table>\n",
       "</div>"
      ],
      "text/plain": [
       "         ipState ipPostalCode  ipCountry\n",
       "1666   Not Given    Not Given  Not Given\n",
       "3338   Not Given    Not Given  Not Given\n",
       "5413   Not Given    Not Given  Not Given\n",
       "10823  Not Given    Not Given  Not Given"
      ]
     },
     "execution_count": 142,
     "metadata": {},
     "output_type": "execute_result"
    }
   ],
   "source": [
    "# For a few string columns replace the nulls with 'Not Given' (as an example)\n",
    "str_cols = list ( df_cols_with_nulls[0:3].col)\n",
    "\n",
    "# There are ways to automate this but for clarity\n",
    "df['ipState'] = df['ipState'].fillna ( 'Not Given')\n",
    "df['ipPostalCode'] = df['ipPostalCode'].fillna ( 'Not Given')\n",
    "df['ipCountry'] = df['ipCountry'].fillna ( 'Not Given')\n",
    "\n",
    "df[df.ipState=='Not Given'][ str_cols]\n",
    "\n"
   ]
  },
  {
   "cell_type": "markdown",
   "metadata": {},
   "source": [
    "[Back to contents](#Home)"
   ]
  },
  {
   "cell_type": "markdown",
   "metadata": {},
   "source": [
    "#### Identify and Replace Blank Strings<a class=\"anchor\" id=\"L2\"></a>\n",
    "It is likely that read_csv etc is clever enough to turn these to null but just in case"
   ]
  },
  {
   "cell_type": "code",
   "execution_count": 150,
   "metadata": {},
   "outputs": [
    {
     "data": {
      "text/plain": [
       "False    20000\n",
       "Name: empty_strings, dtype: int64"
      ]
     },
     "execution_count": 150,
     "metadata": {},
     "output_type": "execute_result"
    }
   ],
   "source": [
    "df ['empty_strings'] = ''\n",
    "# These do not get picked up by isna\n",
    "df.empty_strings.isna ().value_counts()"
   ]
  },
  {
   "cell_type": "code",
   "execution_count": 148,
   "metadata": {},
   "outputs": [
    {
     "data": {
      "text/plain": [
       "20000"
      ]
     },
     "execution_count": 148,
     "metadata": {},
     "output_type": "execute_result"
    }
   ],
   "source": [
    "# Identify\n",
    "(df['empty_strings'] == '').sum()"
   ]
  },
  {
   "cell_type": "code",
   "execution_count": 153,
   "metadata": {},
   "outputs": [
    {
     "data": {
      "text/plain": [
       "True    20000\n",
       "Name: empty_strings, dtype: int64"
      ]
     },
     "execution_count": 153,
     "metadata": {},
     "output_type": "execute_result"
    }
   ],
   "source": [
    "# Set them to null, then the method in the previous section can be used.\n",
    "boolIndex = df['empty_strings'] == ''\n",
    "df.loc[boolIndex, 'empty_strings'] = None\n",
    "df.empty_strings.isna ().value_counts()"
   ]
  },
  {
   "cell_type": "markdown",
   "metadata": {},
   "source": [
    "[Back to contents](#Home)"
   ]
  },
  {
   "cell_type": "markdown",
   "metadata": {},
   "source": [
    "#### Identify and Remove White Space Invisible Characters  <a class=\"anchor\" id=\"L3\"></a>\n",
    "Again the main challenge might be loading the data in the first place. Pandas might handle this quite well"
   ]
  },
  {
   "cell_type": "code",
   "execution_count": 160,
   "metadata": {},
   "outputs": [],
   "source": [
    "#https://stackoverflow.com/questions/19004080/removing-non-printable-gremlin-chars-from-text-files\n",
    "# todo, sorry."
   ]
  },
  {
   "cell_type": "markdown",
   "metadata": {},
   "source": [
    "[Back to contents](#Home)"
   ]
  },
  {
   "cell_type": "markdown",
   "metadata": {},
   "source": [
    "# Data Cleaning : Duplicate Values"
   ]
  },
  {
   "cell_type": "markdown",
   "metadata": {},
   "source": [
    "#### Flag duplicates across a set of columns  <a class=\"anchor\" id=\"M1\"></a>"
   ]
  },
  {
   "cell_type": "code",
   "execution_count": 198,
   "metadata": {},
   "outputs": [
    {
     "data": {
      "text/html": [
       "<div>\n",
       "<style scoped>\n",
       "    .dataframe tbody tr th:only-of-type {\n",
       "        vertical-align: middle;\n",
       "    }\n",
       "\n",
       "    .dataframe tbody tr th {\n",
       "        vertical-align: top;\n",
       "    }\n",
       "\n",
       "    .dataframe thead th {\n",
       "        text-align: right;\n",
       "    }\n",
       "</style>\n",
       "<table border=\"1\" class=\"dataframe\">\n",
       "  <thead>\n",
       "    <tr style=\"text-align: right;\">\n",
       "      <th></th>\n",
       "      <th>accountID</th>\n",
       "      <th>transactionDate</th>\n",
       "      <th>transactionAmountUSD</th>\n",
       "      <th>localHour</th>\n",
       "      <th>transactionType</th>\n",
       "      <th>shippingCountry</th>\n",
       "      <th>boolIndexAllDups</th>\n",
       "      <th>boolIndexKeepFirst</th>\n",
       "    </tr>\n",
       "  </thead>\n",
       "  <tbody>\n",
       "    <tr>\n",
       "      <th>13359</th>\n",
       "      <td>A2760793813048785</td>\n",
       "      <td>2007-04-22</td>\n",
       "      <td>1892.95</td>\n",
       "      <td>18</td>\n",
       "      <td>P</td>\n",
       "      <td>US</td>\n",
       "      <td>True</td>\n",
       "      <td>True</td>\n",
       "    </tr>\n",
       "    <tr>\n",
       "      <th>4675</th>\n",
       "      <td>A2760793813048785</td>\n",
       "      <td>2007-04-22</td>\n",
       "      <td>75.86</td>\n",
       "      <td>18</td>\n",
       "      <td>P</td>\n",
       "      <td>US</td>\n",
       "      <td>True</td>\n",
       "      <td>False</td>\n",
       "    </tr>\n",
       "    <tr>\n",
       "      <th>3217</th>\n",
       "      <td>D2747228971238755</td>\n",
       "      <td>2007-02-10</td>\n",
       "      <td>1789.72</td>\n",
       "      <td>2</td>\n",
       "      <td>P</td>\n",
       "      <td>AU</td>\n",
       "      <td>True</td>\n",
       "      <td>False</td>\n",
       "    </tr>\n",
       "    <tr>\n",
       "      <th>13195</th>\n",
       "      <td>D2747228971238755</td>\n",
       "      <td>2007-02-10</td>\n",
       "      <td>1720.12</td>\n",
       "      <td>8</td>\n",
       "      <td>P</td>\n",
       "      <td>FI</td>\n",
       "      <td>True</td>\n",
       "      <td>True</td>\n",
       "    </tr>\n",
       "    <tr>\n",
       "      <th>17490</th>\n",
       "      <td>D6112963463785322</td>\n",
       "      <td>2007-10-08</td>\n",
       "      <td>680.18</td>\n",
       "      <td>2</td>\n",
       "      <td>P</td>\n",
       "      <td>US</td>\n",
       "      <td>True</td>\n",
       "      <td>True</td>\n",
       "    </tr>\n",
       "  </tbody>\n",
       "</table>\n",
       "</div>"
      ],
      "text/plain": [
       "               accountID transactionDate  transactionAmountUSD  localHour  \\\n",
       "13359  A2760793813048785      2007-04-22               1892.95         18   \n",
       "4675   A2760793813048785      2007-04-22                 75.86         18   \n",
       "3217   D2747228971238755      2007-02-10               1789.72          2   \n",
       "13195  D2747228971238755      2007-02-10               1720.12          8   \n",
       "17490  D6112963463785322      2007-10-08                680.18          2   \n",
       "\n",
       "      transactionType shippingCountry  boolIndexAllDups  boolIndexKeepFirst  \n",
       "13359               P              US              True                True  \n",
       "4675                P              US              True               False  \n",
       "3217                P              AU              True               False  \n",
       "13195               P              FI              True                True  \n",
       "17490               P              US              True                True  "
      ]
     },
     "execution_count": 198,
     "metadata": {},
     "output_type": "execute_result"
    }
   ],
   "source": [
    "\n",
    "# There are not true duplicates but \n",
    "# assume that there should only be one transction per account per day.\n",
    "\n",
    "cols_display = ['accountID', 'transactionDate', 'transactionAmountUSD', 'localHour', 'transactionType', 'shippingCountry']\n",
    "\n",
    "# Use pandas to identify duplicates\n",
    "cols = ['accountID', 'transactionDate']\n",
    "df['boolIndexAllDups'] = df.duplicated ( subset = cols, keep= False) # all duplicates\n",
    "\n",
    "# To remove duplicates using the default pandas framework, use keep='first' (example in next cell)\n",
    "\n",
    "#cols = ['accountID', 'transactionDate']\n",
    "#df['boolIndexKeepFirst'] = df.duplicated ( subset = cols, keep= 'first') # only \n",
    "\n",
    "cols_display = ['accountID', 'transactionDate', 'transactionAmountUSD', 'localHour', \\\n",
    "                 'transactionType', 'shippingCountry', 'boolIndexAllDups', 'boolIndexKeepFirst']\n",
    "\n",
    "df.loc[boolIndex, cols_display].sort_values ('accountID').head(5)\n"
   ]
  },
  {
   "cell_type": "markdown",
   "metadata": {},
   "source": [
    "#### Drop duplicates across a set of columns  <a class=\"anchor\" id=\"M2\"></a>\n",
    "Pandas offers a drop_duplicates () function. However, I prefer to flag bad rows and then ignore them.\n",
    "In reality duplicates might be dealt with by ranking them according in order of \"best-looking\" row and then selecting the \n",
    "highest ranked values.\n",
    "<br>\n",
    "Another option is to flag the good rows and then just ignore the bad ones in analysis"
   ]
  },
  {
   "cell_type": "code",
   "execution_count": 201,
   "metadata": {},
   "outputs": [
    {
     "data": {
      "text/html": [
       "<div>\n",
       "<style scoped>\n",
       "    .dataframe tbody tr th:only-of-type {\n",
       "        vertical-align: middle;\n",
       "    }\n",
       "\n",
       "    .dataframe tbody tr th {\n",
       "        vertical-align: top;\n",
       "    }\n",
       "\n",
       "    .dataframe thead th {\n",
       "        text-align: right;\n",
       "    }\n",
       "</style>\n",
       "<table border=\"1\" class=\"dataframe\">\n",
       "  <thead>\n",
       "    <tr style=\"text-align: right;\">\n",
       "      <th></th>\n",
       "      <th>val</th>\n",
       "      <th>to_keep</th>\n",
       "    </tr>\n",
       "  </thead>\n",
       "  <tbody>\n",
       "    <tr>\n",
       "      <th>0</th>\n",
       "      <td>a</td>\n",
       "      <td>True</td>\n",
       "    </tr>\n",
       "    <tr>\n",
       "      <th>1</th>\n",
       "      <td>a</td>\n",
       "      <td>False</td>\n",
       "    </tr>\n",
       "    <tr>\n",
       "      <th>2</th>\n",
       "      <td>a</td>\n",
       "      <td>False</td>\n",
       "    </tr>\n",
       "    <tr>\n",
       "      <th>3</th>\n",
       "      <td>b</td>\n",
       "      <td>True</td>\n",
       "    </tr>\n",
       "    <tr>\n",
       "      <th>4</th>\n",
       "      <td>c</td>\n",
       "      <td>True</td>\n",
       "    </tr>\n",
       "    <tr>\n",
       "      <th>5</th>\n",
       "      <td>c</td>\n",
       "      <td>False</td>\n",
       "    </tr>\n",
       "    <tr>\n",
       "      <th>6</th>\n",
       "      <td>c</td>\n",
       "      <td>False</td>\n",
       "    </tr>\n",
       "  </tbody>\n",
       "</table>\n",
       "</div>"
      ],
      "text/plain": [
       "  val  to_keep\n",
       "0   a     True\n",
       "1   a    False\n",
       "2   a    False\n",
       "3   b     True\n",
       "4   c     True\n",
       "5   c    False\n",
       "6   c    False"
      ]
     },
     "execution_count": 201,
     "metadata": {},
     "output_type": "execute_result"
    }
   ],
   "source": [
    "# The above example did not show this very well because there were no \n",
    "# rows duplicated 3+ times\n",
    "\n",
    "df_test = pd.DataFrame( {'val': ['a', 'a', 'a', 'b', 'c', 'c', 'c'] })\n",
    "df_test['to_keep'] = ~ df_test.val.duplicated (keep='first')\n",
    "df_test"
   ]
  },
  {
   "cell_type": "code",
   "execution_count": 206,
   "metadata": {},
   "outputs": [
    {
     "data": {
      "text/html": [
       "<div>\n",
       "<style scoped>\n",
       "    .dataframe tbody tr th:only-of-type {\n",
       "        vertical-align: middle;\n",
       "    }\n",
       "\n",
       "    .dataframe tbody tr th {\n",
       "        vertical-align: top;\n",
       "    }\n",
       "\n",
       "    .dataframe thead th {\n",
       "        text-align: right;\n",
       "    }\n",
       "</style>\n",
       "<table border=\"1\" class=\"dataframe\">\n",
       "  <thead>\n",
       "    <tr style=\"text-align: right;\">\n",
       "      <th></th>\n",
       "      <th>val</th>\n",
       "      <th>to_keep</th>\n",
       "    </tr>\n",
       "  </thead>\n",
       "  <tbody>\n",
       "    <tr>\n",
       "      <th>0</th>\n",
       "      <td>a</td>\n",
       "      <td>True</td>\n",
       "    </tr>\n",
       "    <tr>\n",
       "      <th>3</th>\n",
       "      <td>b</td>\n",
       "      <td>True</td>\n",
       "    </tr>\n",
       "    <tr>\n",
       "      <th>4</th>\n",
       "      <td>c</td>\n",
       "      <td>True</td>\n",
       "    </tr>\n",
       "  </tbody>\n",
       "</table>\n",
       "</div>"
      ],
      "text/plain": [
       "  val  to_keep\n",
       "0   a     True\n",
       "3   b     True\n",
       "4   c     True"
      ]
     },
     "execution_count": 206,
     "metadata": {},
     "output_type": "execute_result"
    }
   ],
   "source": [
    "# So to deduplicate just select the booleanIndex\n",
    "df_test[df_test['to_keep'] == True ]  ## the == True bit is not needed"
   ]
  },
  {
   "cell_type": "markdown",
   "metadata": {},
   "source": [
    "[Back to contents](#Home)"
   ]
  },
  {
   "cell_type": "code",
   "execution_count": 161,
   "metadata": {},
   "outputs": [
    {
     "ename": "SyntaxError",
     "evalue": "invalid syntax (<ipython-input-161-1b17b8f1a35b>, line 3)",
     "output_type": "error",
     "traceback": [
      "\u001b[1;36m  File \u001b[1;32m\"<ipython-input-161-1b17b8f1a35b>\"\u001b[1;36m, line \u001b[1;32m3\u001b[0m\n\u001b[1;33m    * [TODO: Check for duplicates in one columns](#M1)\u001b[0m\n\u001b[1;37m           ^\u001b[0m\n\u001b[1;31mSyntaxError\u001b[0m\u001b[1;31m:\u001b[0m invalid syntax\n"
     ]
    }
   ],
   "source": [
    "#### Data Cleaning - Duplicate Values\n",
    "\n",
    "* [TODO: Check for duplicates in one columns](#M1)\n",
    "* [TODO: Check for duplicates in multiple columns](#M2)\n",
    "* [TODO :Flag duplicates for removal](#M3)\n"
   ]
  },
  {
   "cell_type": "markdown",
   "metadata": {},
   "source": [
    "# Scratch"
   ]
  },
  {
   "cell_type": "code",
   "execution_count": null,
   "metadata": {},
   "outputs": [],
   "source": [
    "if not 'Unknown' in df['Amount_Banded'].cat.categories:\n",
    "   df['Amount_Banded'] = df['Amount_Banded'].cat.add_categories ( 'Unknown')\n",
    "df['ColToSplit'] = df['Amount_Banded'].fillna('Unknown', inplace=False) + df.transactionCurrencyCode\n"
   ]
  },
  {
   "cell_type": "code",
   "execution_count": 875,
   "metadata": {},
   "outputs": [
    {
     "data": {
      "text/html": [
       "<div>\n",
       "<style scoped>\n",
       "    .dataframe tbody tr th:only-of-type {\n",
       "        vertical-align: middle;\n",
       "    }\n",
       "\n",
       "    .dataframe tbody tr th {\n",
       "        vertical-align: top;\n",
       "    }\n",
       "\n",
       "    .dataframe thead th {\n",
       "        text-align: right;\n",
       "    }\n",
       "</style>\n",
       "<table border=\"1\" class=\"dataframe\">\n",
       "  <thead>\n",
       "    <tr style=\"text-align: right;\">\n",
       "      <th></th>\n",
       "      <th>st_col1</th>\n",
       "      <th>index_dash</th>\n",
       "      <th>res_wrong</th>\n",
       "      <th>res_cant_do</th>\n",
       "      <th>slow_sol</th>\n",
       "      <th>st_col</th>\n",
       "    </tr>\n",
       "  </thead>\n",
       "  <tbody>\n",
       "    <tr>\n",
       "      <th>0</th>\n",
       "      <td>aa-b</td>\n",
       "      <td>2</td>\n",
       "      <td>b</td>\n",
       "      <td>NaN</td>\n",
       "      <td>b</td>\n",
       "      <td>aab</td>\n",
       "    </tr>\n",
       "    <tr>\n",
       "      <th>1</th>\n",
       "      <td>aaa-b</td>\n",
       "      <td>3</td>\n",
       "      <td>-b</td>\n",
       "      <td>NaN</td>\n",
       "      <td>b</td>\n",
       "      <td>aaab</td>\n",
       "    </tr>\n",
       "  </tbody>\n",
       "</table>\n",
       "</div>"
      ],
      "text/plain": [
       "  st_col1  index_dash res_wrong  res_cant_do slow_sol st_col\n",
       "0    aa-b           2         b          NaN        b    aab\n",
       "1   aaa-b           3        -b          NaN        b   aaab"
      ]
     },
     "execution_count": 875,
     "metadata": {},
     "output_type": "execute_result"
    }
   ],
   "source": [
    "import pandas as pd\n",
    "df = pd.DataFrame  ( {'st_col1':['aa-b', 'aaa-b']}  )\n",
    "df['index_dash'] = df['st_col1'].str.find ('-')\n",
    "\n",
    "# gives wrong answer at index 1\n",
    "df['res_wrong'] =   df['st_col1'].str.slice (3)\n",
    "\n",
    "# what I want to do :\n",
    "df['res_cant_do'] = df['st_col1'].str.slice ( df['index_dash']  )\n",
    "\n",
    "# Slow solution\n",
    "df['slow_sol'] = df.apply (lambda x: x['st_col1'] [ 1+ x['index_dash']:], axis=1 )\n",
    "\n",
    "df['st_col']= ['aab', 'aaab'] \n",
    "\n",
    "\n",
    "\n",
    "df"
   ]
  }
 ],
 "metadata": {
  "kernelspec": {
   "display_name": "Python 3",
   "language": "python",
   "name": "python3"
  },
  "language_info": {
   "codemirror_mode": {
    "name": "ipython",
    "version": 3
   },
   "file_extension": ".py",
   "mimetype": "text/x-python",
   "name": "python",
   "nbconvert_exporter": "python",
   "pygments_lexer": "ipython3",
   "version": "3.7.6"
  }
 },
 "nbformat": 4,
 "nbformat_minor": 4
}

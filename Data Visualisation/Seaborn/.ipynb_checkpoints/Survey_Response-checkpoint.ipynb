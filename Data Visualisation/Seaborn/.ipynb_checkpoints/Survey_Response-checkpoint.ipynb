{
 "cells": [
  {
   "cell_type": "markdown",
   "metadata": {},
   "source": [
    "#  Survey\n"
   ]
  },
  {
   "cell_type": "code",
   "execution_count": 206,
   "metadata": {},
   "outputs": [],
   "source": [
    "# Try to use Seaborn/Matplotlib to replicate another cool viz from Cole Nusaumbber Knaflic's book Storytelling with Data.\n",
    "# Inspiration from :\n",
    "# https://github.com/adamribaudo/storytelling-with-data-ggplot\n",
    "# Using code from the excellent:\n",
    "# https://github.com/empathy87/storytelling-with-data\n",
    "\n",
    "## Import libraries\n",
    "import numpy as np\n",
    "import matplotlib\n",
    "import matplotlib.pyplot as plt\n",
    "import pandas as pd\n",
    "import seaborn as sns# ;sns.set_style()"
   ]
  },
  {
   "cell_type": "code",
   "execution_count": 94,
   "metadata": {},
   "outputs": [],
   "source": [
    "# define colors\n",
    "GRAY1, GRAY2, GRAY3 = '#231F20', '#414040', '#555655'\n",
    "GRAY4, GRAY5, GRAY6 = '#646369', '#76787B', '#828282'\n",
    "GRAY7, GRAY8, GRAY9 = '#929497', '#A6A6A5', '#BFBEBE'\n",
    "BLUE1, BLUE2, BLUE3, BLUE4 = '#174A7E', '#4A81BF', '#94B2D7', '#94AFC5'\n",
    "BLUE5, BLUE6 = '#92CDDD', '#2E869D'\n",
    "RED1, RED2 = '#C3514E', '#E6BAB7'\n",
    "GREEN1, GREEN2 = '#0C8040', '#9ABB59'\n",
    "ORANGE1, ORANGE2, ORANGE3 = '#F79747', '#FAC090', '#F36721'"
   ]
  },
  {
   "cell_type": "code",
   "execution_count": 100,
   "metadata": {},
   "outputs": [],
   "source": [
    "# configure plot font family to Arial\n",
    "plt.rcParams['font.family'] = 'Arial'\n",
    "# configure mathtext bold and italic font family to Arial\n",
    "matplotlib.rcParams['mathtext.fontset'] = 'custom'\n",
    "matplotlib.rcParams['mathtext.bf'] = 'Arial:bold'\n",
    "matplotlib.rcParams['mathtext.it'] = 'Arial:italic'"
   ]
  },
  {
   "cell_type": "markdown",
   "metadata": {},
   "source": [
    "#### Dummy Data"
   ]
  },
  {
   "cell_type": "code",
   "execution_count": 149,
   "metadata": {},
   "outputs": [
    {
     "data": {
      "text/html": [
       "<div>\n",
       "<style scoped>\n",
       "    .dataframe tbody tr th:only-of-type {\n",
       "        vertical-align: middle;\n",
       "    }\n",
       "\n",
       "    .dataframe tbody tr th {\n",
       "        vertical-align: top;\n",
       "    }\n",
       "\n",
       "    .dataframe thead th {\n",
       "        text-align: right;\n",
       "    }\n",
       "</style>\n",
       "<table border=\"1\" class=\"dataframe\">\n",
       "  <thead>\n",
       "    <tr style=\"text-align: right;\">\n",
       "      <th></th>\n",
       "      <th>Item</th>\n",
       "      <th>Data_Bottom</th>\n",
       "      <th>Data_Middle</th>\n",
       "      <th>Data_Top</th>\n",
       "    </tr>\n",
       "  </thead>\n",
       "  <tbody>\n",
       "    <tr>\n",
       "      <th>0</th>\n",
       "      <td>Survey Item A</td>\n",
       "      <td>1</td>\n",
       "      <td>66</td>\n",
       "      <td>33</td>\n",
       "    </tr>\n",
       "    <tr>\n",
       "      <th>1</th>\n",
       "      <td>Survey Item B</td>\n",
       "      <td>5</td>\n",
       "      <td>83</td>\n",
       "      <td>12</td>\n",
       "    </tr>\n",
       "    <tr>\n",
       "      <th>2</th>\n",
       "      <td>Survey Item C</td>\n",
       "      <td>8</td>\n",
       "      <td>83</td>\n",
       "      <td>9</td>\n",
       "    </tr>\n",
       "    <tr>\n",
       "      <th>3</th>\n",
       "      <td>Survey Item D</td>\n",
       "      <td>11</td>\n",
       "      <td>80</td>\n",
       "      <td>9</td>\n",
       "    </tr>\n",
       "  </tbody>\n",
       "</table>\n",
       "</div>"
      ],
      "text/plain": [
       "            Item  Data_Bottom  Data_Middle  Data_Top\n",
       "0  Survey Item A            1           66        33\n",
       "1  Survey Item B            5           83        12\n",
       "2  Survey Item C            8           83         9\n",
       "3  Survey Item D           11           80         9"
      ]
     },
     "execution_count": 149,
     "metadata": {},
     "output_type": "execute_result"
    }
   ],
   "source": [
    "\n",
    "c1 = ['Survey Item A', 'Survey Item B' ,'Survey Item C', 'Survey Item D']\n",
    "c2 = [1,  5,   8,  11]\n",
    "c3 = [66, 83,  83, 80]\n",
    "c4 = [33, 12,  9,  9]\n",
    "\n",
    "df = pd.DataFrame ({'Item': c1, \n",
    "                   'Data_Bottom': c2,\n",
    "                   'Data_Middle': c3,\n",
    "                   'Data_Top'   : c4 \n",
    "                   })\n",
    "\n",
    "df.head()"
   ]
  },
  {
   "cell_type": "code",
   "execution_count": 207,
   "metadata": {},
   "outputs": [
    {
     "data": {
      "image/png": "[encoded data removed]",
      "text/plain": [
       "<Figure size 600x500 with 2 Axes>"
      ]
     },
     "metadata": {},
     "output_type": "display_data"
    }
   ],
   "source": [
    "fig = plt.figure(figsize=(6, 5), dpi=100)\n",
    "\n",
    "# Force figure to be size as above\n",
    "ax0 = fig.add_axes( (0,0,1,1))\n",
    "ax0.axis('Off') # don't draw anything.\n",
    "\n",
    "# Now position the real subplot so that it has a bigger border\n",
    "ax = fig.add_axes((0.1, 0.1, 0.8, 0.8))\n",
    "\n",
    "df.plot (kind=\"barh\", alpha=0.95, stacked=True , \n",
    "             color =[RED1, GRAY9, BLUE1], \n",
    "             ax=ax,  edgecolor = \"white\", width=0.8) \n",
    "\n",
    "ax.yaxis.set_ticklabels( df.Item ,fontsize=15,color=GRAY5 )\n",
    "\n",
    "# format ticks\n",
    "plt.tick_params(axis='y',which='both',left=False,right=False) #,labelbottom=False) \n",
    "plt.tick_params(axis='x',which='both',top=True ) #,labelbottom=False) \n",
    "\n",
    "# Position of ticks...\n",
    "#ax.tick_params(labelbottom=False,labeltop=True)\n",
    "ax.xaxis.set_ticks_position('top') # the rest is the same\n",
    "ax.tick_params(axis='both', which='major', labelsize=12, labelcolor=GRAY5, color=GRAY5)\n",
    "\n",
    "ax.legend().set_visible(False)\n",
    "sns.despine (left=True, top=False, bottom=True)\n",
    "\n",
    "ax.tick_params(axis='x', colors=GRAY7)\n"
   ]
  }
 ],
 "metadata": {
  "kernelspec": {
   "display_name": "Python 3",
   "language": "python",
   "name": "python3"
  },
  "language_info": {
   "codemirror_mode": {
    "name": "ipython",
    "version": 3
   },
   "file_extension": ".py",
   "mimetype": "text/x-python",
   "name": "python",
   "nbconvert_exporter": "python",
   "pygments_lexer": "ipython3",
   "version": "3.7.6"
  }
 },
 "nbformat": 4,
 "nbformat_minor": 4
}

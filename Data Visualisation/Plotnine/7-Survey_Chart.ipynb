{
 "cells": [
  {
   "cell_type": "code",
   "execution_count": 134,
   "metadata": {},
   "outputs": [],
   "source": [
    "## Import libraries\n",
    "import numpy as np\n",
    "import matplotlib.pyplot as plt \n",
    "from matplotlib import transforms\n",
    "import pandas as pd\n",
    "from pandas import CategoricalDtype\n",
    "\n",
    "\n",
    "#import seaborn as sns\n",
    "#from matplotlib.ticker import FixedLocator, FixedFormatter\n",
    "import matplotlib\n",
    "\n",
    "from plotnine import ggplot, geom_point, aes, stat_smooth, facet_wrap\n",
    "from plotnine import *\n",
    "from plotnine import ggplot, geom_point, aes, stat_smooth, facet_wrap, geom_line\n",
    "from plotnine import ggplot  # https://plotnine.readthedocs.io/en/stable/\n",
    "import pandas as pd\n",
    "import plotnine\n",
    "%matplotlib inline\n",
    "\n",
    "from  mizani import formatters # for better axis labelling\n",
    "from matplotlib.patches import Rectangle\n"
   ]
  },
  {
   "cell_type": "code",
   "execution_count": 722,
   "metadata": {},
   "outputs": [],
   "source": [
    "#pip install plotnine"
   ]
  },
  {
   "cell_type": "code",
   "execution_count": 40,
   "metadata": {},
   "outputs": [],
   "source": [
    "# define colors\n",
    "GRAY1, GRAY2, GRAY3 = '#231F20', '#414040', '#555655'\n",
    "GRAY4, GRAY5, GRAY6 = '#646369', '#76787B', '#828282'\n",
    "GRAY7, GRAY8, GRAY9 = '#929497', '#A6A6A5', '#BFBEBE'\n",
    "BLUE1, BLUE2, BLUE3, BLUE4 = '#174A7E', '#4A81BF', '#94B2D7', '#94AFC5'\n",
    "BLUE5, BLUE6 = '#92CDDD', '#2E869D'\n",
    "RED1, RED2 = '#C3514E', '#E6BAB7'\n",
    "GREEN1, GREEN2 = '#0C8040', '#9ABB59'\n",
    "ORANGE1, ORANGE2, ORANGE3 = '#F79747', '#FAC090', '#F36721'"
   ]
  },
  {
   "cell_type": "code",
   "execution_count": 3,
   "metadata": {},
   "outputs": [],
   "source": [
    "# empathy87 on github\n",
    "\n",
    "def rainbow_text(x, y, text, colors, spacing=20, ax=None, **kw):\n",
    "    colors = list(reversed(colors))\n",
    "    t = ax.transData\n",
    "    canvas = ax.figure.canvas\n",
    "\n",
    "    for i, line in enumerate(reversed(text.split('\\n'))):\n",
    "        strings = line.split('||')\n",
    "        for s, c in zip(strings, colors[i]):\n",
    "            text = ax.text(x, y, s, color=c, transform=t, **kw)\n",
    "            text.draw(canvas.get_renderer())\n",
    "            ex = text.get_window_extent()\n",
    "            t = transforms.offset_copy(text._transform, x=ex.width, \n",
    "                                       units='dots')\n",
    "\n",
    "        t = transforms.offset_copy(ax.transData, x=0, y=(i + 1) * spacing, \n",
    "                                   units='dots')\n",
    "        "
   ]
  },
  {
   "cell_type": "code",
   "execution_count": 146,
   "metadata": {},
   "outputs": [],
   "source": [
    "# configure plot font family to Arial\n",
    "plt.rcParams['font.family'] = 'Arial'\n",
    "matplotlib.rcParams['mathtext.fontset'] = 'custom'\n",
    "matplotlib.rcParams['mathtext.bf'] = 'Arial:bold'\n",
    "matplotlib.rcParams['mathtext.it'] = 'Arial:italic'"
   ]
  },
  {
   "cell_type": "markdown",
   "metadata": {},
   "source": [
    "#### Read in and process the data"
   ]
  },
  {
   "cell_type": "code",
   "execution_count": 11,
   "metadata": {},
   "outputs": [],
   "source": [
    "#df['Response'] = df['Response'].apply (lambda x: str(x).replace  ('%', '') ).astype(int)/ 100\n",
    "\n",
    "\n"
   ]
  },
  {
   "cell_type": "code",
   "execution_count": 174,
   "metadata": {},
   "outputs": [
    {
     "data": {
      "text/html": [
       "<div>\n",
       "<style scoped>\n",
       "    .dataframe tbody tr th:only-of-type {\n",
       "        vertical-align: middle;\n",
       "    }\n",
       "\n",
       "    .dataframe tbody tr th {\n",
       "        vertical-align: top;\n",
       "    }\n",
       "\n",
       "    .dataframe thead th {\n",
       "        text-align: right;\n",
       "    }\n",
       "</style>\n",
       "<table border=\"1\" class=\"dataframe\">\n",
       "  <thead>\n",
       "    <tr style=\"text-align: right;\">\n",
       "      <th></th>\n",
       "      <th>item</th>\n",
       "      <th>Answer</th>\n",
       "      <th>Percentage</th>\n",
       "    </tr>\n",
       "  </thead>\n",
       "  <tbody>\n",
       "    <tr>\n",
       "      <th>0</th>\n",
       "      <td>Survey item A</td>\n",
       "      <td>Bottom box</td>\n",
       "      <td>0.01</td>\n",
       "    </tr>\n",
       "    <tr>\n",
       "      <th>1</th>\n",
       "      <td>Survey item B</td>\n",
       "      <td>Bottom box</td>\n",
       "      <td>0.05</td>\n",
       "    </tr>\n",
       "    <tr>\n",
       "      <th>2</th>\n",
       "      <td>Survey item C</td>\n",
       "      <td>Bottom box</td>\n",
       "      <td>0.08</td>\n",
       "    </tr>\n",
       "    <tr>\n",
       "      <th>3</th>\n",
       "      <td>Survey item D</td>\n",
       "      <td>Bottom box</td>\n",
       "      <td>0.11</td>\n",
       "    </tr>\n",
       "    <tr>\n",
       "      <th>4</th>\n",
       "      <td>Survey item A</td>\n",
       "      <td>Middle</td>\n",
       "      <td>0.66</td>\n",
       "    </tr>\n",
       "  </tbody>\n",
       "</table>\n",
       "</div>"
      ],
      "text/plain": [
       "            item      Answer  Percentage\n",
       "0  Survey item A  Bottom box        0.01\n",
       "1  Survey item B  Bottom box        0.05\n",
       "2  Survey item C  Bottom box        0.08\n",
       "3  Survey item D  Bottom box        0.11\n",
       "4  Survey item A      Middle        0.66"
      ]
     },
     "execution_count": 174,
     "metadata": {},
     "output_type": "execute_result"
    }
   ],
   "source": [
    "df = pd.read_csv ( 'Data\\FIG0902.csv')\n",
    "\n",
    "# Unpivot the columns 'Bottom box', 'Middle', 'Top box'\n",
    "df = pd.melt (df.reset_index(), \n",
    "    id_vars = 'item', \n",
    "    value_vars = ['Bottom box', 'Middle', 'Top box'] ,\n",
    "    value_name='Percentage', var_name='Answer' )\n",
    "\n",
    "df['Percentage'] = df['Percentage'].apply (lambda x: str(x).replace  ('%', '') ).astype(int) / 100\n",
    "#df[ df.item == 'Survey item D']\n",
    "df.head ()"
   ]
  },
  {
   "cell_type": "code",
   "execution_count": 175,
   "metadata": {},
   "outputs": [
    {
     "data": {
      "text/html": [
       "<div>\n",
       "<style scoped>\n",
       "    .dataframe tbody tr th:only-of-type {\n",
       "        vertical-align: middle;\n",
       "    }\n",
       "\n",
       "    .dataframe tbody tr th {\n",
       "        vertical-align: top;\n",
       "    }\n",
       "\n",
       "    .dataframe thead th {\n",
       "        text-align: right;\n",
       "    }\n",
       "</style>\n",
       "<table border=\"1\" class=\"dataframe\">\n",
       "  <thead>\n",
       "    <tr style=\"text-align: right;\">\n",
       "      <th></th>\n",
       "      <th>item</th>\n",
       "      <th>Answer</th>\n",
       "      <th>Percentage</th>\n",
       "    </tr>\n",
       "  </thead>\n",
       "  <tbody>\n",
       "    <tr>\n",
       "      <th>0</th>\n",
       "      <td>Survey item A</td>\n",
       "      <td>Bottom box</td>\n",
       "      <td>0.01</td>\n",
       "    </tr>\n",
       "    <tr>\n",
       "      <th>4</th>\n",
       "      <td>Survey item A</td>\n",
       "      <td>Middle</td>\n",
       "      <td>0.66</td>\n",
       "    </tr>\n",
       "    <tr>\n",
       "      <th>8</th>\n",
       "      <td>Survey item A</td>\n",
       "      <td>Top box</td>\n",
       "      <td>0.33</td>\n",
       "    </tr>\n",
       "  </tbody>\n",
       "</table>\n",
       "</div>"
      ],
      "text/plain": [
       "            item      Answer  Percentage\n",
       "0  Survey item A  Bottom box        0.01\n",
       "4  Survey item A      Middle        0.66\n",
       "8  Survey item A     Top box        0.33"
      ]
     },
     "execution_count": 175,
     "metadata": {},
     "output_type": "execute_result"
    }
   ],
   "source": [
    "df[ df.item == 'Survey item A']\n"
   ]
  },
  {
   "cell_type": "code",
   "execution_count": 176,
   "metadata": {},
   "outputs": [],
   "source": [
    "# Get the column label text\n",
    "\n",
    "df['value_label'] = ''\n",
    "boolIndex =  ( (df['Answer']=='Bottom box') & (df['item'] != 'Survey item A') ) |   (df['Answer']=='Top box')\n",
    "df.loc [   boolIndex , 'value_label' ]  = df['Percentage']\n",
    "df['value_label'] = df['value_label'].astype ('string')\n",
    "\n",
    "df['value_label_a'] = ''\n",
    "boolIndex =   (df['Answer']=='Bottom box') & (df['item'] == 'Survey item A') \n",
    "df.loc [   boolIndex , 'value_label_a' ]  = df['Percentage']\n",
    "df['value_label_a'] = df['value_label_a'].astype ('string')\n",
    "\n"
   ]
  },
  {
   "cell_type": "code",
   "execution_count": 177,
   "metadata": {},
   "outputs": [],
   "source": [
    "# Sort the order of the chart\n",
    "# Column bars are plotted from the top down \n",
    "df['Answer'] = df.Answer.astype (CategoricalDtype(ordered=True))\n",
    "df['Answer'] = df['Answer'].cat.reorder_categories(['Top box', 'Middle', 'Bottom box'])\n",
    "\n",
    "\n"
   ]
  },
  {
   "cell_type": "code",
   "execution_count": 178,
   "metadata": {},
   "outputs": [],
   "source": [
    "df['item'] = df.item.astype (CategoricalDtype(ordered=True))\n",
    "lstCats = [i for i in df['item'].unique()] # A,B,C,D (alphabetical)\n",
    "df['item'] = df['item'].cat.reorder_categories( lstCats  )\n"
   ]
  },
  {
   "cell_type": "code",
   "execution_count": 180,
   "metadata": {},
   "outputs": [
    {
     "data": {
      "text/plain": [
       "Index(['Survey item A', 'Survey item B', 'Survey item C', 'Survey item D'], dtype='object')"
      ]
     },
     "execution_count": 180,
     "metadata": {},
     "output_type": "execute_result"
    }
   ],
   "source": [
    "df['item'].cat.categories"
   ]
  },
  {
   "cell_type": "code",
   "execution_count": 181,
   "metadata": {},
   "outputs": [],
   "source": [
    "def SWD_theme ():\n",
    "\n",
    "    # Basic information from the \n",
    "    \n",
    "    font = \"Arial\"\n",
    "    t=theme_minimal(base_size = 10, base_family = font ) \n",
    "\n",
    "    t2 = theme(\n",
    "      panel_grid_major = element_blank(),\n",
    "      panel_grid_minor = element_blank(),\n",
    "\n",
    "      axis_line = element_line(size = .1, color = GRAY9),\n",
    "      axis_text = element_text(color = GRAY3, size = 12),\n",
    "\n",
    "      #axis.ticks.x = element_line(size = 0.5, color = GRAY9),\n",
    "      #axis.ticks.y = element_line(size = 0.5, color = GRAY9),\n",
    "        \n",
    "      axis_title = element_text(color = GRAY3),\n",
    "\n",
    "      #axis_title_y = element_text(hjust = 1, margin = margin(0, 6, 0, 15, \"pt\")),\n",
    "      #axis_title_x = element_text(hjust = 0, margin = margin(6, 0, 15, 0, \"pt\")),\n",
    "      #plot_subtitle = element_text(color = GRAY4, size= 8),\n",
    "\n",
    "      plot_title = element_text(color = GRAY4, size= 12 ),\n",
    "        \n",
    "      # I don't think this line is implemented in plotnine\n",
    "      #plot_title_position = \"plot\", # This aligns the plot title to the very left edge\n",
    "        \n",
    "      #plot_caption = element_text(hjust = 0, color = GRAY6),\n",
    "      #plot_caption_position = \"plot\",\n",
    "\n",
    "      #plot_margin = margin(.5,.5,.5,.5,\"cm\"),\n",
    "      #plot_margin = (0.4 ),  \n",
    "        \n",
    "      strip_text = element_text(color = GRAY7)) \n",
    "    \n",
    "    return t+ t2\n"
   ]
  },
  {
   "cell_type": "code",
   "execution_count": 192,
   "metadata": {},
   "outputs": [
    {
     "name": "stderr",
     "output_type": "stream",
     "text": [
      "C:\\Users\\John\\anaconda3\\lib\\site-packages\\plotnine\\scales\\scale.py:102: PlotnineWarning: scale_y_continuous could not recognise parameter `position`\n"
     ]
    },
    {
     "data": {
      "text/plain": [
       "(0.0, 1.0, 0.0, 1.0)"
      ]
     },
     "execution_count": 192,
     "metadata": {},
     "output_type": "execute_result"
    },
    {
     "data": {
      "image/png": "[encoded data removed]",
      "text/plain": [
       "<Figure size 640x480 with 2 Axes>"
      ]
     },
     "metadata": {
      "needs_background": "light"
     },
     "output_type": "display_data"
    }
   ],
   "source": [
    "t = theme(         \n",
    "   \n",
    "          # Overrides\n",
    "          axis_title_y = element_text(angle = 90, va = 'bottom', ha = 'left', size = 15, color = GRAY3, y = 0.52),\n",
    "          panel_grid_major_y=element_blank(), \n",
    "          subplots_adjust={'top': 0.80, 'bottom': 0.2}\n",
    "   \n",
    ")\n",
    "\n",
    "fig = ( ggplot(aes(x = 'item', y = 'Percentage', fill = 'Answer'), data=df ) +\n",
    "  geom_col()  + \n",
    "   scale_y_continuous(position = \"top\",\n",
    "                     labels = formatters.percent_format(),\n",
    "                     breaks = [0,.2,.4, .6 , .8,  1],\n",
    "                     expand = [0,0])  +\n",
    "\n",
    "  scale_fill_manual(guide = False, \n",
    "                    values = [BLUE5,GRAY9,RED1]) + \n",
    "       \n",
    "       \n",
    "  geom_text(aes(label = ( 'value_label')  ), \n",
    "            position = position_stack(vjust = .5),\n",
    "            #format_string=\"{:.0%}\",  \n",
    "            color = \"white\", size = 14  ) +\n",
    "       \n",
    "  geom_text(aes(label = ( 'value_label_a')  ), \n",
    "            position = position_stack(vjust = -0.4),\n",
    "            #format_string=\"{:.0%}\",  \n",
    "            color = RED1, size = 14  ) +\n",
    "       \n",
    "       \n",
    "#  coord_flip() + \n",
    " \n",
    "       \n",
    "  SWD_theme () + t\n",
    "\n",
    "       \n",
    "       \n",
    ").draw(show=False, return_ggplot=False) \n",
    "\n",
    "# Having got the plot make some other annotations.\n",
    "ax1 = fig.axes[0]\n",
    "\n",
    "ax0 = fig.add_axes( (0,0,1,1))\n",
    "ax0.axis('Off') # don't draw anything.\n",
    "\n"
   ]
  }
 ],
 "metadata": {
  "kernelspec": {
   "display_name": "Python 3",
   "language": "python",
   "name": "python3"
  },
  "language_info": {
   "codemirror_mode": {
    "name": "ipython",
    "version": 3
   },
   "file_extension": ".py",
   "mimetype": "text/x-python",
   "name": "python",
   "nbconvert_exporter": "python",
   "pygments_lexer": "ipython3",
   "version": "3.7.6"
  }
 },
 "nbformat": 4,
 "nbformat_minor": 4
}

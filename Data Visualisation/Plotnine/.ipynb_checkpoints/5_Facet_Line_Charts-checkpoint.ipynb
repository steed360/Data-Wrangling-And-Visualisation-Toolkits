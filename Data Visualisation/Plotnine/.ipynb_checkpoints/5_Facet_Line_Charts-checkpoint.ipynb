{
 "cells": [
  {
   "cell_type": "code",
   "execution_count": 1,
   "metadata": {},
   "outputs": [],
   "source": [
    "## Import libraries\n",
    "import numpy as np\n",
    "import matplotlib\n",
    "import matplotlib.pyplot as plt \n",
    "from matplotlib import transforms\n",
    "import pandas as pd\n",
    "import seaborn as sns\n",
    "#from matplotlib.ticker import FixedLocator, FixedFormatter\n",
    "\n",
    "from plotnine import ggplot, geom_point, aes, stat_smooth, facet_wrap\n",
    "from plotnine import *\n",
    "from plotnine import ggplot, geom_point, aes, stat_smooth, facet_wrap, geom_line\n",
    "from plotnine import ggplot  # https://plotnine.readthedocs.io/en/stable/\n",
    "import pandas as pd\n",
    "import plotnine\n",
    "%matplotlib inline\n",
    "\n",
    "from pandas import DataFrame\n",
    "from matplotlib import gridspec\n",
    "\n",
    "from  mizani import formatters # for better axis labelling"
   ]
  },
  {
   "cell_type": "code",
   "execution_count": 2,
   "metadata": {},
   "outputs": [],
   "source": [
    "# define colors\n",
    "GRAY1, GRAY2, GRAY3 = '#231F20', '#414040', '#555655'\n",
    "GRAY4, GRAY5, GRAY6 = '#646369', '#76787B', '#828282'\n",
    "GRAY7, GRAY8, GRAY9 = '#929497', '#A6A6A5', '#BFBEBE'\n",
    "BLUE1, BLUE2, BLUE3, BLUE4 = '#174A7E', '#4A81BF', '#94B2D7', '#94AFC5'\n",
    "BLUE5, BLUE6 = '#92CDDD', '#2E869D'\n",
    "RED1, RED2 = '#C3514E', '#E6BAB7'\n",
    "GREEN1, GREEN2 = '#0C8040', '#9ABB59'\n",
    "ORANGE1, ORANGE2, ORANGE3 = '#F79747', '#FAC090', '#F36721'"
   ]
  },
  {
   "cell_type": "code",
   "execution_count": 8,
   "metadata": {},
   "outputs": [],
   "source": [
    "# configure plot font family to Arial\n",
    "plt.rcParams['font.family'] = 'Arial'\n",
    "matplotlib.rcParams['mathtext.fontset'] = 'custom'\n",
    "matplotlib.rcParams['mathtext.bf'] = 'Arial:bold'\n",
    "matplotlib.rcParams['mathtext.it'] = 'Arial:italic'"
   ]
  },
  {
   "cell_type": "markdown",
   "metadata": {},
   "source": [
    "#### Get data frames"
   ]
  },
  {
   "cell_type": "code",
   "execution_count": 127,
   "metadata": {},
   "outputs": [
    {
     "data": {
      "text/html": [
       "<div>\n",
       "<style scoped>\n",
       "    .dataframe tbody tr th:only-of-type {\n",
       "        vertical-align: middle;\n",
       "    }\n",
       "\n",
       "    .dataframe tbody tr th {\n",
       "        vertical-align: top;\n",
       "    }\n",
       "\n",
       "    .dataframe thead th {\n",
       "        text-align: right;\n",
       "    }\n",
       "</style>\n",
       "<table border=\"1\" class=\"dataframe\">\n",
       "  <thead>\n",
       "    <tr style=\"text-align: right;\">\n",
       "      <th></th>\n",
       "      <th>Category</th>\n",
       "      <th>2010</th>\n",
       "      <th>2011</th>\n",
       "      <th>2012</th>\n",
       "      <th>2013</th>\n",
       "      <th>2014</th>\n",
       "      <th>2015</th>\n",
       "    </tr>\n",
       "  </thead>\n",
       "  <tbody>\n",
       "    <tr>\n",
       "      <th>0</th>\n",
       "      <td>Arts &amp; culture</td>\n",
       "      <td>20%</td>\n",
       "      <td>25%</td>\n",
       "      <td>28%</td>\n",
       "      <td>42%</td>\n",
       "      <td>30%</td>\n",
       "      <td>43%</td>\n",
       "    </tr>\n",
       "    <tr>\n",
       "      <th>1</th>\n",
       "      <td>Education</td>\n",
       "      <td>73%</td>\n",
       "      <td>80%</td>\n",
       "      <td>74%</td>\n",
       "      <td>70%</td>\n",
       "      <td>63%</td>\n",
       "      <td>60%</td>\n",
       "    </tr>\n",
       "    <tr>\n",
       "      <th>2</th>\n",
       "      <td>Health</td>\n",
       "      <td>67%</td>\n",
       "      <td>53%</td>\n",
       "      <td>61%</td>\n",
       "      <td>65%</td>\n",
       "      <td>70%</td>\n",
       "      <td>75%</td>\n",
       "    </tr>\n",
       "    <tr>\n",
       "      <th>3</th>\n",
       "      <td>Human services</td>\n",
       "      <td>60%</td>\n",
       "      <td>85%</td>\n",
       "      <td>78%</td>\n",
       "      <td>60%</td>\n",
       "      <td>58%</td>\n",
       "      <td>55%</td>\n",
       "    </tr>\n",
       "    <tr>\n",
       "      <th>4</th>\n",
       "      <td>Other</td>\n",
       "      <td>53%</td>\n",
       "      <td>30%</td>\n",
       "      <td>45%</td>\n",
       "      <td>30%</td>\n",
       "      <td>45%</td>\n",
       "      <td>30%</td>\n",
       "    </tr>\n",
       "  </tbody>\n",
       "</table>\n",
       "</div>"
      ],
      "text/plain": [
       "         Category 2010 2011 2012 2013 2014 2015\n",
       "0  Arts & culture  20%  25%  28%  42%  30%  43%\n",
       "1       Education  73%  80%  74%  70%  63%  60%\n",
       "2          Health  67%  53%  61%  65%  70%  75%\n",
       "3  Human services  60%  85%  78%  60%  58%  55%\n",
       "4           Other  53%  30%  45%  30%  45%  30%"
      ]
     },
     "execution_count": 127,
     "metadata": {},
     "output_type": "execute_result"
    }
   ],
   "source": [
    "df = pd.read_csv ( \"Data/FIG0921-26.csv\")\n",
    "df.head()"
   ]
  },
  {
   "cell_type": "code",
   "execution_count": 319,
   "metadata": {},
   "outputs": [],
   "source": [
    "df = pd.read_csv ( \"Data/FIG0921-26.csv\")\n",
    "\n",
    "df = pd.melt (df.reset_index(), \n",
    "    id_vars = 'Category', \n",
    "    value_vars = [str(i) for i in range (2010, 2015+1)],  \n",
    "    value_name='Response', var_name='Year' )\n",
    "\n",
    "# Remove trailing percentage\n",
    "df['Response'] = df['Response'].apply (lambda x: str(x).replace  ('%', '') ).astype(int)/ 100\n",
    "#df['Selected Year'] = '2015'\n"
   ]
  },
  {
   "cell_type": "code",
   "execution_count": 320,
   "metadata": {},
   "outputs": [
    {
     "data": {
      "text/html": [
       "<div>\n",
       "<style scoped>\n",
       "    .dataframe tbody tr th:only-of-type {\n",
       "        vertical-align: middle;\n",
       "    }\n",
       "\n",
       "    .dataframe tbody tr th {\n",
       "        vertical-align: top;\n",
       "    }\n",
       "\n",
       "    .dataframe thead th {\n",
       "        text-align: right;\n",
       "    }\n",
       "</style>\n",
       "<table border=\"1\" class=\"dataframe\">\n",
       "  <thead>\n",
       "    <tr style=\"text-align: right;\">\n",
       "      <th></th>\n",
       "      <th>Category</th>\n",
       "      <th>Year</th>\n",
       "      <th>Response</th>\n",
       "      <th>Category_Cat</th>\n",
       "      <th>Year_O</th>\n",
       "    </tr>\n",
       "  </thead>\n",
       "  <tbody>\n",
       "    <tr>\n",
       "      <th>0</th>\n",
       "      <td>Arts &amp; culture</td>\n",
       "      <td>2010</td>\n",
       "      <td>0.20</td>\n",
       "      <td>Arts &amp; culture</td>\n",
       "      <td>2010</td>\n",
       "    </tr>\n",
       "    <tr>\n",
       "      <th>1</th>\n",
       "      <td>Education</td>\n",
       "      <td>2010</td>\n",
       "      <td>0.73</td>\n",
       "      <td>Education</td>\n",
       "      <td>2010</td>\n",
       "    </tr>\n",
       "    <tr>\n",
       "      <th>2</th>\n",
       "      <td>Health</td>\n",
       "      <td>2010</td>\n",
       "      <td>0.67</td>\n",
       "      <td>Health</td>\n",
       "      <td>2010</td>\n",
       "    </tr>\n",
       "    <tr>\n",
       "      <th>3</th>\n",
       "      <td>Human services</td>\n",
       "      <td>2010</td>\n",
       "      <td>0.60</td>\n",
       "      <td>Human services</td>\n",
       "      <td>2010</td>\n",
       "    </tr>\n",
       "    <tr>\n",
       "      <th>4</th>\n",
       "      <td>Other</td>\n",
       "      <td>2010</td>\n",
       "      <td>0.53</td>\n",
       "      <td>Other</td>\n",
       "      <td>2010</td>\n",
       "    </tr>\n",
       "  </tbody>\n",
       "</table>\n",
       "</div>"
      ],
      "text/plain": [
       "         Category  Year  Response    Category_Cat Year_O\n",
       "0  Arts & culture  2010      0.20  Arts & culture   2010\n",
       "1       Education  2010      0.73       Education   2010\n",
       "2          Health  2010      0.67          Health   2010\n",
       "3  Human services  2010      0.60  Human services   2010\n",
       "4           Other  2010      0.53           Other   2010"
      ]
     },
     "execution_count": 320,
     "metadata": {},
     "output_type": "execute_result"
    }
   ],
   "source": [
    "# Sort out categories\n",
    "from pandas import CategoricalDtype\n",
    "#df['Category_Cat'] = df.Category.astype (CategoricalDtype(ordered=True))\n",
    "#df['Category_Cat'] = df['Category_Cat'].cat.reorder_categories(['Health', 'Human services', 'Other', 'Arts & culture', 'Education'])\n",
    "\n",
    "df['Year_O'] = df['Year'] # object for discete axis\n",
    "df['Year'] = df['Year'].astype ( int)\n",
    "df.head()"
   ]
  },
  {
   "cell_type": "code",
   "execution_count": 272,
   "metadata": {},
   "outputs": [
    {
     "data": {
      "text/plain": [
       "Index(['Health', 'Human services', 'Other', 'Arts & culture', 'Education'], dtype='object')"
      ]
     },
     "execution_count": 272,
     "metadata": {},
     "output_type": "execute_result"
    }
   ],
   "source": [
    "df.Category_Cat.cat.categories"
   ]
  },
  {
   "cell_type": "code",
   "execution_count": 323,
   "metadata": {},
   "outputs": [
    {
     "name": "stdout",
     "output_type": "stream",
     "text": [
      "Human services\n",
      "Other\n",
      "Arts & culture\n",
      "Education\n"
     ]
    }
   ],
   "source": [
    "# Need to repliceate this data frame once for each year\n",
    "# The difference between them will be \"Selected Year\"\n",
    "# \n",
    "dfNew = df.copy()\n",
    "dfNew['SelectedCat'] = df.Category_Cat.cat.categories[0]\n",
    "#dfNew['SelectedYear'] = dfNew['SelectedYear'].astype ( int)\n",
    "\n",
    "#dfNew.astype ('Integer')\n",
    "for aCat in list (df.Category_Cat.cat.categories [1:] ):\n",
    "    print (aCat)\n",
    "    dfTmp = df.copy()\n",
    "    dfTmp['SelectedCat'] = aCat\n",
    "    dfNew = pd.concat ([dfNew, dfTmp])\n",
    "\n",
    "dfNew.tail()    \n",
    "\n",
    "df = dfNew.copy()\n",
    "    \n",
    "    \n",
    "    "
   ]
  },
  {
   "cell_type": "code",
   "execution_count": 338,
   "metadata": {},
   "outputs": [],
   "source": [
    "df['SelectedCat'] = df.SelectedCat.astype (CategoricalDtype(ordered=True))\n",
    "df['SelectedCat'] = df['SelectedCat'].cat.reorder_categories(['Health', 'Human services', 'Other', 'Arts & culture', 'Education'])\n"
   ]
  },
  {
   "cell_type": "code",
   "execution_count": 283,
   "metadata": {},
   "outputs": [
    {
     "data": {
      "text/plain": [
       "Index(['Health', 'Human services', 'Other', 'Arts & culture', 'Education'], dtype='object')"
      ]
     },
     "execution_count": 283,
     "metadata": {},
     "output_type": "execute_result"
    }
   ],
   "source": [
    "df.Category_Cat.cat.categories"
   ]
  },
  {
   "cell_type": "code",
   "execution_count": 324,
   "metadata": {},
   "outputs": [
    {
     "data": {
      "text/plain": [
       "Health            30\n",
       "Human services    30\n",
       "Other             30\n",
       "Arts & culture    30\n",
       "Education         30\n",
       "Name: SelectedCat, dtype: int64"
      ]
     },
     "execution_count": 324,
     "metadata": {},
     "output_type": "execute_result"
    }
   ],
   "source": [
    "df.SelectedCat.value_counts()"
   ]
  },
  {
   "cell_type": "code",
   "execution_count": null,
   "metadata": {},
   "outputs": [],
   "source": []
  },
  {
   "cell_type": "code",
   "execution_count": 325,
   "metadata": {},
   "outputs": [],
   "source": [
    "def SWD_style ():\n",
    "\n",
    "    # Basic information from the \n",
    "    \n",
    "    font = \"Arial\"\n",
    "    #t=theme_minimal(base_size = 10, base_family = font ) \n",
    "\n",
    "    t2 = theme(\n",
    "\n",
    "      panel_grid_major = element_blank(),\n",
    "      panel_grid_minor = element_blank(),\n",
    "\n",
    "      axis_line = element_line(size = .2, color = GRAY9),\n",
    "      axis_text = element_text(color = GRAY3, size = 12),\n",
    "\n",
    "      #axis.ticks.x = element_line(size = 0.5, color = GRAY9),\n",
    "      #axis.ticks.y = element_line(size = 0.5, color = GRAY9),\n",
    "        \n",
    "      axis_title = element_text(color = GRAY3),\n",
    "\n",
    "      #axis_title_y = element_text(hjust = 1, margin = margin(0, 6, 0, 15, \"pt\")),\n",
    "      #axis_title_x = element_text(hjust = 0, margin = margin(6, 0, 15, 0, \"pt\")),\n",
    "      #plot_subtitle = element_text(color = GRAY4, size= 8),\n",
    "\n",
    "      plot_title = element_text(color = GRAY4, size= 12 ),\n",
    "        \n",
    "      # I don't think this line is implemented in plotnine\n",
    "      #plot_title_position = \"plot\", # This aligns the plot title to the very left edge\n",
    "        \n",
    "      #plot_caption = element_text(hjust = 0, color = GRAY6),\n",
    "      #plot_caption_position = \"plot\",\n",
    "\n",
    "      #plot_margin = margin(.5,.5,.5,.5,\"cm\"),\n",
    "      #plot_margin = (0.4 ),  \n",
    "        \n",
    "      strip_text = element_text(color = GRAY7)\n",
    "      , panel_background = element_blank()\n",
    "      ,axis_ticks = element_blank()\n",
    "        \n",
    "    ) \n",
    "    \n",
    "    return t2 "
   ]
  },
  {
   "cell_type": "code",
   "execution_count": null,
   "metadata": {},
   "outputs": [],
   "source": [
    "theme_pt1 = theme (\n",
    "          axis_line_x  = element_blank(),\n",
    "          axis_line_y  = element_blank(),    \n",
    "          axis_text_y  = element_blank(),\n",
    "          axis_title_y  = element_blank(),\n",
    "\n",
    "          axis_text_x  = element_blank(),\n",
    "          axis_title_x  = element_blank(),\n",
    "    \n",
    "          # Need to make space for the left hand facet sub titles\n",
    "          #plot_margin = margin(.5,.5,.5,3,\"cm\"),\n",
    "\n",
    "          #subplots_adjust={'wspace':0.15} \n",
    "    \n",
    "          # I think this is  is inherited from fig and makes the left margin 20% in each case.\n",
    "          subplots_adjust={'left': 0.3}\n",
    "          \n",
    "          # this line below will not work.\n",
    "          #axis_title_y  = element_blcusank()\n",
    ")\n",
    "\n",
    "bool1 = df['SelectedCat'] == df['Category']\n",
    "bool2 = (df['SelectedCat'] == df['Category'] )  & ( (df['Year'] == 2010) | (df['Year'] == 2015) )\n",
    "bool3 = (df['SelectedCat'] == df['Category'] )  &  (df['Year'] == 2010) \n",
    "bool4 = (df['SelectedCat'] == df['Category'] )  &  (df['Year'] == 2015) \n",
    "\n",
    "fig  = (\n",
    "    \n",
    "ggplot(  df) +\\\n",
    "       geom_line( aes(x=\"Year\", y=\"Response\", group=\"Category\"),color = GRAY9, size = 1.2) + SWD_style()+theme_pt1 +\\\n",
    "       scale_y_continuous(labels =   formatters.percent_format() ) + \\\n",
    "       # First point for current year\n",
    "       geom_point ( aes(x='Year', y='Response'), color=BLUE2, size = 5, data = df[bool2]) +\\\n",
    "       geom_line( aes(x=\"Year\", y=\"Response\"),color = BLUE2, size = 1.2, data = df[bool1]) +\\\n",
    "    \n",
    "       geom_text(aes(x = 'Year', y = 'Response', label='Response' ), color = BLUE2, \n",
    "                 size = 10, nudge_x = -.36,format_string='{:.0%} ',  data = df[bool3]) +\\\n",
    "\n",
    "       geom_text(aes(x = 'Year', y = 'Response', label='Response' ), color = BLUE2, \n",
    "                 size = 10, nudge_x = +.36,format_string='{:.0%} ',  data = df[bool4]) +\\\n",
    "    \n",
    "       facet_grid ( 'SelectedCat~.' ) +\\\n",
    "       scale_x_continuous(breaks=[2010,2011,2012,2013,2014,2015]) + \\\n",
    "    \n",
    "       theme(\n",
    "             strip_background = element_blank(),\n",
    "             strip_text_x = element_blank(),\n",
    "             strip_text_y = element_blank()\n",
    "    \n",
    "        )\n",
    "    \n",
    ").draw(show=False, return_ggplot=False) \n",
    "\n",
    "'''\n",
    "Here we want to loop through the subplots and fix up two issues:\n",
    "a) The default (ggplot) facet label was on the right, prefer it to be on the left\n",
    "b) The X axis should be on top not on the bottom.\n",
    "'''\n",
    "\n",
    "#for ax in fig.axes:\n",
    "#    ax.text(-0.30, .55, 'hello world!', transform=ax.transAxes, color=GRAY5, fontsize=14)\n",
    "    \n",
    "for index,cat in  enumerate ( df['SelectedCat'].cat.categories ):\n",
    "    ax = fig.axes[index]\n",
    "    ax.text(-0.30, .55, cat, transform=ax.transAxes, color=GRAY5, fontsize=12)\n",
    "\n",
    "\n",
    "ax0 = fig.add_axes( (0,0,1,1))\n",
    "ax0.axis('Off') # don't draw anything.\n",
    "    \n",
    "ax_top = fig.axes[0]\n",
    "ax_top.spines['top'].set_visible(True)\n",
    "\n",
    "ax_top.tick_params (axis='x', width=1 ,labelsize=14, colors=GRAY7, labeltop=True, labelcolor=GRAY5)\n",
    "\n",
    "fig.dpi = 300\n",
    "width_in = 7\n",
    "fig.set_size_inches(width_in , width_in * 1) \n",
    "fig.savefig ( 'Plots/5_lines_pulled_apart')\n"
   ]
  }
 ],
 "metadata": {
  "kernelspec": {
   "display_name": "Python 3",
   "language": "python",
   "name": "python3"
  },
  "language_info": {
   "codemirror_mode": {
    "name": "ipython",
    "version": 3
   },
   "file_extension": ".py",
   "mimetype": "text/x-python",
   "name": "python",
   "nbconvert_exporter": "python",
   "pygments_lexer": "ipython3",
   "version": "3.7.6"
  }
 },
 "nbformat": 4,
 "nbformat_minor": 4
}

{
 "cells": [
  {
   "cell_type": "code",
   "execution_count": null,
   "metadata": {},
   "outputs": [],
   "source": [
    "import plotnine as pn\n",
    "\n",
    "fig, plot = (pn.ggplot()\n",
    " + ...\n",
    "\n",
    " + pn.theme(panel_background=pn.element_blank())\n",
    " + pn.theme(axis_title_y=pn.element_blank())\n",
    " + pn.theme(axis_ticks_major_y=pn.element_blank())\n",
    " + pn.theme(figure_size=(12, 8))\n",
    "             ).draw(show=False, return_ggplot=True)\n",
    "\n",
    "fig.savefig('image.png', dpi=300)"
   ]
  },
  {
   "cell_type": "code",
   "execution_count": null,
   "metadata": {},
   "outputs": [],
   "source": [
    "p = ggplot(aes(x,y),gg) + geom_point() \n",
    "p.save(filename = 'test3.png', height=5, width=5, units = 'cm')"
   ]
  },
  {
   "cell_type": "code",
   "execution_count": null,
   "metadata": {},
   "outputs": [],
   "source": [
    "ax = fig.gca()\n",
    "\n",
    "ax0 = fig.add_axes( (0,0,1,1))\n",
    "ax0.axis('Off') # don't draw anything.\n",
    "\n",
    "ax0.text ( -0.5, 1 ,\n",
    "         'Based on survey of 100 students conducted '\n",
    "         'before and after pilot program '\n",
    "         '(100% response rate on both surveys).',\n",
    "         fontsize=10.5,\n",
    "         color=GRAY3)\n",
    "\n",
    "fig"
   ]
  },
  {
   "cell_type": "code",
   "execution_count": null,
   "metadata": {},
   "outputs": [],
   "source": [
    "ax = fig.gca()\n",
    "pos1 = ax.get_position() # get the original position \n",
    "pos2 = [pos1.x0 + 0.3, pos1.y0 + 0.3,  pos1.width / 2.0, pos1.height / 2.0] \n",
    "ax.set_position(pos2) # set a new position\n",
    "print (pos2)"
   ]
  },
  {
   "cell_type": "code",
   "execution_count": null,
   "metadata": {},
   "outputs": [],
   "source": [
    "def bbc_style():\n",
    "    #font = \"Helvetica\"\n",
    "    font = \"Arial\"  \n",
    "    \n",
    "    t = theme(plot_title=element_text(family=font,\n",
    "                                      size=28, face=\"bold\", color=GRAY9),\n",
    "              #       plot_subtitle=element_text(family=font,\n",
    "              #                                  size=22, plot_margin=(9, 0, 9, 0)), plot_caption=element_blank(),\n",
    "\n",
    "              legend_position=\"top\", legend_title_align=0, legend_background=element_blank(),\n",
    "              legend_title=element_blank(), legend_key=element_blank(),\n",
    "              legend_text=element_text(family=font, size=18,\n",
    "                                       color=\"#222222\"), axis_title=element_blank(),\n",
    "\n",
    "              axis_text=element_text(family=font, size=18,color=\"#222222\"),\n",
    "              \n",
    "              axis_text_x=element_text(margin={'t': 5, 'b': 10}),\n",
    "              axis_ticks=element_blank(),\n",
    "              axis_line=element_blank(), panel_grid_minor=element_blank(),\n",
    "\n",
    "              panel_grid_major_y=element_line(color=\"#cbcbcb\"),\n",
    "              panel_grid_major_x=element_blank(), panel_background=element_blank(),\n",
    "              strip_background=element_rect(fill=\"white\"),\n",
    "              strip_text=element_text(size=22, hjust=0)\n",
    "              )\n",
    "    return t"
   ]
  },
  {
   "cell_type": "code",
   "execution_count": null,
   "metadata": {},
   "outputs": [],
   "source": [
    "ax = fig.gca()\n",
    "#pos1 = ax.get_position() # get the original position \n",
    "ax.set_position ( [ 0.5, 0.1, 0.9, 0.9  ])\n"
   ]
  },
  {
   "cell_type": "code",
   "execution_count": null,
   "metadata": {},
   "outputs": [],
   "source": [
    "ax = fig.gca()\n",
    "\n",
    "# Pop in a title.\n",
    "ax0 = fig.add_axes( (0,0,1,1))\n",
    "ax0.axis('Off') # don't draw anything.\n",
    "#ax0.text ( 0, 1 ,'A title', fontsize=10.5,color=GRAY3)\n",
    "\n",
    "#ax.tick_params (axis='x', width=3 ,labelsize=2, colors=GRAY7, labeltop=True, labelbottom=False,  labelcolor=GRAY5)\n",
    "#ax.yaxis.set_label_position('right') \n",
    "#ax.yaxis.set_label_coords ( 0.2  , -0.01)\n",
    "\n",
    "\n",
    "ax.set_xlabel('Concerns per 1000', horizontalalignment='left', y=1.0, x=0.15)    \n",
    "ax.xaxis.set_label_position('top') \n",
    "#ax.xaxis.set_label_coords ( 0.2, 1.1)\n"
   ]
  }
 ],
 "metadata": {
  "kernelspec": {
   "display_name": "Python 3",
   "language": "python",
   "name": "python3"
  },
  "language_info": {
   "codemirror_mode": {
    "name": "ipython",
    "version": 3
   },
   "file_extension": ".py",
   "mimetype": "text/x-python",
   "name": "python",
   "nbconvert_exporter": "python",
   "pygments_lexer": "ipython3",
   "version": "3.7.6"
  }
 },
 "nbformat": 4,
 "nbformat_minor": 4
}

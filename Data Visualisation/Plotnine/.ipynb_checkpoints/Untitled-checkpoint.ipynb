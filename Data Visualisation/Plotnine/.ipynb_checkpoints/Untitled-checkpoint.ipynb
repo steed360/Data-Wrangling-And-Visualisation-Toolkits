{
 "cells": [
  {
   "cell_type": "code",
   "execution_count": null,
   "metadata": {},
   "outputs": [
    {
     "name": "stderr",
     "output_type": "stream",
     "text": [
      "also installing the dependencies 'sys', 'bit', 'ps', 'sass', 'cachem', 'memoise', 'fastmap', 'rappdirs', 'rematch', 'askpass', 'bit64', 'prettyunits', 'processx', 'evaluate', 'highr', 'yaml', 'xfun', 'bslib', 'htmltools', 'jquerylib', 'tinytex', 'backports', 'assertthat', 'blob', 'DBI', 'vctrs', 'data.table', 'gargle', 'cellranger', 'curl', 'ids', 'rematch2', 'mime', 'openssl', 'timechange', 'clipr', 'vroom', 'tzdb', 'progress', 'callr', 'fs', 'knitr', 'rmarkdown', 'selectr', 'glue', 'lifecycle', 'pillar', 'broom', 'cli', 'crayon', 'dbplyr', 'dplyr', 'dtplyr', 'forcats', 'googledrive', 'googlesheets4', 'haven', 'hms', 'httr', 'jsonlite', 'lubridate', 'modelr', 'readr', 'readxl', 'reprex', 'rlang', 'rstudioapi', 'rvest', 'stringr', 'tibble', 'tidyr', 'xml2'\n",
      "\n"
     ]
    },
    {
     "name": "stdout",
     "output_type": "stream",
     "text": [
      "\n",
      "  There are binary versions available but the source versions are later:\n",
      "               binary source needs_compilation\n",
      "sys               3.4  3.4.1              TRUE\n",
      "bit             4.0.4  4.0.5              TRUE\n",
      "ps              1.6.0  1.7.2              TRUE\n",
      "sass            0.4.0  0.4.4              TRUE\n",
      "cachem          1.0.4  1.0.6              TRUE\n",
      "memoise         2.0.0  2.0.1             FALSE\n",
      "processx        3.5.2  3.8.0              TRUE\n",
      "evaluate         0.14   0.18             FALSE\n",
      "yaml            2.2.1  2.3.6              TRUE\n",
      "xfun             0.22   0.35              TRUE\n",
      "bslib           0.2.4  0.4.1             FALSE\n",
      "htmltools     0.5.1.1  0.5.3              TRUE\n",
      "tinytex          0.31   0.42             FALSE\n",
      "backports       1.2.1  1.4.1              TRUE\n",
      "blob            1.2.1  1.2.3             FALSE\n",
      "DBI             1.1.1  1.1.3             FALSE\n",
      "vctrs           0.3.8  0.5.1              TRUE\n",
      "data.table     1.14.0 1.14.6              TRUE\n",
      "gargle          1.1.0  1.2.1             FALSE\n",
      "curl            4.3.1  4.3.3              TRUE\n",
      "mime             0.10   0.12              TRUE\n",
      "openssl         1.4.4  2.0.4              TRUE\n",
      "timechange      0.0.2  0.1.1              TRUE\n",
      "clipr           0.7.1  0.8.0             FALSE\n",
      "vroom           1.4.0  1.6.0              TRUE\n",
      "tzdb            0.1.1  0.3.0              TRUE\n",
      "callr           3.7.0  3.7.3             FALSE\n",
      "fs              1.5.0  1.5.2              TRUE\n",
      "knitr            1.33   1.41             FALSE\n",
      "rmarkdown         2.8   2.18             FALSE\n",
      "glue            1.4.2  1.6.2              TRUE\n",
      "lifecycle       1.0.0  1.0.3             FALSE\n",
      "pillar          1.6.0  1.8.1             FALSE\n",
      "broom           0.7.6  1.0.1             FALSE\n",
      "cli             2.5.0  3.4.1              TRUE\n",
      "crayon          1.4.1  1.5.2             FALSE\n",
      "dbplyr          2.1.1  2.2.1             FALSE\n",
      "dplyr           1.0.6 1.0.10              TRUE\n",
      "dtplyr          1.1.0  1.2.2             FALSE\n",
      "forcats         0.5.1  0.5.2             FALSE\n",
      "googledrive     1.0.1  2.0.0             FALSE\n",
      "googlesheets4   0.3.0  1.0.1             FALSE\n",
      "haven           2.4.1  2.5.1              TRUE\n",
      "hms             1.0.0  1.1.2             FALSE\n",
      "httr            1.4.2  1.4.4             FALSE\n",
      "jsonlite        1.7.2  1.8.3              TRUE\n",
      "lubridate      1.7.10  1.9.0              TRUE\n",
      "modelr          0.1.8 0.1.10             FALSE\n",
      "readr           1.4.0  2.1.3              TRUE\n",
      "readxl          1.3.1  1.4.1              TRUE\n",
      "reprex          2.0.0  2.0.2             FALSE\n",
      "rlang          0.4.11  1.0.6              TRUE\n",
      "rstudioapi       0.13   0.14             FALSE\n",
      "rvest           1.0.0  1.0.3             FALSE\n",
      "stringr         1.4.0  1.5.0             FALSE\n",
      "tibble          3.1.1  3.1.8              TRUE\n",
      "tidyr           1.1.3  1.2.1              TRUE\n",
      "xml2            1.3.2  1.3.3              TRUE\n",
      "tidyverse       1.3.1  1.3.2             FALSE\n",
      "\n",
      "  Binaries will be installed\n"
     ]
    },
    {
     "name": "stderr",
     "output_type": "stream",
     "text": [
      "Warning message:\n",
      "\"packages 'dplyr', 'tidyr' are in use and will not be installed\""
     ]
    },
    {
     "name": "stdout",
     "output_type": "stream",
     "text": [
      "package 'sys' successfully unpacked and MD5 sums checked\n",
      "package 'bit' successfully unpacked and MD5 sums checked\n",
      "package 'ps' successfully unpacked and MD5 sums checked\n",
      "package 'sass' successfully unpacked and MD5 sums checked\n",
      "package 'cachem' successfully unpacked and MD5 sums checked\n",
      "package 'fastmap' successfully unpacked and MD5 sums checked\n",
      "package 'rappdirs' successfully unpacked and MD5 sums checked\n",
      "package 'rematch' successfully unpacked and MD5 sums checked\n",
      "package 'askpass' successfully unpacked and MD5 sums checked\n",
      "package 'bit64' successfully unpacked and MD5 sums checked\n",
      "package 'prettyunits' successfully unpacked and MD5 sums checked\n",
      "package 'processx' successfully unpacked and MD5 sums checked\n",
      "package 'highr' successfully unpacked and MD5 sums checked\n",
      "package 'yaml' successfully unpacked and MD5 sums checked\n",
      "package 'xfun' successfully unpacked and MD5 sums checked\n",
      "package 'htmltools' successfully unpacked and MD5 sums checked\n"
     ]
    },
    {
     "name": "stderr",
     "output_type": "stream",
     "text": [
      "Warning message:\n",
      "\"cannot remove prior installation of package 'htmltools'\"Warning message in file.copy(savedcopy, lib, recursive = TRUE):\n",
      "\"problem copying C:\\Users\\John\\anaconda3\\Lib\\R\\library\\00LOCK\\htmltools\\libs\\x64\\htmltools.dll to C:\\Users\\John\\anaconda3\\Lib\\R\\library\\htmltools\\libs\\x64\\htmltools.dll: Permission denied\"Warning message:\n",
      "\"restored 'htmltools'\""
     ]
    },
    {
     "name": "stdout",
     "output_type": "stream",
     "text": [
      "package 'jquerylib' successfully unpacked and MD5 sums checked\n",
      "package 'backports' successfully unpacked and MD5 sums checked\n",
      "package 'assertthat' successfully unpacked and MD5 sums checked\n",
      "package 'vctrs' successfully unpacked and MD5 sums checked\n"
     ]
    },
    {
     "name": "stderr",
     "output_type": "stream",
     "text": [
      "Warning message:\n",
      "\"cannot remove prior installation of package 'vctrs'\"Warning message in file.copy(savedcopy, lib, recursive = TRUE):\n",
      "\"problem copying C:\\Users\\John\\anaconda3\\Lib\\R\\library\\00LOCK\\vctrs\\libs\\x64\\vctrs.dll to C:\\Users\\John\\anaconda3\\Lib\\R\\library\\vctrs\\libs\\x64\\vctrs.dll: Permission denied\"Warning message:\n",
      "\"restored 'vctrs'\""
     ]
    },
    {
     "name": "stdout",
     "output_type": "stream",
     "text": [
      "package 'data.table' successfully unpacked and MD5 sums checked\n",
      "package 'cellranger' successfully unpacked and MD5 sums checked\n",
      "package 'curl' successfully unpacked and MD5 sums checked\n",
      "package 'ids' successfully unpacked and MD5 sums checked\n",
      "package 'rematch2' successfully unpacked and MD5 sums checked\n",
      "package 'mime' successfully unpacked and MD5 sums checked\n",
      "package 'openssl' successfully unpacked and MD5 sums checked\n",
      "package 'timechange' successfully unpacked and MD5 sums checked\n",
      "package 'vroom' successfully unpacked and MD5 sums checked\n",
      "package 'tzdb' successfully unpacked and MD5 sums checked\n",
      "package 'progress' successfully unpacked and MD5 sums checked\n",
      "package 'fs' successfully unpacked and MD5 sums checked\n",
      "package 'selectr' successfully unpacked and MD5 sums checked\n",
      "package 'glue' successfully unpacked and MD5 sums checked\n"
     ]
    },
    {
     "name": "stderr",
     "output_type": "stream",
     "text": [
      "Warning message:\n",
      "\"cannot remove prior installation of package 'glue'\"Warning message in file.copy(savedcopy, lib, recursive = TRUE):\n",
      "\"problem copying C:\\Users\\John\\anaconda3\\Lib\\R\\library\\00LOCK\\glue\\libs\\x64\\glue.dll to C:\\Users\\John\\anaconda3\\Lib\\R\\library\\glue\\libs\\x64\\glue.dll: Permission denied\"Warning message:\n",
      "\"restored 'glue'\""
     ]
    },
    {
     "name": "stdout",
     "output_type": "stream",
     "text": [
      "package 'cli' successfully unpacked and MD5 sums checked\n",
      "package 'haven' successfully unpacked and MD5 sums checked\n",
      "package 'jsonlite' successfully unpacked and MD5 sums checked\n"
     ]
    },
    {
     "name": "stderr",
     "output_type": "stream",
     "text": [
      "Warning message:\n",
      "\"cannot remove prior installation of package 'jsonlite'\"Warning message in file.copy(savedcopy, lib, recursive = TRUE):\n",
      "\"problem copying C:\\Users\\John\\anaconda3\\Lib\\R\\library\\00LOCK\\jsonlite\\libs\\x64\\jsonlite.dll to C:\\Users\\John\\anaconda3\\Lib\\R\\library\\jsonlite\\libs\\x64\\jsonlite.dll: Permission denied\"Warning message:\n",
      "\"restored 'jsonlite'\""
     ]
    },
    {
     "name": "stdout",
     "output_type": "stream",
     "text": [
      "package 'lubridate' successfully unpacked and MD5 sums checked\n",
      "package 'readr' successfully unpacked and MD5 sums checked\n",
      "package 'readxl' successfully unpacked and MD5 sums checked\n",
      "package 'rlang' successfully unpacked and MD5 sums checked\n"
     ]
    },
    {
     "name": "stderr",
     "output_type": "stream",
     "text": [
      "Warning message:\n",
      "\"cannot remove prior installation of package 'rlang'\"Warning message in file.copy(savedcopy, lib, recursive = TRUE):\n",
      "\"problem copying C:\\Users\\John\\anaconda3\\Lib\\R\\library\\00LOCK\\rlang\\libs\\x64\\rlang.dll to C:\\Users\\John\\anaconda3\\Lib\\R\\library\\rlang\\libs\\x64\\rlang.dll: Permission denied\"Warning message:\n",
      "\"restored 'rlang'\""
     ]
    }
   ],
   "source": [
    "install.packages ('tidyverse')"
   ]
  },
  {
   "cell_type": "code",
   "execution_count": 40,
   "metadata": {},
   "outputs": [
    {
     "ename": "ERROR",
     "evalue": "Error in library(stringr): there is no package called 'stringr'\n",
     "output_type": "error",
     "traceback": [
      "Error in library(stringr): there is no package called 'stringr'\nTraceback:\n",
      "1. library(stringr)"
     ]
    }
   ],
   "source": [
    "library (dplyr)\n",
    "library (stringr)"
   ]
  },
  {
   "cell_type": "code",
   "execution_count": 13,
   "metadata": {},
   "outputs": [
    {
     "ename": "ERROR",
     "evalue": "Error in read_csv(): could not find function \"read_csv\"\n",
     "output_type": "error",
     "traceback": [
      "Error in read_csv(): could not find function \"read_csv\"\nTraceback:\n"
     ]
    }
   ],
   "source": [
    "read_csv()"
   ]
  },
  {
   "cell_type": "code",
   "execution_count": 31,
   "metadata": {},
   "outputs": [
    {
     "data": {
      "text/html": [
       "<table>\n",
       "<thead><tr><th scope=col>category</th><th scope=col>category_super</th></tr></thead>\n",
       "<tbody>\n",
       "\t<tr><td>Arts &amp; culture</td><td>Arts &amp; culture</td></tr>\n",
       "\t<tr><td>Arts &amp; culture                                    </td><td><span style=white-space:pre-wrap>Education     </span></td></tr>\n",
       "\t<tr><td>Arts &amp; culture                                    </td><td><span style=white-space:pre-wrap>Health        </span></td></tr>\n",
       "\t<tr><td>Arts &amp; culture</td><td>Human services    </td></tr>\n",
       "\t<tr><td>Arts &amp; culture                                    </td><td><span style=white-space:pre-wrap>Other         </span></td></tr>\n",
       "\t<tr><td><span style=white-space:pre-wrap>Education     </span></td><td>Arts &amp; culture                                    </td></tr>\n",
       "\t<tr><td>Education     </td><td>Education     </td></tr>\n",
       "\t<tr><td>Education     </td><td>Health        </td></tr>\n",
       "\t<tr><td>Education     </td><td>Human services</td></tr>\n",
       "\t<tr><td>Education     </td><td>Other         </td></tr>\n",
       "\t<tr><td><span style=white-space:pre-wrap>Health        </span></td><td>Arts &amp; culture                                    </td></tr>\n",
       "\t<tr><td>Health        </td><td>Education     </td></tr>\n",
       "\t<tr><td>Health        </td><td>Health        </td></tr>\n",
       "\t<tr><td>Health        </td><td>Human services</td></tr>\n",
       "\t<tr><td>Health        </td><td>Other         </td></tr>\n",
       "\t<tr><td>Human services    </td><td>Arts &amp; culture</td></tr>\n",
       "\t<tr><td>Human services</td><td>Education     </td></tr>\n",
       "\t<tr><td>Human services</td><td>Health        </td></tr>\n",
       "\t<tr><td>Human services</td><td>Human services</td></tr>\n",
       "\t<tr><td>Human services</td><td>Other         </td></tr>\n",
       "\t<tr><td><span style=white-space:pre-wrap>Other         </span></td><td>Arts &amp; culture                                    </td></tr>\n",
       "\t<tr><td>Other         </td><td>Education     </td></tr>\n",
       "\t<tr><td>Other         </td><td>Health        </td></tr>\n",
       "\t<tr><td>Other         </td><td>Human services</td></tr>\n",
       "\t<tr><td>Other         </td><td>Other         </td></tr>\n",
       "</tbody>\n",
       "</table>\n"
      ],
      "text/latex": [
       "\\begin{tabular}{r|ll}\n",
       " category & category\\_super\\\\\n",
       "\\hline\n",
       "\t Arts \\& culture & Arts \\& culture\\\\\n",
       "\t Arts \\& culture & Education       \\\\\n",
       "\t Arts \\& culture & Health          \\\\\n",
       "\t Arts \\& culture & Human services  \\\\\n",
       "\t Arts \\& culture & Other           \\\\\n",
       "\t Education        & Arts \\& culture\\\\\n",
       "\t Education      & Education     \\\\\n",
       "\t Education      & Health        \\\\\n",
       "\t Education      & Human services\\\\\n",
       "\t Education      & Other         \\\\\n",
       "\t Health           & Arts \\& culture\\\\\n",
       "\t Health         & Education     \\\\\n",
       "\t Health         & Health        \\\\\n",
       "\t Health         & Human services\\\\\n",
       "\t Health         & Other         \\\\\n",
       "\t Human services   & Arts \\& culture\\\\\n",
       "\t Human services & Education     \\\\\n",
       "\t Human services & Health        \\\\\n",
       "\t Human services & Human services\\\\\n",
       "\t Human services & Other         \\\\\n",
       "\t Other            & Arts \\& culture\\\\\n",
       "\t Other          & Education     \\\\\n",
       "\t Other          & Health        \\\\\n",
       "\t Other          & Human services\\\\\n",
       "\t Other          & Other         \\\\\n",
       "\\end{tabular}\n"
      ],
      "text/markdown": [
       "\n",
       "| category | category_super |\n",
       "|---|---|\n",
       "| Arts & culture | Arts & culture |\n",
       "| Arts & culture | Education      |\n",
       "| Arts & culture | Health         |\n",
       "| Arts & culture | Human services |\n",
       "| Arts & culture | Other          |\n",
       "| Education      | Arts & culture |\n",
       "| Education      | Education      |\n",
       "| Education      | Health         |\n",
       "| Education      | Human services |\n",
       "| Education      | Other          |\n",
       "| Health         | Arts & culture |\n",
       "| Health         | Education      |\n",
       "| Health         | Health         |\n",
       "| Health         | Human services |\n",
       "| Health         | Other          |\n",
       "| Human services | Arts & culture |\n",
       "| Human services | Education      |\n",
       "| Human services | Health         |\n",
       "| Human services | Human services |\n",
       "| Human services | Other          |\n",
       "| Other          | Arts & culture |\n",
       "| Other          | Education      |\n",
       "| Other          | Health         |\n",
       "| Other          | Human services |\n",
       "| Other          | Other          |\n",
       "\n"
      ],
      "text/plain": [
       "   category       category_super\n",
       "1  Arts & culture Arts & culture\n",
       "2  Arts & culture Education     \n",
       "3  Arts & culture Health        \n",
       "4  Arts & culture Human services\n",
       "5  Arts & culture Other         \n",
       "6  Education      Arts & culture\n",
       "7  Education      Education     \n",
       "8  Education      Health        \n",
       "9  Education      Human services\n",
       "10 Education      Other         \n",
       "11 Health         Arts & culture\n",
       "12 Health         Education     \n",
       "13 Health         Health        \n",
       "14 Health         Human services\n",
       "15 Health         Other         \n",
       "16 Human services Arts & culture\n",
       "17 Human services Education     \n",
       "18 Human services Health        \n",
       "19 Human services Human services\n",
       "20 Human services Other         \n",
       "21 Other          Arts & culture\n",
       "22 Other          Education     \n",
       "23 Other          Health        \n",
       "24 Other          Human services\n",
       "25 Other          Other         "
      ]
     },
     "metadata": {},
     "output_type": "display_data"
    }
   ],
   "source": [
    "df <- read.csv(\"Data\\\\FIG0921-26.csv\")  %>% rename(category = Category) %>% mutate(category_super = category) %>% expand(category,category_super)\n",
    "dfb"
   ]
  },
  {
   "cell_type": "code",
   "execution_count": 37,
   "metadata": {},
   "outputs": [
    {
     "name": "stderr",
     "output_type": "stream",
     "text": [
      "Joining, by = \"category\"\n"
     ]
    },
    {
     "ename": "ERROR",
     "evalue": "Error: Problem with `mutate()` column `value`.\ni `value = as.numeric(str_remove(value, \"\\\\%\"))/100`.\nx could not find function \"str_remove\"\n",
     "output_type": "error",
     "traceback": [
      "Error: Problem with `mutate()` column `value`.\ni `value = as.numeric(str_remove(value, \"\\\\%\"))/100`.\nx could not find function \"str_remove\"\nTraceback:\n",
      "1. read.csv(\"data\\\\FIG0921-26.csv\") %>% rename(category = Category) %>% \n .     mutate(category_super = category) %>% expand(category, category_super) %>% \n .     left_join(read.csv(\"data\\\\FIG0921-26.csv\") %>% rename(category = Category)) %>% \n .     pivot_longer(cols = !c(category, category_super), names_to = \"year\", \n .         values_to = \"value\") %>% mutate(value = as.numeric(str_remove(value, \n .     \"\\\\%\"))/100) %>% mutate(year = as.factor(year)) %>% mutate(category_super_wrap = factor(stringr::str_wrap(category_super, \n .     width = 6))) %>% mutate(category_super_wrap = forcats::fct_relevel(category_super_wrap, \n .     \"Health\", \"Education\", \"Human\\nservices\", \"Arts &\\nculture\", \n .     \"Other\")) %>% mutate(value_pct = scales::percent(value))",
      "2. mutate(., value_pct = scales::percent(value))",
      "3. mutate(., category_super_wrap = forcats::fct_relevel(category_super_wrap, \n .     \"Health\", \"Education\", \"Human\\nservices\", \"Arts &\\nculture\", \n .     \"Other\"))",
      "4. mutate(., category_super_wrap = factor(stringr::str_wrap(category_super, \n .     width = 6)))",
      "5. mutate(., year = as.factor(year))",
      "6. mutate(., value = as.numeric(str_remove(value, \"\\\\%\"))/100)",
      "7. mutate.data.frame(., value = as.numeric(str_remove(value, \"\\\\%\"))/100)",
      "8. mutate_cols(.data, ..., caller_env = caller_env())",
      "9. withCallingHandlers({\n .     for (i in seq_along(dots)) {\n .         mask$across_cache_reset()\n .         context_poke(\"column\", old_current_column)\n .         quosures <- expand_across(dots[[i]])\n .         quosures_results <- vector(mode = \"list\", length = length(quosures))\n .         for (k in seq_along(quosures)) {\n .             quo <- quosures[[k]]\n .             quo_data <- attr(quo, \"dplyr:::data\")\n .             if (!is.null(quo_data$column)) {\n .                 context_poke(\"column\", quo_data$column)\n .             }\n .             chunks <- NULL\n .             result <- NULL\n .             if (quo_is_symbol(quo)) {\n .                 name <- as_string(quo_get_expr(quo))\n .                 if (name %in% names(new_columns)) {\n .                   result <- new_columns[[name]]\n .                   chunks <- mask$resolve(name)\n .                 }\n .                 else if (name %in% names(.data)) {\n .                   result <- .data[[name]]\n .                   chunks <- mask$resolve(name)\n .                 }\n .                 if (inherits(.data, \"rowwise_df\") && vec_is_list(result)) {\n .                   sizes <- list_sizes(result)\n .                   wrong <- which(sizes != 1)\n .                   if (length(wrong)) {\n .                     group <- wrong[1L]\n .                     mask$set_current_group(group)\n .                     abort(x_size = sizes[group], class = \"dplyr:::mutate_incompatible_size\")\n .                   }\n .                 }\n .             }\n .             if (is.null(chunks)) {\n .                 chunks <- mask$eval_all_mutate(quo)\n .             }\n .             if (is.null(chunks)) {\n .                 next\n .             }\n .             if (is.null(result)) {\n .                 if (length(rows) == 1) {\n .                   result <- chunks[[1]]\n .                 }\n .                 else {\n .                   result <- withCallingHandlers(vec_unchop(chunks <- vec_cast_common(!!!chunks), \n .                     rows), vctrs_error_incompatible_type = function(cnd) {\n .                     abort(class = \"dplyr:::error_mutate_incompatible_combine\", \n .                       parent = cnd)\n .                   })\n .                 }\n .             }\n .             quosures_results[[k]] <- list(result = result, chunks = chunks)\n .         }\n .         for (k in seq_along(quosures)) {\n .             quo <- quosures[[k]]\n .             quo_data <- attr(quo, \"dplyr:::data\")\n .             quo_result <- quosures_results[[k]]\n .             if (is.null(quo_result)) {\n .                 if (quo_data$is_named) {\n .                   name <- quo_data$name_given\n .                   new_columns[[name]] <- zap()\n .                   mask$remove(name)\n .                 }\n .                 next\n .             }\n .             result <- quo_result$result\n .             chunks <- quo_result$chunks\n .             if (!quo_data$is_named && is.data.frame(result)) {\n .                 new_columns[names(result)] <- result\n .                 mask$add_many(result, chunks)\n .             }\n .             else {\n .                 name <- quo_data$name_auto\n .                 new_columns[[name]] <- result\n .                 mask$add_one(name, chunks)\n .             }\n .         }\n .     }\n . }, error = function(e) {\n .     local_call_step(dots = dots, .index = i, .fn = \"mutate\", \n .         .dot_data = inherits(e, \"rlang_error_data_pronoun_not_found\"))\n .     call_step_envir <- peek_call_step()\n .     error_name <- call_step_envir$error_name\n .     error_expression <- call_step_envir$error_expression\n .     show_group_details <- TRUE\n .     if (inherits(e, \"dplyr:::mutate_incompatible_size\")) {\n .         size <- vec_size(rows[[mask$get_current_group()]])\n .         x_size <- e$x_size\n .         bullets <- c(i = cnd_bullet_column_info(), i = glue(\"`{error_name}` must be size {or_1(size)}, not {x_size}.\"), \n .             i = cnd_bullet_rowwise_unlist())\n .     }\n .     else if (inherits(e, \"dplyr:::mutate_mixed_null\")) {\n .         show_group_details <- FALSE\n .         bullets <- c(i = cnd_bullet_column_info(), x = glue(\"`{error_name}` must return compatible vectors across groups.\"), \n .             i = \"Cannot combine NULL and non NULL results.\", \n .             i = cnd_bullet_rowwise_unlist())\n .     }\n .     else if (inherits(e, \"dplyr:::mutate_not_vector\")) {\n .         bullets <- c(i = cnd_bullet_column_info(), x = glue(\"`{error_name}` must be a vector, not {friendly_type_of(e$result)}.\"), \n .             i = cnd_bullet_rowwise_unlist())\n .     }\n .     else if (inherits(e, \"dplyr:::error_mutate_incompatible_combine\")) {\n .         show_group_details <- FALSE\n .         bullets <- c(i = cnd_bullet_column_info(), x = glue(\"`{error_name}` must return compatible vectors across groups\"), \n .             i = cnd_bullet_combine_details(e$parent$x, e$parent$x_arg), \n .             i = cnd_bullet_combine_details(e$parent$y, e$parent$y_arg))\n .     }\n .     else {\n .         bullets <- c(i = cnd_bullet_column_info(), x = conditionMessage(e))\n .     }\n .     bullets <- c(cnd_bullet_header(), bullets, i = if (show_group_details) cnd_bullet_cur_group_label())\n .     abort(bullets, class = c(\"dplyr:::mutate_error\", \"dplyr_error\"), \n .         error_name = error_name, error_expression = error_expression, \n .         parent = e, bullets = bullets)\n . }, warning = function(w) {\n .     if (check_muffled_warning(w)) {\n .         maybe_restart(\"muffleWarning\")\n .     }\n .     local_call_step(dots = dots, .index = i, .fn = \"mutate\")\n .     warn(c(cnd_bullet_header(), i = cnd_bullet_column_info(), \n .         i = conditionMessage(w), i = cnd_bullet_cur_group_label(what = \"warning\")))\n .     maybe_restart(\"muffleWarning\")\n . })",
      "10. mask$eval_all_mutate(quo)",
      "11. .handleSimpleError(function (e) \n  . {\n  .     local_call_step(dots = dots, .index = i, .fn = \"mutate\", \n  .         .dot_data = inherits(e, \"rlang_error_data_pronoun_not_found\"))\n  .     call_step_envir <- peek_call_step()\n  .     error_name <- call_step_envir$error_name\n  .     error_expression <- call_step_envir$error_expression\n  .     show_group_details <- TRUE\n  .     if (inherits(e, \"dplyr:::mutate_incompatible_size\")) {\n  .         size <- vec_size(rows[[mask$get_current_group()]])\n  .         x_size <- e$x_size\n  .         bullets <- c(i = cnd_bullet_column_info(), i = glue(\"`{error_name}` must be size {or_1(size)}, not {x_size}.\"), \n  .             i = cnd_bullet_rowwise_unlist())\n  .     }\n  .     else if (inherits(e, \"dplyr:::mutate_mixed_null\")) {\n  .         show_group_details <- FALSE\n  .         bullets <- c(i = cnd_bullet_column_info(), x = glue(\"`{error_name}` must return compatible vectors across groups.\"), \n  .             i = \"Cannot combine NULL and non NULL results.\", \n  .             i = cnd_bullet_rowwise_unlist())\n  .     }\n  .     else if (inherits(e, \"dplyr:::mutate_not_vector\")) {\n  .         bullets <- c(i = cnd_bullet_column_info(), x = glue(\"`{error_name}` must be a vector, not {friendly_type_of(e$result)}.\"), \n  .             i = cnd_bullet_rowwise_unlist())\n  .     }\n  .     else if (inherits(e, \"dplyr:::error_mutate_incompatible_combine\")) {\n  .         show_group_details <- FALSE\n  .         bullets <- c(i = cnd_bullet_column_info(), x = glue(\"`{error_name}` must return compatible vectors across groups\"), \n  .             i = cnd_bullet_combine_details(e$parent$x, e$parent$x_arg), \n  .             i = cnd_bullet_combine_details(e$parent$y, e$parent$y_arg))\n  .     }\n  .     else {\n  .         bullets <- c(i = cnd_bullet_column_info(), x = conditionMessage(e))\n  .     }\n  .     bullets <- c(cnd_bullet_header(), bullets, i = if (show_group_details) cnd_bullet_cur_group_label())\n  .     abort(bullets, class = c(\"dplyr:::mutate_error\", \"dplyr_error\"), \n  .         error_name = error_name, error_expression = error_expression, \n  .         parent = e, bullets = bullets)\n  . }, \"could not find function \\\"str_remove\\\"\", base::quote(str_remove(value, \n  .     \"\\\\%\")))",
      "12. h(simpleError(msg, call))",
      "13. abort(bullets, class = c(\"dplyr:::mutate_error\", \"dplyr_error\"), \n  .     error_name = error_name, error_expression = error_expression, \n  .     parent = e, bullets = bullets)",
      "14. signal_abort(cnd)"
     ]
    }
   ],
   "source": [
    "df <- read.csv(\"data\\\\FIG0921-26.csv\") %>% rename(category = Category) %>% \n",
    "  mutate(category_super = category) %>% expand(category,category_super) %>% \n",
    "  left_join(read.csv(\"data\\\\FIG0921-26.csv\") %>% rename(category = Category)) %>%\n",
    "  pivot_longer(cols = !c(category,category_super), names_to = \"year\", values_to = \"value\") %>%\n",
    "  mutate(value = as.numeric(str_remove(value,\"\\\\%\"))/100) %>% mutate(year = as.factor(year)) %>%\n",
    "  mutate(category_super_wrap = factor(stringr::str_wrap(category_super, width = 6))) %>%\n",
    "  mutate(category_super_wrap = forcats::fct_relevel(category_super_wrap, \"Health\", \"Education\", \"Human\\nservices\", \"Arts &\\nculture\", \"Other\")) %>%\n",
    "  mutate(value_pct = scales::percent(value))"
   ]
  },
  {
   "cell_type": "code",
   "execution_count": 36,
   "metadata": {},
   "outputs": [
    {
     "data": {
      "text/html": [
       "<table>\n",
       "<thead><tr><th scope=col>category</th><th scope=col>category_super</th></tr></thead>\n",
       "<tbody>\n",
       "\t<tr><td>Arts &amp; culture</td><td>Arts &amp; culture</td></tr>\n",
       "\t<tr><td>Arts &amp; culture                                    </td><td><span style=white-space:pre-wrap>Education     </span></td></tr>\n",
       "\t<tr><td>Arts &amp; culture                                    </td><td><span style=white-space:pre-wrap>Health        </span></td></tr>\n",
       "\t<tr><td>Arts &amp; culture</td><td>Human services    </td></tr>\n",
       "\t<tr><td>Arts &amp; culture                                    </td><td><span style=white-space:pre-wrap>Other         </span></td></tr>\n",
       "\t<tr><td><span style=white-space:pre-wrap>Education     </span></td><td>Arts &amp; culture                                    </td></tr>\n",
       "\t<tr><td>Education     </td><td>Education     </td></tr>\n",
       "\t<tr><td>Education     </td><td>Health        </td></tr>\n",
       "\t<tr><td>Education     </td><td>Human services</td></tr>\n",
       "\t<tr><td>Education     </td><td>Other         </td></tr>\n",
       "\t<tr><td><span style=white-space:pre-wrap>Health        </span></td><td>Arts &amp; culture                                    </td></tr>\n",
       "\t<tr><td>Health        </td><td>Education     </td></tr>\n",
       "\t<tr><td>Health        </td><td>Health        </td></tr>\n",
       "\t<tr><td>Health        </td><td>Human services</td></tr>\n",
       "\t<tr><td>Health        </td><td>Other         </td></tr>\n",
       "\t<tr><td>Human services    </td><td>Arts &amp; culture</td></tr>\n",
       "\t<tr><td>Human services</td><td>Education     </td></tr>\n",
       "\t<tr><td>Human services</td><td>Health        </td></tr>\n",
       "\t<tr><td>Human services</td><td>Human services</td></tr>\n",
       "\t<tr><td>Human services</td><td>Other         </td></tr>\n",
       "\t<tr><td><span style=white-space:pre-wrap>Other         </span></td><td>Arts &amp; culture                                    </td></tr>\n",
       "\t<tr><td>Other         </td><td>Education     </td></tr>\n",
       "\t<tr><td>Other         </td><td>Health        </td></tr>\n",
       "\t<tr><td>Other         </td><td>Human services</td></tr>\n",
       "\t<tr><td>Other         </td><td>Other         </td></tr>\n",
       "</tbody>\n",
       "</table>\n"
      ],
      "text/latex": [
       "\\begin{tabular}{r|ll}\n",
       " category & category\\_super\\\\\n",
       "\\hline\n",
       "\t Arts \\& culture & Arts \\& culture\\\\\n",
       "\t Arts \\& culture & Education       \\\\\n",
       "\t Arts \\& culture & Health          \\\\\n",
       "\t Arts \\& culture & Human services  \\\\\n",
       "\t Arts \\& culture & Other           \\\\\n",
       "\t Education        & Arts \\& culture\\\\\n",
       "\t Education      & Education     \\\\\n",
       "\t Education      & Health        \\\\\n",
       "\t Education      & Human services\\\\\n",
       "\t Education      & Other         \\\\\n",
       "\t Health           & Arts \\& culture\\\\\n",
       "\t Health         & Education     \\\\\n",
       "\t Health         & Health        \\\\\n",
       "\t Health         & Human services\\\\\n",
       "\t Health         & Other         \\\\\n",
       "\t Human services   & Arts \\& culture\\\\\n",
       "\t Human services & Education     \\\\\n",
       "\t Human services & Health        \\\\\n",
       "\t Human services & Human services\\\\\n",
       "\t Human services & Other         \\\\\n",
       "\t Other            & Arts \\& culture\\\\\n",
       "\t Other          & Education     \\\\\n",
       "\t Other          & Health        \\\\\n",
       "\t Other          & Human services\\\\\n",
       "\t Other          & Other         \\\\\n",
       "\\end{tabular}\n"
      ],
      "text/markdown": [
       "\n",
       "| category | category_super |\n",
       "|---|---|\n",
       "| Arts & culture | Arts & culture |\n",
       "| Arts & culture | Education      |\n",
       "| Arts & culture | Health         |\n",
       "| Arts & culture | Human services |\n",
       "| Arts & culture | Other          |\n",
       "| Education      | Arts & culture |\n",
       "| Education      | Education      |\n",
       "| Education      | Health         |\n",
       "| Education      | Human services |\n",
       "| Education      | Other          |\n",
       "| Health         | Arts & culture |\n",
       "| Health         | Education      |\n",
       "| Health         | Health         |\n",
       "| Health         | Human services |\n",
       "| Health         | Other          |\n",
       "| Human services | Arts & culture |\n",
       "| Human services | Education      |\n",
       "| Human services | Health         |\n",
       "| Human services | Human services |\n",
       "| Human services | Other          |\n",
       "| Other          | Arts & culture |\n",
       "| Other          | Education      |\n",
       "| Other          | Health         |\n",
       "| Other          | Human services |\n",
       "| Other          | Other          |\n",
       "\n"
      ],
      "text/plain": [
       "   category       category_super\n",
       "1  Arts & culture Arts & culture\n",
       "2  Arts & culture Education     \n",
       "3  Arts & culture Health        \n",
       "4  Arts & culture Human services\n",
       "5  Arts & culture Other         \n",
       "6  Education      Arts & culture\n",
       "7  Education      Education     \n",
       "8  Education      Health        \n",
       "9  Education      Human services\n",
       "10 Education      Other         \n",
       "11 Health         Arts & culture\n",
       "12 Health         Education     \n",
       "13 Health         Health        \n",
       "14 Health         Human services\n",
       "15 Health         Other         \n",
       "16 Human services Arts & culture\n",
       "17 Human services Education     \n",
       "18 Human services Health        \n",
       "19 Human services Human services\n",
       "20 Human services Other         \n",
       "21 Other          Arts & culture\n",
       "22 Other          Education     \n",
       "23 Other          Health        \n",
       "24 Other          Human services\n",
       "25 Other          Other         "
      ]
     },
     "metadata": {},
     "output_type": "display_data"
    }
   ],
   "source": [
    "df"
   ]
  }
 ],
 "metadata": {
  "kernelspec": {
   "display_name": "R",
   "language": "R",
   "name": "ir"
  },
  "language_info": {
   "codemirror_mode": "r",
   "file_extension": ".r",
   "mimetype": "text/x-r-source",
   "name": "R",
   "pygments_lexer": "r",
   "version": "3.6.1"
  }
 },
 "nbformat": 4,
 "nbformat_minor": 4
}

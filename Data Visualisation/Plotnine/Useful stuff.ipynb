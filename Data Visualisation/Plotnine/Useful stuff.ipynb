{
 "cells": [
  {
   "cell_type": "code",
   "execution_count": null,
   "metadata": {},
   "outputs": [],
   "source": [
    "import plotnine as pn\n",
    "\n",
    "fig, plot = (pn.ggplot()\n",
    " + ...\n",
    "\n",
    " + pn.theme(panel_background=pn.element_blank())\n",
    " + pn.theme(axis_title_y=pn.element_blank())\n",
    " + pn.theme(axis_ticks_major_y=pn.element_blank())\n",
    " + pn.theme(figure_size=(12, 8))\n",
    "             ).draw(show=False, return_ggplot=True)\n",
    "\n",
    "fig.savefig('image.png', dpi=300)"
   ]
  },
  {
   "cell_type": "code",
   "execution_count": null,
   "metadata": {},
   "outputs": [],
   "source": [
    "p = ggplot(aes(x,y),gg) + geom_point() \n",
    "p.save(filename = 'test3.png', height=5, width=5, units = 'cm')"
   ]
  },
  {
   "cell_type": "code",
   "execution_count": 1,
   "metadata": {},
   "outputs": [
    {
     "ename": "NameError",
     "evalue": "name 'fig' is not defined",
     "output_type": "error",
     "traceback": [
      "\u001b[1;31m---------------------------------------------------------------------------\u001b[0m",
      "\u001b[1;31mNameError\u001b[0m                                 Traceback (most recent call last)",
      "\u001b[1;32m<ipython-input-1-2d36bac24312>\u001b[0m in \u001b[0;36m<module>\u001b[1;34m\u001b[0m\n\u001b[1;32m----> 1\u001b[1;33m \u001b[0max\u001b[0m \u001b[1;33m=\u001b[0m \u001b[0mfig\u001b[0m\u001b[1;33m.\u001b[0m\u001b[0mgca\u001b[0m\u001b[1;33m(\u001b[0m\u001b[1;33m)\u001b[0m\u001b[1;33m\u001b[0m\u001b[1;33m\u001b[0m\u001b[0m\n\u001b[0m\u001b[0;32m      2\u001b[0m \u001b[1;33m\u001b[0m\u001b[0m\n\u001b[0;32m      3\u001b[0m \u001b[0max0\u001b[0m \u001b[1;33m=\u001b[0m \u001b[0mfig\u001b[0m\u001b[1;33m.\u001b[0m\u001b[0madd_axes\u001b[0m\u001b[1;33m(\u001b[0m \u001b[1;33m(\u001b[0m\u001b[1;36m0\u001b[0m\u001b[1;33m,\u001b[0m\u001b[1;36m0\u001b[0m\u001b[1;33m,\u001b[0m\u001b[1;36m1\u001b[0m\u001b[1;33m,\u001b[0m\u001b[1;36m1\u001b[0m\u001b[1;33m)\u001b[0m\u001b[1;33m)\u001b[0m\u001b[1;33m\u001b[0m\u001b[1;33m\u001b[0m\u001b[0m\n\u001b[0;32m      4\u001b[0m \u001b[0max0\u001b[0m\u001b[1;33m.\u001b[0m\u001b[0maxis\u001b[0m\u001b[1;33m(\u001b[0m\u001b[1;34m'Off'\u001b[0m\u001b[1;33m)\u001b[0m \u001b[1;31m# don't draw anything.\u001b[0m\u001b[1;33m\u001b[0m\u001b[1;33m\u001b[0m\u001b[0m\n\u001b[0;32m      5\u001b[0m \u001b[1;33m\u001b[0m\u001b[0m\n",
      "\u001b[1;31mNameError\u001b[0m: name 'fig' is not defined"
     ]
    }
   ],
   "source": [
    "ax = fig.gca()\n",
    "\n",
    "ax0 = fig.add_axes( (0,0,1,1))\n",
    "ax0.axis('Off') # don't draw anything.\n",
    "\n",
    "ax0.text ( -0.5, 1 ,\n",
    "         'Based on survey of 100 students conducted '\n",
    "         'before and after pilot program '\n",
    "         '(100% response rate on both surveys).',\n",
    "         fontsize=10.5,\n",
    "         color=GRAY3)\n",
    "\n",
    "fig"
   ]
  },
  {
   "cell_type": "code",
   "execution_count": null,
   "metadata": {},
   "outputs": [],
   "source": [
    "ax = fig.gca()\n",
    "pos1 = ax.get_position() # get the original position \n",
    "pos2 = [pos1.x0 + 0.3, pos1.y0 + 0.3,  pos1.width / 2.0, pos1.height / 2.0] \n",
    "ax.set_position(pos2) # set a new position\n",
    "print (pos2)"
   ]
  },
  {
   "cell_type": "code",
   "execution_count": null,
   "metadata": {},
   "outputs": [],
   "source": [
    "def bbc_style():\n",
    "    #font = \"Helvetica\"\n",
    "    font = \"Arial\"  \n",
    "    \n",
    "    t = theme(plot_title=element_text(family=font,\n",
    "                                      size=28, face=\"bold\", color=GRAY9),\n",
    "              #       plot_subtitle=element_text(family=font,\n",
    "              #                                  size=22, plot_margin=(9, 0, 9, 0)), plot_caption=element_blank(),\n",
    "\n",
    "              legend_position=\"top\", legend_title_align=0, legend_background=element_blank(),\n",
    "              legend_title=element_blank(), legend_key=element_blank(),\n",
    "              legend_text=element_text(family=font, size=18,\n",
    "                                       color=\"#222222\"), axis_title=element_blank(),\n",
    "\n",
    "              axis_text=element_text(family=font, size=18,color=\"#222222\"),\n",
    "              \n",
    "              axis_text_x=element_text(margin={'t': 5, 'b': 10}),\n",
    "              axis_ticks=element_blank(),\n",
    "              axis_line=element_blank(), panel_grid_minor=element_blank(),\n",
    "\n",
    "              panel_grid_major_y=element_line(color=\"#cbcbcb\"),\n",
    "              panel_grid_major_x=element_blank(), panel_background=element_blank(),\n",
    "              strip_background=element_rect(fill=\"white\"),\n",
    "              strip_text=element_text(size=22, hjust=0)\n",
    "              )\n",
    "    return t"
   ]
  },
  {
   "cell_type": "code",
   "execution_count": null,
   "metadata": {},
   "outputs": [],
   "source": [
    "ax = fig.gca()\n",
    "#pos1 = ax.get_position() # get the original position \n",
    "ax.set_position ( [ 0.5, 0.1, 0.9, 0.9  ])\n"
   ]
  },
  {
   "cell_type": "code",
   "execution_count": null,
   "metadata": {},
   "outputs": [],
   "source": [
    "ax = fig.gca()\n",
    "\n",
    "# Pop in a title.\n",
    "ax0 = fig.add_axes( (0,0,1,1))\n",
    "ax0.axis('Off') # don't draw anything.\n",
    "#ax0.text ( 0, 1 ,'A title', fontsize=10.5,color=GRAY3)\n",
    "\n",
    "#ax.tick_params (axis='x', width=3 ,labelsize=2, colors=GRAY7, labeltop=True, labelbottom=False,  labelcolor=GRAY5)\n",
    "#ax.yaxis.set_label_position('right') \n",
    "#ax.yaxis.set_label_coords ( 0.2  , -0.01)\n",
    "\n",
    "\n",
    "ax.set_xlabel('Concerns per 1000', horizontalalignment='left', y=1.0, x=0.15)    \n",
    "ax.xaxis.set_label_position('top') \n",
    "#ax.xaxis.set_label_coords ( 0.2, 1.1)\n"
   ]
  },
  {
   "cell_type": "code",
   "execution_count": 14,
   "metadata": {},
   "outputs": [
    {
     "name": "stderr",
     "output_type": "stream",
     "text": [
      "C:\\Users\\John\\anaconda3\\lib\\site-packages\\ipykernel_launcher.py:26: UserWarning: Matplotlib is currently using module://ipykernel.pylab.backend_inline, which is a non-GUI backend, so cannot show the figure.\n"
     ]
    },
    {
     "data": {
      "image/png": "[encoded data removed]",
      "text/plain": [
       "<Figure size 640x480 with 3 Axes>"
      ]
     },
     "metadata": {},
     "output_type": "display_data"
    }
   ],
   "source": [
    "#https://github.com/has2k1/plotnine/issues/373\n",
    "\n",
    "import plotnine as p9\n",
    "from matplotlib import gridspec\n",
    "import matplotlib.pyplot as plt\n",
    "from plotnine import data\n",
    "\n",
    "%matplotlib inline\n",
    "\n",
    "# Create subplots using plotnine\n",
    "p1 = (p9.ggplot(data.diamonds, p9.aes(x='cut',y='carat'))+p9.geom_point())\n",
    "p2 = (p9.ggplot(data.diamonds, p9.aes(x='x',y='y'))+p9.geom_point())\n",
    "\n",
    "# Empty plotnine figure to place the subplots on. Needs junk data (for backend \"copy\" reasons).\n",
    "fig = (p9.ggplot()+p9.geom_blank(data=data.diamonds)+p9.theme_void()).draw(show=False, return_ggplot=False)  \n",
    "\n",
    "# Create gridspec for adding subpanels to the blank figure\n",
    "gs = gridspec.GridSpec(2,1)\n",
    "ax1 = fig.add_subplot(gs[0,0])\n",
    "ax2 = fig.add_subplot(gs[1,0])\n",
    "\n",
    "# Add subplots to the figure\n",
    "_ = p1._draw_using_figure(fig, [ax1])\n",
    "_ = p2._draw_using_figure(fig, [ax2])\n",
    "\n",
    "fig.show()"
   ]
  },
  {
   "cell_type": "code",
   "execution_count": null,
   "metadata": {},
   "outputs": [],
   "source": [
    "https://github.com/has2k1/plotnine/issues/431\n",
    "#Patchwork\n",
    "https://github.com/has2k1/plotnine/issues/46"
   ]
  }
 ],
 "metadata": {
  "kernelspec": {
   "display_name": "Python 3",
   "language": "python",
   "name": "python3"
  },
  "language_info": {
   "codemirror_mode": {
    "name": "ipython",
    "version": 3
   },
   "file_extension": ".py",
   "mimetype": "text/x-python",
   "name": "python",
   "nbconvert_exporter": "python",
   "pygments_lexer": "ipython3",
   "version": "3.7.6"
  }
 },
 "nbformat": 4,
 "nbformat_minor": 4
}
